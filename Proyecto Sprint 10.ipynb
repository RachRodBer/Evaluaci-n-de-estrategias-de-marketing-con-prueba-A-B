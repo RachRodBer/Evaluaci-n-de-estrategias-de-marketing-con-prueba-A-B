{
 "cells": [
  {
   "cell_type": "markdown",
   "metadata": {},
   "source": [
    "¡Hola Rachel! Como te va?\n",
    "\n",
    "Mi nombre es Emanuel Fitta! Un gusto conocerte, seré tu revisor en este proyecto.\n",
    "\n",
    "A continuación un poco sobre la modalidad de revisión que usaremos:\n",
    "\n",
    "Cuando enccuentro un error por primera vez, simplemente lo señalaré, te dejaré encontrarlo y arreglarlo tú cuenta. Además, a lo largo del texto iré haciendo algunas observaciones sobre mejora en tu código y también haré comentarios sobre tus percepciones sobre el tema. Pero si aún no puedes realizar esta tarea, te daré una pista más precisa en la próxima iteración y también algunos ejemplos prácticos. Estaré abierto a comentarios y discusiones sobre el tema.\n",
    "\n",
    "Encontrará mis comentarios a continuación: **no los mueva, modifique ni elimine**.\n",
    "\n",
    "Puedes encontrar mis comentarios en cuadros verdes, amarillos o rojos como este:\n",
    "\n",
    "<div class=\"alert alert-block alert-success\">\n",
    "<b>Comentario del revisor.</b> <a class=\"tocSkip\"></a>\n",
    "\n",
    "Exito. Todo se ha hecho de forma exitosa.\n",
    "</div>\n",
    "\n",
    "<div class=\"alert alert-block alert-warning\">\n",
    "<b>Comentario del revisor.</b> <a class=\"tocSkip\"></a>\n",
    "\n",
    "Observación. Algunas recomendaciones.\n",
    "</div>\n",
    "\n",
    "<div class=\"alert alert-block alert-danger\">\n",
    "\n",
    "<b>Comentario del revisor.</b> <a class=\"tocSkip\"></a>\n",
    "\n",
    "Necesita arreglos. Este apartado necesita algunas correcciones. El trabajo no puede ser aceptado con comentarios rojos. \n",
    "</div>\n",
    "\n",
    "Puedes responder utilizando esto:\n",
    "\n",
    "<div class=\"alert alert-block alert-info\">\n",
    "<b>Respuesta de estudiante.</b> <a class=\"tocSkip\"></a>\n",
    "</div>"
   ]
  },
  {
   "cell_type": "code",
   "execution_count": null,
   "metadata": {},
   "outputs": [],
   "source": []
  },
  {
   "cell_type": "code",
   "execution_count": null,
   "metadata": {},
   "outputs": [],
   "source": []
  },
  {
   "cell_type": "code",
   "execution_count": null,
   "metadata": {},
   "outputs": [],
   "source": []
  },
  {
   "cell_type": "markdown",
   "metadata": {},
   "source": [
    "<div class=\"alert alert-block alert-success\">\n",
    "<b>Review General. (Iteración 1) </b> <a class=\"tocSkip\"></a>\n",
    "\n",
    "Buen día Rachel! Dejame felicitarte por el gran trabajo que has realizado, has desarrollado gráficos muy interesantes a los cuales se les puede sacar muchos insights. Verdaderamente creo que realizaste un excelente proyecto, profundizas bastante en lo que los datos nos dicen y se nota rigurosidad en tus procedimientos, análsisi y test estadísticos. Lo hiciste de manera excepcional. Así que no me queda más que desearte mucho éxito, éxito que estoy seguro que tendrás. Sin más, fue un gusto poder revisar tu proyecto, ten un gran día.\n",
    "    \n"
   ]
  },
  {
   "cell_type": "markdown",
   "metadata": {},
   "source": [
    "\n",
    "# Evaluación y Priorización de Hipótesis de Marketing para Incrementar Ingresos de una Tienda Online mediante Prueba A/B"
   ]
  },
  {
   "cell_type": "markdown",
   "metadata": {},
   "source": [
    "Introducción\n",
    "\n",
    "Este proyecto busca identificar y validar estrategias de marketing para incrementar ingresos en una tienda online. El objetivo es priorizar hipótesis potenciales y evaluar su impacto a través de una prueba A/B.\n",
    "\n",
    "\n",
    "Objetivo\n",
    "\n",
    "Priorizar hipótesis para seleccionar las más prometedoras en términos de impacto.\n",
    "Evaluar resultados del test A/B comparando ingresos acumulados, tamaño promedio de pedido y tasa de conversión entre grupos.\n",
    "Tomar decisiones basadas en análisis estadísticos sobre la implementación de estrategias.\n",
    "\n",
    "\n",
    "Etapas de Análisis\n",
    "\n",
    "Priorización de Hipótesis: \n",
    "Aplicar los frameworks ICE y RICE para ordenar las hipótesis y seleccionar las más efectivas.\n",
    "\n",
    "Análisis del Test A/B: \n",
    "Comparar ingresos, tamaño de pedido y tasas de conversión acumuladas entre los grupos de prueba.\n",
    "\n",
    "Analizar la significancia estadística en diferencias de conversión y tamaño de pedido.\n",
    "\n",
    "Identificar valores anómalos mediante percentiles y determinar patrones en pedidos y precios.\n",
    "\n",
    "Decisión Final: Evaluar si es conveniente implementar las hipótesis basándose en los resultados del test A/B.\n",
    "\n",
    "\n",
    "\n",
    "Conclusión\n",
    "\n",
    "Al final de este análisis sabremos identificar las mejores estrategias de marketing para aumentar ingresos y tomar decisiones fundamentadas sobre las pruebas A/B "
   ]
  },
  {
   "cell_type": "markdown",
   "metadata": {},
   "source": [
    "Comenzamos con el análisis de los datos. En esta etapa, revisaremos la información disponible, evaluaremos su formato y corregiremos cualquier posible error de formato."
   ]
  },
  {
   "cell_type": "code",
   "execution_count": 1,
   "metadata": {},
   "outputs": [],
   "source": [
    "# Importamos las librerías que usaremos \n",
    "import pandas as pd\n",
    "import numpy as np\n",
    "import matplotlib.pyplot as plt \n",
    "import datetime as dt\n",
    "from scipy.stats import mannwhitneyu"
   ]
  },
  {
   "cell_type": "code",
   "execution_count": 2,
   "metadata": {},
   "outputs": [],
   "source": [
    "# Cargamos los data sets que utilizaremos \n",
    "hipotesis = pd.read_csv('/datasets/hypotheses_us.csv', sep = ';')\n",
    "orders = pd.read_csv('/datasets/orders_us.csv')\n",
    "visits = pd.read_csv('/datasets/visits_us.csv')\n"
   ]
  },
  {
   "cell_type": "markdown",
   "metadata": {},
   "source": [
    "<div class=\"alert alert-block alert-success\">\n",
    "<b>Comentario del revisor. (Iteración 1) </b> <a class=\"tocSkip\"></a>\n",
    "\n",
    "Muy bien utilizado el parámetro sep para leer correctamente el archivo."
   ]
  },
  {
   "cell_type": "code",
   "execution_count": 3,
   "metadata": {},
   "outputs": [
    {
     "data": {
      "text/html": [
       "<div>\n",
       "<style scoped>\n",
       "    .dataframe tbody tr th:only-of-type {\n",
       "        vertical-align: middle;\n",
       "    }\n",
       "\n",
       "    .dataframe tbody tr th {\n",
       "        vertical-align: top;\n",
       "    }\n",
       "\n",
       "    .dataframe thead th {\n",
       "        text-align: right;\n",
       "    }\n",
       "</style>\n",
       "<table border=\"1\" class=\"dataframe\">\n",
       "  <thead>\n",
       "    <tr style=\"text-align: right;\">\n",
       "      <th></th>\n",
       "      <th>Hypothesis</th>\n",
       "      <th>Reach</th>\n",
       "      <th>Impact</th>\n",
       "      <th>Confidence</th>\n",
       "      <th>Effort</th>\n",
       "    </tr>\n",
       "  </thead>\n",
       "  <tbody>\n",
       "    <tr>\n",
       "      <th>0</th>\n",
       "      <td>Add two new channels for attracting traffic. T...</td>\n",
       "      <td>3</td>\n",
       "      <td>10</td>\n",
       "      <td>8</td>\n",
       "      <td>6</td>\n",
       "    </tr>\n",
       "    <tr>\n",
       "      <th>1</th>\n",
       "      <td>Launch your own delivery service. This will sh...</td>\n",
       "      <td>2</td>\n",
       "      <td>5</td>\n",
       "      <td>4</td>\n",
       "      <td>10</td>\n",
       "    </tr>\n",
       "    <tr>\n",
       "      <th>2</th>\n",
       "      <td>Add product recommendation blocks to the store...</td>\n",
       "      <td>8</td>\n",
       "      <td>3</td>\n",
       "      <td>7</td>\n",
       "      <td>3</td>\n",
       "    </tr>\n",
       "    <tr>\n",
       "      <th>3</th>\n",
       "      <td>Change the category structure. This will incre...</td>\n",
       "      <td>8</td>\n",
       "      <td>3</td>\n",
       "      <td>3</td>\n",
       "      <td>8</td>\n",
       "    </tr>\n",
       "    <tr>\n",
       "      <th>4</th>\n",
       "      <td>Change the background color on the main page. ...</td>\n",
       "      <td>3</td>\n",
       "      <td>1</td>\n",
       "      <td>1</td>\n",
       "      <td>1</td>\n",
       "    </tr>\n",
       "  </tbody>\n",
       "</table>\n",
       "</div>"
      ],
      "text/plain": [
       "                                          Hypothesis  Reach  Impact  \\\n",
       "0  Add two new channels for attracting traffic. T...      3      10   \n",
       "1  Launch your own delivery service. This will sh...      2       5   \n",
       "2  Add product recommendation blocks to the store...      8       3   \n",
       "3  Change the category structure. This will incre...      8       3   \n",
       "4  Change the background color on the main page. ...      3       1   \n",
       "\n",
       "   Confidence  Effort  \n",
       "0           8       6  \n",
       "1           4      10  \n",
       "2           7       3  \n",
       "3           3       8  \n",
       "4           1       1  "
      ]
     },
     "execution_count": 3,
     "metadata": {},
     "output_type": "execute_result"
    }
   ],
   "source": [
    "# Verificamos la información que contiene el dataset hipótesis\n",
    "hipotesis.head()"
   ]
  },
  {
   "cell_type": "code",
   "execution_count": 4,
   "metadata": {},
   "outputs": [
    {
     "name": "stdout",
     "output_type": "stream",
     "text": [
      "<class 'pandas.core.frame.DataFrame'>\n",
      "RangeIndex: 9 entries, 0 to 8\n",
      "Data columns (total 5 columns):\n",
      " #   Column      Non-Null Count  Dtype \n",
      "---  ------      --------------  ----- \n",
      " 0   Hypothesis  9 non-null      object\n",
      " 1   Reach       9 non-null      int64 \n",
      " 2   Impact      9 non-null      int64 \n",
      " 3   Confidence  9 non-null      int64 \n",
      " 4   Effort      9 non-null      int64 \n",
      "dtypes: int64(4), object(1)\n",
      "memory usage: 488.0+ bytes\n"
     ]
    }
   ],
   "source": [
    "# Analizamos la informacion del DF hipotesis \n",
    "hipotesis.info()"
   ]
  },
  {
   "cell_type": "code",
   "execution_count": 5,
   "metadata": {},
   "outputs": [
    {
     "data": {
      "text/plain": [
       "Hypothesis    0\n",
       "Reach         0\n",
       "Impact        0\n",
       "Confidence    0\n",
       "Effort        0\n",
       "dtype: int64"
      ]
     },
     "execution_count": 5,
     "metadata": {},
     "output_type": "execute_result"
    }
   ],
   "source": [
    "# Verificamos que no tenga valores nulos\n",
    "hipotesis.isna().sum()"
   ]
  },
  {
   "cell_type": "code",
   "execution_count": 6,
   "metadata": {},
   "outputs": [
    {
     "data": {
      "text/plain": [
       "0"
      ]
     },
     "execution_count": 6,
     "metadata": {},
     "output_type": "execute_result"
    }
   ],
   "source": [
    "# Verificamos que no tenga valores duplicados\n",
    "hipotesis.duplicated().sum()"
   ]
  },
  {
   "cell_type": "code",
   "execution_count": 7,
   "metadata": {},
   "outputs": [
    {
     "data": {
      "text/html": [
       "<div>\n",
       "<style scoped>\n",
       "    .dataframe tbody tr th:only-of-type {\n",
       "        vertical-align: middle;\n",
       "    }\n",
       "\n",
       "    .dataframe tbody tr th {\n",
       "        vertical-align: top;\n",
       "    }\n",
       "\n",
       "    .dataframe thead th {\n",
       "        text-align: right;\n",
       "    }\n",
       "</style>\n",
       "<table border=\"1\" class=\"dataframe\">\n",
       "  <thead>\n",
       "    <tr style=\"text-align: right;\">\n",
       "      <th></th>\n",
       "      <th>transactionId</th>\n",
       "      <th>visitorId</th>\n",
       "      <th>date</th>\n",
       "      <th>revenue</th>\n",
       "      <th>group</th>\n",
       "    </tr>\n",
       "  </thead>\n",
       "  <tbody>\n",
       "    <tr>\n",
       "      <th>0</th>\n",
       "      <td>3667963787</td>\n",
       "      <td>3312258926</td>\n",
       "      <td>2019-08-15</td>\n",
       "      <td>30.4</td>\n",
       "      <td>B</td>\n",
       "    </tr>\n",
       "    <tr>\n",
       "      <th>1</th>\n",
       "      <td>2804400009</td>\n",
       "      <td>3642806036</td>\n",
       "      <td>2019-08-15</td>\n",
       "      <td>15.2</td>\n",
       "      <td>B</td>\n",
       "    </tr>\n",
       "    <tr>\n",
       "      <th>2</th>\n",
       "      <td>2961555356</td>\n",
       "      <td>4069496402</td>\n",
       "      <td>2019-08-15</td>\n",
       "      <td>10.2</td>\n",
       "      <td>A</td>\n",
       "    </tr>\n",
       "    <tr>\n",
       "      <th>3</th>\n",
       "      <td>3797467345</td>\n",
       "      <td>1196621759</td>\n",
       "      <td>2019-08-15</td>\n",
       "      <td>155.1</td>\n",
       "      <td>B</td>\n",
       "    </tr>\n",
       "    <tr>\n",
       "      <th>4</th>\n",
       "      <td>2282983706</td>\n",
       "      <td>2322279887</td>\n",
       "      <td>2019-08-15</td>\n",
       "      <td>40.5</td>\n",
       "      <td>B</td>\n",
       "    </tr>\n",
       "  </tbody>\n",
       "</table>\n",
       "</div>"
      ],
      "text/plain": [
       "   transactionId   visitorId        date  revenue group\n",
       "0     3667963787  3312258926  2019-08-15     30.4     B\n",
       "1     2804400009  3642806036  2019-08-15     15.2     B\n",
       "2     2961555356  4069496402  2019-08-15     10.2     A\n",
       "3     3797467345  1196621759  2019-08-15    155.1     B\n",
       "4     2282983706  2322279887  2019-08-15     40.5     B"
      ]
     },
     "execution_count": 7,
     "metadata": {},
     "output_type": "execute_result"
    }
   ],
   "source": [
    "# Verificamos la información que contiene el dataset orders\n",
    "orders.head()"
   ]
  },
  {
   "cell_type": "code",
   "execution_count": 8,
   "metadata": {},
   "outputs": [
    {
     "name": "stdout",
     "output_type": "stream",
     "text": [
      "<class 'pandas.core.frame.DataFrame'>\n",
      "RangeIndex: 1197 entries, 0 to 1196\n",
      "Data columns (total 5 columns):\n",
      " #   Column         Non-Null Count  Dtype  \n",
      "---  ------         --------------  -----  \n",
      " 0   transactionId  1197 non-null   int64  \n",
      " 1   visitorId      1197 non-null   int64  \n",
      " 2   date           1197 non-null   object \n",
      " 3   revenue        1197 non-null   float64\n",
      " 4   group          1197 non-null   object \n",
      "dtypes: float64(1), int64(2), object(2)\n",
      "memory usage: 46.9+ KB\n"
     ]
    }
   ],
   "source": [
    "# Analizamos la informacion del DF orders \n",
    "orders.info()"
   ]
  },
  {
   "cell_type": "code",
   "execution_count": 9,
   "metadata": {},
   "outputs": [
    {
     "data": {
      "text/plain": [
       "transactionId    0\n",
       "visitorId        0\n",
       "date             0\n",
       "revenue          0\n",
       "group            0\n",
       "dtype: int64"
      ]
     },
     "execution_count": 9,
     "metadata": {},
     "output_type": "execute_result"
    }
   ],
   "source": [
    "# Verificamos que no tenga valores nulos\n",
    "orders.isna().sum()"
   ]
  },
  {
   "cell_type": "code",
   "execution_count": 10,
   "metadata": {},
   "outputs": [
    {
     "data": {
      "text/plain": [
       "0"
      ]
     },
     "execution_count": 10,
     "metadata": {},
     "output_type": "execute_result"
    }
   ],
   "source": [
    "# Verificamos que no tenga valores duplicados\n",
    "orders.duplicated().sum()"
   ]
  },
  {
   "cell_type": "markdown",
   "metadata": {},
   "source": [
    "<div class=\"alert alert-block alert-success\">\n",
    "<b>Comentario del revisor. (Iteración 1) </b> <a class=\"tocSkip\"></a>\n",
    "\n",
    "Perfecto al revisar duplicados y nulos, es fundamental realizar este paso para limpiar el dataframe."
   ]
  },
  {
   "cell_type": "code",
   "execution_count": 11,
   "metadata": {},
   "outputs": [
    {
     "name": "stdout",
     "output_type": "stream",
     "text": [
      "<class 'pandas.core.frame.DataFrame'>\n",
      "RangeIndex: 1197 entries, 0 to 1196\n",
      "Data columns (total 5 columns):\n",
      " #   Column         Non-Null Count  Dtype         \n",
      "---  ------         --------------  -----         \n",
      " 0   transactionId  1197 non-null   int64         \n",
      " 1   visitorId      1197 non-null   int64         \n",
      " 2   date           1197 non-null   datetime64[ns]\n",
      " 3   revenue        1197 non-null   float64       \n",
      " 4   group          1197 non-null   object        \n",
      "dtypes: datetime64[ns](1), float64(1), int64(2), object(1)\n",
      "memory usage: 46.9+ KB\n"
     ]
    }
   ],
   "source": [
    "# Convertimos la columna 'date' a formato datetime\n",
    "orders['date'] = pd.to_datetime(orders['date'],format= '%Y-%m-%d %H:%M:%S')\n",
    "orders.info()"
   ]
  },
  {
   "cell_type": "code",
   "execution_count": 12,
   "metadata": {},
   "outputs": [
    {
     "data": {
      "text/html": [
       "<div>\n",
       "<style scoped>\n",
       "    .dataframe tbody tr th:only-of-type {\n",
       "        vertical-align: middle;\n",
       "    }\n",
       "\n",
       "    .dataframe tbody tr th {\n",
       "        vertical-align: top;\n",
       "    }\n",
       "\n",
       "    .dataframe thead th {\n",
       "        text-align: right;\n",
       "    }\n",
       "</style>\n",
       "<table border=\"1\" class=\"dataframe\">\n",
       "  <thead>\n",
       "    <tr style=\"text-align: right;\">\n",
       "      <th></th>\n",
       "      <th>date</th>\n",
       "      <th>group</th>\n",
       "      <th>visits</th>\n",
       "    </tr>\n",
       "  </thead>\n",
       "  <tbody>\n",
       "    <tr>\n",
       "      <th>0</th>\n",
       "      <td>2019-08-01</td>\n",
       "      <td>A</td>\n",
       "      <td>719</td>\n",
       "    </tr>\n",
       "    <tr>\n",
       "      <th>1</th>\n",
       "      <td>2019-08-02</td>\n",
       "      <td>A</td>\n",
       "      <td>619</td>\n",
       "    </tr>\n",
       "    <tr>\n",
       "      <th>2</th>\n",
       "      <td>2019-08-03</td>\n",
       "      <td>A</td>\n",
       "      <td>507</td>\n",
       "    </tr>\n",
       "    <tr>\n",
       "      <th>3</th>\n",
       "      <td>2019-08-04</td>\n",
       "      <td>A</td>\n",
       "      <td>717</td>\n",
       "    </tr>\n",
       "    <tr>\n",
       "      <th>4</th>\n",
       "      <td>2019-08-05</td>\n",
       "      <td>A</td>\n",
       "      <td>756</td>\n",
       "    </tr>\n",
       "  </tbody>\n",
       "</table>\n",
       "</div>"
      ],
      "text/plain": [
       "         date group  visits\n",
       "0  2019-08-01     A     719\n",
       "1  2019-08-02     A     619\n",
       "2  2019-08-03     A     507\n",
       "3  2019-08-04     A     717\n",
       "4  2019-08-05     A     756"
      ]
     },
     "execution_count": 12,
     "metadata": {},
     "output_type": "execute_result"
    }
   ],
   "source": [
    "# Verificamos la información que contiene el dataset visits\n",
    "visits.head()"
   ]
  },
  {
   "cell_type": "code",
   "execution_count": 13,
   "metadata": {},
   "outputs": [
    {
     "name": "stdout",
     "output_type": "stream",
     "text": [
      "<class 'pandas.core.frame.DataFrame'>\n",
      "RangeIndex: 62 entries, 0 to 61\n",
      "Data columns (total 3 columns):\n",
      " #   Column  Non-Null Count  Dtype \n",
      "---  ------  --------------  ----- \n",
      " 0   date    62 non-null     object\n",
      " 1   group   62 non-null     object\n",
      " 2   visits  62 non-null     int64 \n",
      "dtypes: int64(1), object(2)\n",
      "memory usage: 1.6+ KB\n"
     ]
    }
   ],
   "source": [
    "# Analizamos la informacion del DF visits \n",
    "visits.info()"
   ]
  },
  {
   "cell_type": "code",
   "execution_count": 14,
   "metadata": {},
   "outputs": [
    {
     "data": {
      "text/plain": [
       "date      0\n",
       "group     0\n",
       "visits    0\n",
       "dtype: int64"
      ]
     },
     "execution_count": 14,
     "metadata": {},
     "output_type": "execute_result"
    }
   ],
   "source": [
    "# Verificamos que no tenga valores nulos\n",
    "visits.isna().sum()"
   ]
  },
  {
   "cell_type": "code",
   "execution_count": 15,
   "metadata": {},
   "outputs": [
    {
     "data": {
      "text/plain": [
       "0"
      ]
     },
     "execution_count": 15,
     "metadata": {},
     "output_type": "execute_result"
    }
   ],
   "source": [
    "# Verificamos que no tenga valores duplicados\n",
    "visits.duplicated().sum()"
   ]
  },
  {
   "cell_type": "code",
   "execution_count": 16,
   "metadata": {},
   "outputs": [
    {
     "name": "stdout",
     "output_type": "stream",
     "text": [
      "<class 'pandas.core.frame.DataFrame'>\n",
      "RangeIndex: 62 entries, 0 to 61\n",
      "Data columns (total 3 columns):\n",
      " #   Column  Non-Null Count  Dtype         \n",
      "---  ------  --------------  -----         \n",
      " 0   date    62 non-null     datetime64[ns]\n",
      " 1   group   62 non-null     object        \n",
      " 2   visits  62 non-null     int64         \n",
      "dtypes: datetime64[ns](1), int64(1), object(1)\n",
      "memory usage: 1.6+ KB\n"
     ]
    }
   ],
   "source": [
    "# Convertimos la columna 'date' a formato datetime\n",
    "visits['date'] = pd.to_datetime(visits['date'],format= '%Y-%m-%d %H:%M:%S')\n",
    "visits.info()"
   ]
  },
  {
   "cell_type": "markdown",
   "metadata": {},
   "source": [
    "<div class=\"alert alert-block alert-success\">\n",
    "<b>Comentario del revisor. (Iteración 1) </b> <a class=\"tocSkip\"></a>\n",
    "\n",
    "Correcto Rachel! Transformar a formato de fecha es lo mejor para evitar problemas más adelante."
   ]
  },
  {
   "cell_type": "markdown",
   "metadata": {},
   "source": [
    "<div style=\"background-color: lightblue; padding: 10px; border-radius: 5px;\">\n",
    "Después del análisis de los datos, observamos que, en los data frames orders y visits, las fechas estaban en un formato incorrecto, por lo que las convertimos al formato datetime.\n"
   ]
  },
  {
   "cell_type": "markdown",
   "metadata": {},
   "source": [
    "A continuación, procederemos al análisis para priorizar las hipótesis. Para ello:\n",
    "\n",
    "Aplicaremos el framework ICE (Impacto, Confianza, Facilidad), que nos permite clasificar las hipótesis en función de su impacto potencial, la confianza en los resultados y la facilidad de implementación.\n",
    "\n",
    "Luego aplicaremos el framework RICE (Impacto, Confianza, Facilidad, Alcance), que incluye un factor adicional, el alcance, que mide cuántos usuarios o personas se verían beneficiados por la hipótesis.\n",
    "\n",
    "Finalmente, compararemos los resultados de ambos métodos y explicaremos cómo y por qué cambia la priorización de hipótesis al utilizar RICE en lugar de ICE."
   ]
  },
  {
   "cell_type": "code",
   "execution_count": 17,
   "metadata": {},
   "outputs": [
    {
     "data": {
      "text/html": [
       "<div>\n",
       "<style scoped>\n",
       "    .dataframe tbody tr th:only-of-type {\n",
       "        vertical-align: middle;\n",
       "    }\n",
       "\n",
       "    .dataframe tbody tr th {\n",
       "        vertical-align: top;\n",
       "    }\n",
       "\n",
       "    .dataframe thead th {\n",
       "        text-align: right;\n",
       "    }\n",
       "</style>\n",
       "<table border=\"1\" class=\"dataframe\">\n",
       "  <thead>\n",
       "    <tr style=\"text-align: right;\">\n",
       "      <th></th>\n",
       "      <th>Hypothesis</th>\n",
       "      <th>Reach</th>\n",
       "      <th>Impact</th>\n",
       "      <th>Confidence</th>\n",
       "      <th>Effort</th>\n",
       "      <th>ICE</th>\n",
       "    </tr>\n",
       "  </thead>\n",
       "  <tbody>\n",
       "    <tr>\n",
       "      <th>8</th>\n",
       "      <td>Launch a promotion that gives users discounts ...</td>\n",
       "      <td>1</td>\n",
       "      <td>9</td>\n",
       "      <td>9</td>\n",
       "      <td>5</td>\n",
       "      <td>16.200000</td>\n",
       "    </tr>\n",
       "    <tr>\n",
       "      <th>0</th>\n",
       "      <td>Add two new channels for attracting traffic. T...</td>\n",
       "      <td>3</td>\n",
       "      <td>10</td>\n",
       "      <td>8</td>\n",
       "      <td>6</td>\n",
       "      <td>13.333333</td>\n",
       "    </tr>\n",
       "    <tr>\n",
       "      <th>7</th>\n",
       "      <td>Add a subscription form to all the main pages....</td>\n",
       "      <td>10</td>\n",
       "      <td>7</td>\n",
       "      <td>8</td>\n",
       "      <td>5</td>\n",
       "      <td>11.200000</td>\n",
       "    </tr>\n",
       "    <tr>\n",
       "      <th>6</th>\n",
       "      <td>Show banners with current offers and sales on ...</td>\n",
       "      <td>5</td>\n",
       "      <td>3</td>\n",
       "      <td>8</td>\n",
       "      <td>3</td>\n",
       "      <td>8.000000</td>\n",
       "    </tr>\n",
       "    <tr>\n",
       "      <th>2</th>\n",
       "      <td>Add product recommendation blocks to the store...</td>\n",
       "      <td>8</td>\n",
       "      <td>3</td>\n",
       "      <td>7</td>\n",
       "      <td>3</td>\n",
       "      <td>7.000000</td>\n",
       "    </tr>\n",
       "    <tr>\n",
       "      <th>1</th>\n",
       "      <td>Launch your own delivery service. This will sh...</td>\n",
       "      <td>2</td>\n",
       "      <td>5</td>\n",
       "      <td>4</td>\n",
       "      <td>10</td>\n",
       "      <td>2.000000</td>\n",
       "    </tr>\n",
       "    <tr>\n",
       "      <th>5</th>\n",
       "      <td>Add a customer review page. This will increase...</td>\n",
       "      <td>3</td>\n",
       "      <td>2</td>\n",
       "      <td>2</td>\n",
       "      <td>3</td>\n",
       "      <td>1.333333</td>\n",
       "    </tr>\n",
       "    <tr>\n",
       "      <th>3</th>\n",
       "      <td>Change the category structure. This will incre...</td>\n",
       "      <td>8</td>\n",
       "      <td>3</td>\n",
       "      <td>3</td>\n",
       "      <td>8</td>\n",
       "      <td>1.125000</td>\n",
       "    </tr>\n",
       "    <tr>\n",
       "      <th>4</th>\n",
       "      <td>Change the background color on the main page. ...</td>\n",
       "      <td>3</td>\n",
       "      <td>1</td>\n",
       "      <td>1</td>\n",
       "      <td>1</td>\n",
       "      <td>1.000000</td>\n",
       "    </tr>\n",
       "  </tbody>\n",
       "</table>\n",
       "</div>"
      ],
      "text/plain": [
       "                                          Hypothesis  Reach  Impact  \\\n",
       "8  Launch a promotion that gives users discounts ...      1       9   \n",
       "0  Add two new channels for attracting traffic. T...      3      10   \n",
       "7  Add a subscription form to all the main pages....     10       7   \n",
       "6  Show banners with current offers and sales on ...      5       3   \n",
       "2  Add product recommendation blocks to the store...      8       3   \n",
       "1  Launch your own delivery service. This will sh...      2       5   \n",
       "5  Add a customer review page. This will increase...      3       2   \n",
       "3  Change the category structure. This will incre...      8       3   \n",
       "4  Change the background color on the main page. ...      3       1   \n",
       "\n",
       "   Confidence  Effort        ICE  \n",
       "8           9       5  16.200000  \n",
       "0           8       6  13.333333  \n",
       "7           8       5  11.200000  \n",
       "6           8       3   8.000000  \n",
       "2           7       3   7.000000  \n",
       "1           4      10   2.000000  \n",
       "5           2       3   1.333333  \n",
       "3           3       8   1.125000  \n",
       "4           1       1   1.000000  "
      ]
     },
     "execution_count": 17,
     "metadata": {},
     "output_type": "execute_result"
    }
   ],
   "source": [
    "# Creamos la columna ICE y ordenamos de mayor a menor \n",
    "hipotesis['ICE'] = hipotesis['Impact']*hipotesis['Confidence']/hipotesis['Effort']\n",
    "hipotesis = hipotesis.sort_values(by='ICE', ascending=False)\n",
    "hipotesis"
   ]
  },
  {
   "cell_type": "markdown",
   "metadata": {},
   "source": []
  },
  {
   "cell_type": "code",
   "execution_count": 18,
   "metadata": {},
   "outputs": [
    {
     "data": {
      "text/plain": [
       "'Launch a promotion that gives users discounts on their birthdays'"
      ]
     },
     "execution_count": 18,
     "metadata": {},
     "output_type": "execute_result"
    }
   ],
   "source": [
    "# Identificamos la hipótesis que tiene mayor ICE\n",
    "hipotesis.iloc[0,0]"
   ]
  },
  {
   "cell_type": "code",
   "execution_count": 19,
   "metadata": {},
   "outputs": [
    {
     "data": {
      "text/html": [
       "<div>\n",
       "<style scoped>\n",
       "    .dataframe tbody tr th:only-of-type {\n",
       "        vertical-align: middle;\n",
       "    }\n",
       "\n",
       "    .dataframe tbody tr th {\n",
       "        vertical-align: top;\n",
       "    }\n",
       "\n",
       "    .dataframe thead th {\n",
       "        text-align: right;\n",
       "    }\n",
       "</style>\n",
       "<table border=\"1\" class=\"dataframe\">\n",
       "  <thead>\n",
       "    <tr style=\"text-align: right;\">\n",
       "      <th></th>\n",
       "      <th>Hypothesis</th>\n",
       "      <th>Reach</th>\n",
       "      <th>Impact</th>\n",
       "      <th>Confidence</th>\n",
       "      <th>Effort</th>\n",
       "      <th>ICE</th>\n",
       "      <th>RICE</th>\n",
       "    </tr>\n",
       "  </thead>\n",
       "  <tbody>\n",
       "    <tr>\n",
       "      <th>7</th>\n",
       "      <td>Add a subscription form to all the main pages....</td>\n",
       "      <td>10</td>\n",
       "      <td>7</td>\n",
       "      <td>8</td>\n",
       "      <td>5</td>\n",
       "      <td>11.200000</td>\n",
       "      <td>112.0</td>\n",
       "    </tr>\n",
       "    <tr>\n",
       "      <th>2</th>\n",
       "      <td>Add product recommendation blocks to the store...</td>\n",
       "      <td>8</td>\n",
       "      <td>3</td>\n",
       "      <td>7</td>\n",
       "      <td>3</td>\n",
       "      <td>7.000000</td>\n",
       "      <td>56.0</td>\n",
       "    </tr>\n",
       "    <tr>\n",
       "      <th>0</th>\n",
       "      <td>Add two new channels for attracting traffic. T...</td>\n",
       "      <td>3</td>\n",
       "      <td>10</td>\n",
       "      <td>8</td>\n",
       "      <td>6</td>\n",
       "      <td>13.333333</td>\n",
       "      <td>40.0</td>\n",
       "    </tr>\n",
       "    <tr>\n",
       "      <th>6</th>\n",
       "      <td>Show banners with current offers and sales on ...</td>\n",
       "      <td>5</td>\n",
       "      <td>3</td>\n",
       "      <td>8</td>\n",
       "      <td>3</td>\n",
       "      <td>8.000000</td>\n",
       "      <td>40.0</td>\n",
       "    </tr>\n",
       "    <tr>\n",
       "      <th>8</th>\n",
       "      <td>Launch a promotion that gives users discounts ...</td>\n",
       "      <td>1</td>\n",
       "      <td>9</td>\n",
       "      <td>9</td>\n",
       "      <td>5</td>\n",
       "      <td>16.200000</td>\n",
       "      <td>16.2</td>\n",
       "    </tr>\n",
       "    <tr>\n",
       "      <th>3</th>\n",
       "      <td>Change the category structure. This will incre...</td>\n",
       "      <td>8</td>\n",
       "      <td>3</td>\n",
       "      <td>3</td>\n",
       "      <td>8</td>\n",
       "      <td>1.125000</td>\n",
       "      <td>9.0</td>\n",
       "    </tr>\n",
       "    <tr>\n",
       "      <th>1</th>\n",
       "      <td>Launch your own delivery service. This will sh...</td>\n",
       "      <td>2</td>\n",
       "      <td>5</td>\n",
       "      <td>4</td>\n",
       "      <td>10</td>\n",
       "      <td>2.000000</td>\n",
       "      <td>4.0</td>\n",
       "    </tr>\n",
       "    <tr>\n",
       "      <th>5</th>\n",
       "      <td>Add a customer review page. This will increase...</td>\n",
       "      <td>3</td>\n",
       "      <td>2</td>\n",
       "      <td>2</td>\n",
       "      <td>3</td>\n",
       "      <td>1.333333</td>\n",
       "      <td>4.0</td>\n",
       "    </tr>\n",
       "    <tr>\n",
       "      <th>4</th>\n",
       "      <td>Change the background color on the main page. ...</td>\n",
       "      <td>3</td>\n",
       "      <td>1</td>\n",
       "      <td>1</td>\n",
       "      <td>1</td>\n",
       "      <td>1.000000</td>\n",
       "      <td>3.0</td>\n",
       "    </tr>\n",
       "  </tbody>\n",
       "</table>\n",
       "</div>"
      ],
      "text/plain": [
       "                                          Hypothesis  Reach  Impact  \\\n",
       "7  Add a subscription form to all the main pages....     10       7   \n",
       "2  Add product recommendation blocks to the store...      8       3   \n",
       "0  Add two new channels for attracting traffic. T...      3      10   \n",
       "6  Show banners with current offers and sales on ...      5       3   \n",
       "8  Launch a promotion that gives users discounts ...      1       9   \n",
       "3  Change the category structure. This will incre...      8       3   \n",
       "1  Launch your own delivery service. This will sh...      2       5   \n",
       "5  Add a customer review page. This will increase...      3       2   \n",
       "4  Change the background color on the main page. ...      3       1   \n",
       "\n",
       "   Confidence  Effort        ICE   RICE  \n",
       "7           8       5  11.200000  112.0  \n",
       "2           7       3   7.000000   56.0  \n",
       "0           8       6  13.333333   40.0  \n",
       "6           8       3   8.000000   40.0  \n",
       "8           9       5  16.200000   16.2  \n",
       "3           3       8   1.125000    9.0  \n",
       "1           4      10   2.000000    4.0  \n",
       "5           2       3   1.333333    4.0  \n",
       "4           1       1   1.000000    3.0  "
      ]
     },
     "execution_count": 19,
     "metadata": {},
     "output_type": "execute_result"
    }
   ],
   "source": [
    "# Creamos la columna RICE y ordenamos de mayor a menor \n",
    "hipotesis['RICE'] = (hipotesis['Reach']*hipotesis['Impact']*hipotesis['Confidence'])/hipotesis['Effort']\n",
    "hipotesis = hipotesis.sort_values(by='RICE', ascending=False)\n",
    "hipotesis"
   ]
  },
  {
   "cell_type": "code",
   "execution_count": 20,
   "metadata": {},
   "outputs": [
    {
     "data": {
      "text/plain": [
       "'Add a subscription form to all the main pages. This will help you compile a mailing list'"
      ]
     },
     "execution_count": 20,
     "metadata": {},
     "output_type": "execute_result"
    }
   ],
   "source": [
    "# Identificamos la hipótesis que tiene mayor ICE\n",
    "hipotesis.iloc[0,0]"
   ]
  },
  {
   "cell_type": "markdown",
   "metadata": {},
   "source": [
    "<div class=\"alert alert-block alert-success\">\n",
    "<b>Comentario del revisor. (Iteración 1) </b> <a class=\"tocSkip\"></a>\n",
    "\n",
    "Muy bien! Has calculado de manera correcat tanto ICE como RICE. Y precisamente, la conclusión que obtienes es correcta. "
   ]
  },
  {
   "cell_type": "markdown",
   "metadata": {},
   "source": [
    "<div style=\"background-color: lightblue; padding: 10px; border-radius: 5px;\">\n",
    "Los análisis con ICE y RICE muestran que la hipótesis 7 es la mejor opción para probar. Aunque en ICE la hipótesis 8 (\"Lanzar una promoción que ofrezca descuentos a los usuarios en sus cumpleaños\") obtiene la puntuación más alta, al considerar el alcance con RICE, la hipótesis 7 (\"Agregar un formulario de suscripción en todas las páginas principales para ayudar a compilar una lista de correos\") pasa a ser la prioridad. Esto sugiere que la hipótesis 7 no solo es viable en impacto y confianza, sino que también puede beneficiar a un mayor número de usuarios, maximizando su impacto general."
   ]
  },
  {
   "cell_type": "markdown",
   "metadata": {},
   "source": [
    "<div class=\"alert alert-block alert-success\">\n",
    "<b>Comentario del revisor. (Iteración 1) </b> <a class=\"tocSkip\"></a>\n",
    "\n",
    "Excelente por las conclusiones que obtuviste! Te felicito"
   ]
  },
  {
   "cell_type": "markdown",
   "metadata": {},
   "source": [
    "A continuación, realizaremos un análisis del test A/B con los siguientes pasos:\n",
    "\n",
    "1.- Representaremos gráficamente el ingreso acumulado por grupo.\n",
    "\n",
    "2.- Representaremos gráficamente el tamaño de pedido promedio acumulado por grupo. \n",
    "\n",
    "3.- Representaremos gráficamente la diferencia relativa en el tamaño de pedido promedio acumulado para el grupo B en comparación con el grupo A. \n",
    "\n",
    "4.- Calcularemos la tasa de conversión de cada grupo como la relación entre los pedidos y el número de visitas de cada día. Representaremos gráficamente las tasas de conversión diarias de los dos grupos y describiremos la diferencia. \n",
    "\n",
    "5.- Trazaremos un gráfico de dispersión del número de pedidos por usuario. \n",
    "\n",
    "6.- Calcularemos los percentiles 95 y 99 del número de pedidos por usuario. Definiremos el punto en el cual un punto de datos se convierte en una anomalía.\n",
    "\n",
    "7.- Trazaremos un gráfico de dispersión de los precios de los pedidos. \n",
    "\n",
    "8.- Calcularemos los percentiles 95 y 99 de los precios de los pedidos. Definiremos el punto en el cual un punto de datos se convierte en una anomalía.\n",
    "\n",
    "9.- Encontraremos la significancia estadística de la diferencia en la conversión entre los grupos utilizando los datos en bruto. \n",
    "\n",
    "10.- Encuentraremos la significancia estadística de la diferencia en el tamaño promedio de pedido entre los grupos utilizando los datos en bruto. \n",
    "\n",
    "11.- Encuentraremos la significancia estadística de la diferencia en la conversión entre los grupos utilizando los datos filtrados. \n",
    "\n",
    "12.- Encuentraremos la significancia estadística de la diferencia en el tamaño promedio de pedido entre los grupos utilizando los datos filtrados. \n",
    "\n",
    "13.- Tomaremos una decisión basada en los resultados de la prueba. Las decisiones posibles son: 1. Parar la prueba, considerar a uno de los grupos como líder. 2. Parar la prueba, concluir que no hay diferencia entre los grupos. 3. Continuar la prueba."
   ]
  },
  {
   "cell_type": "markdown",
   "metadata": {},
   "source": [
    "<div class=\"alert alert-block alert-success\">\n",
    "<b>Comentario del revisor. (Iteración 1) </b> <a class=\"tocSkip\"></a>\n",
    "\n",
    "Eso! Tener un plan es una gran idea! Además me parecen correctos cada uno de los pasos que pensaste!"
   ]
  },
  {
   "cell_type": "code",
   "execution_count": 21,
   "metadata": {},
   "outputs": [
    {
     "data": {
      "text/html": [
       "<div>\n",
       "<style scoped>\n",
       "    .dataframe tbody tr th:only-of-type {\n",
       "        vertical-align: middle;\n",
       "    }\n",
       "\n",
       "    .dataframe tbody tr th {\n",
       "        vertical-align: top;\n",
       "    }\n",
       "\n",
       "    .dataframe thead th {\n",
       "        text-align: right;\n",
       "    }\n",
       "</style>\n",
       "<table border=\"1\" class=\"dataframe\">\n",
       "  <thead>\n",
       "    <tr style=\"text-align: right;\">\n",
       "      <th></th>\n",
       "      <th>transactionId</th>\n",
       "      <th>visitorId</th>\n",
       "      <th>date</th>\n",
       "      <th>revenue</th>\n",
       "      <th>group</th>\n",
       "    </tr>\n",
       "  </thead>\n",
       "  <tbody>\n",
       "    <tr>\n",
       "      <th>0</th>\n",
       "      <td>3667963787</td>\n",
       "      <td>3312258926</td>\n",
       "      <td>2019-08-15</td>\n",
       "      <td>30.4</td>\n",
       "      <td>B</td>\n",
       "    </tr>\n",
       "    <tr>\n",
       "      <th>1</th>\n",
       "      <td>2804400009</td>\n",
       "      <td>3642806036</td>\n",
       "      <td>2019-08-15</td>\n",
       "      <td>15.2</td>\n",
       "      <td>B</td>\n",
       "    </tr>\n",
       "    <tr>\n",
       "      <th>2</th>\n",
       "      <td>2961555356</td>\n",
       "      <td>4069496402</td>\n",
       "      <td>2019-08-15</td>\n",
       "      <td>10.2</td>\n",
       "      <td>A</td>\n",
       "    </tr>\n",
       "    <tr>\n",
       "      <th>3</th>\n",
       "      <td>3797467345</td>\n",
       "      <td>1196621759</td>\n",
       "      <td>2019-08-15</td>\n",
       "      <td>155.1</td>\n",
       "      <td>B</td>\n",
       "    </tr>\n",
       "    <tr>\n",
       "      <th>4</th>\n",
       "      <td>2282983706</td>\n",
       "      <td>2322279887</td>\n",
       "      <td>2019-08-15</td>\n",
       "      <td>40.5</td>\n",
       "      <td>B</td>\n",
       "    </tr>\n",
       "  </tbody>\n",
       "</table>\n",
       "</div>"
      ],
      "text/plain": [
       "   transactionId   visitorId       date  revenue group\n",
       "0     3667963787  3312258926 2019-08-15     30.4     B\n",
       "1     2804400009  3642806036 2019-08-15     15.2     B\n",
       "2     2961555356  4069496402 2019-08-15     10.2     A\n",
       "3     3797467345  1196621759 2019-08-15    155.1     B\n",
       "4     2282983706  2322279887 2019-08-15     40.5     B"
      ]
     },
     "execution_count": 21,
     "metadata": {},
     "output_type": "execute_result"
    }
   ],
   "source": [
    "# Revisamos nuevamente el contenido del df Orders\n",
    "orders.head()"
   ]
  },
  {
   "cell_type": "code",
   "execution_count": 22,
   "metadata": {},
   "outputs": [
    {
     "data": {
      "text/plain": [
       "108"
      ]
     },
     "execution_count": 22,
     "metadata": {},
     "output_type": "execute_result"
    }
   ],
   "source": [
    "# Primero revisaremos si no existen usuarios duplicados en ambos grupos \n",
    "orders.duplicated(subset=['visitorId','group']).sum()"
   ]
  },
  {
   "cell_type": "markdown",
   "metadata": {},
   "source": [
    "<div style=\"background-color: lightblue; padding: 10px; border-radius: 5px;\">\n",
    "Hemos comprobado que existen datos duplicados. Por ahora, no eliminaremos los duplicados en ambos grupos, ya que pueden ser útiles para nuestro análisis. Por ejemplo, aunque los usuarios aparezcan en ambos grupos, podemos observar en cuál grupo realizan la compra más rápidamente. Sin embargo, eliminaremos los duplicados durante el análisis de compra, ya que podrían afectar métricas clave como el número de pedidos y la tasa de conversión. Esto nos permitirá obtener resultados más precisos y representativos.\n"
   ]
  },
  {
   "cell_type": "markdown",
   "metadata": {},
   "source": [
    "<div class=\"alert alert-block alert-success\">\n",
    "<b>Comentario del revisor. (Iteración 1) </b> <a class=\"tocSkip\"></a>\n",
    "\n",
    "Muy bien pensado! "
   ]
  },
  {
   "cell_type": "code",
   "execution_count": 23,
   "metadata": {
    "scrolled": true
   },
   "outputs": [
    {
     "data": {
      "text/html": [
       "<div>\n",
       "<style scoped>\n",
       "    .dataframe tbody tr th:only-of-type {\n",
       "        vertical-align: middle;\n",
       "    }\n",
       "\n",
       "    .dataframe tbody tr th {\n",
       "        vertical-align: top;\n",
       "    }\n",
       "\n",
       "    .dataframe thead th {\n",
       "        text-align: right;\n",
       "    }\n",
       "</style>\n",
       "<table border=\"1\" class=\"dataframe\">\n",
       "  <thead>\n",
       "    <tr style=\"text-align: right;\">\n",
       "      <th></th>\n",
       "      <th>date</th>\n",
       "      <th>group</th>\n",
       "    </tr>\n",
       "  </thead>\n",
       "  <tbody>\n",
       "    <tr>\n",
       "      <th>55</th>\n",
       "      <td>2019-08-01</td>\n",
       "      <td>A</td>\n",
       "    </tr>\n",
       "    <tr>\n",
       "      <th>66</th>\n",
       "      <td>2019-08-01</td>\n",
       "      <td>B</td>\n",
       "    </tr>\n",
       "    <tr>\n",
       "      <th>175</th>\n",
       "      <td>2019-08-02</td>\n",
       "      <td>A</td>\n",
       "    </tr>\n",
       "    <tr>\n",
       "      <th>173</th>\n",
       "      <td>2019-08-02</td>\n",
       "      <td>B</td>\n",
       "    </tr>\n",
       "    <tr>\n",
       "      <th>291</th>\n",
       "      <td>2019-08-03</td>\n",
       "      <td>A</td>\n",
       "    </tr>\n",
       "  </tbody>\n",
       "</table>\n",
       "</div>"
      ],
      "text/plain": [
       "          date group\n",
       "55  2019-08-01     A\n",
       "66  2019-08-01     B\n",
       "175 2019-08-02     A\n",
       "173 2019-08-02     B\n",
       "291 2019-08-03     A"
      ]
     },
     "execution_count": 23,
     "metadata": {},
     "output_type": "execute_result"
    }
   ],
   "source": [
    "# Filtramos combinaciones únicas de 'date' y 'group' y las ordenamos por fecha.\n",
    "groups_by_date = orders[['date','group']].drop_duplicates().sort_values(by='date')\n",
    "groups_by_date.head()"
   ]
  },
  {
   "cell_type": "code",
   "execution_count": 24,
   "metadata": {},
   "outputs": [
    {
     "data": {
      "text/plain": [
       "0    2587333274\n",
       "1     477780734\n",
       "2    2579882178\n",
       "3    2038680547\n",
       "4    1316129916\n",
       "Name: visitorId, dtype: int64"
      ]
     },
     "execution_count": 24,
     "metadata": {},
     "output_type": "execute_result"
    }
   ],
   "source": [
    "# Identificamos a los usuarios que realizaron compras el mismo dia en ambos grupos, \n",
    "# sin llamar a los usuarios que se encontraron en ambos grupos\n",
    "users_in_two_groups = orders.groupby(['visitorId','date'])['group'].nunique().sort_values(ascending=False).reset_index().query('group>1')\n",
    "users_in_two_groups['visitorId'].head()"
   ]
  },
  {
   "cell_type": "code",
   "execution_count": 25,
   "metadata": {},
   "outputs": [
    {
     "data": {
      "text/html": [
       "<div>\n",
       "<style scoped>\n",
       "    .dataframe tbody tr th:only-of-type {\n",
       "        vertical-align: middle;\n",
       "    }\n",
       "\n",
       "    .dataframe tbody tr th {\n",
       "        vertical-align: top;\n",
       "    }\n",
       "\n",
       "    .dataframe thead th {\n",
       "        text-align: right;\n",
       "    }\n",
       "</style>\n",
       "<table border=\"1\" class=\"dataframe\">\n",
       "  <thead>\n",
       "    <tr style=\"text-align: right;\">\n",
       "      <th></th>\n",
       "      <th>date</th>\n",
       "      <th>group</th>\n",
       "      <th>transactionId</th>\n",
       "      <th>visitorId</th>\n",
       "      <th>revenue</th>\n",
       "    </tr>\n",
       "  </thead>\n",
       "  <tbody>\n",
       "    <tr>\n",
       "      <th>0</th>\n",
       "      <td>2019-08-01</td>\n",
       "      <td>A</td>\n",
       "      <td>23</td>\n",
       "      <td>19</td>\n",
       "      <td>2266.6</td>\n",
       "    </tr>\n",
       "    <tr>\n",
       "      <th>1</th>\n",
       "      <td>2019-08-01</td>\n",
       "      <td>B</td>\n",
       "      <td>19</td>\n",
       "      <td>19</td>\n",
       "      <td>1258.8</td>\n",
       "    </tr>\n",
       "    <tr>\n",
       "      <th>2</th>\n",
       "      <td>2019-08-02</td>\n",
       "      <td>A</td>\n",
       "      <td>20</td>\n",
       "      <td>19</td>\n",
       "      <td>1503.5</td>\n",
       "    </tr>\n",
       "    <tr>\n",
       "      <th>3</th>\n",
       "      <td>2019-08-02</td>\n",
       "      <td>B</td>\n",
       "      <td>24</td>\n",
       "      <td>23</td>\n",
       "      <td>2623.8</td>\n",
       "    </tr>\n",
       "    <tr>\n",
       "      <th>4</th>\n",
       "      <td>2019-08-03</td>\n",
       "      <td>A</td>\n",
       "      <td>24</td>\n",
       "      <td>24</td>\n",
       "      <td>1815.2</td>\n",
       "    </tr>\n",
       "  </tbody>\n",
       "</table>\n",
       "</div>"
      ],
      "text/plain": [
       "        date group  transactionId  visitorId  revenue\n",
       "0 2019-08-01     A             23         19   2266.6\n",
       "1 2019-08-01     B             19         19   1258.8\n",
       "2 2019-08-02     A             20         19   1503.5\n",
       "3 2019-08-02     B             24         23   2623.8\n",
       "4 2019-08-03     A             24         24   1815.2"
      ]
     },
     "execution_count": 25,
     "metadata": {},
     "output_type": "execute_result"
    }
   ],
   "source": [
    "# Filtramos el DataFrame 'orders' para excluir usuarios que están en ambos grupos. \n",
    "# Agrupamos los datos por fecha y grupo, calculando el número único de transacciones y visitantes, y sumando los ingresos. \n",
    "# Finalmente, ordenamos los resultados por fecha y grupo para facilitar el análisis.\n",
    "orders_agg = orders[~orders['visitorId'].isin(users_in_two_groups['visitorId'])].groupby(['date','group']).agg({\n",
    "    'transactionId':'nunique',\n",
    "    'visitorId': 'nunique',\n",
    "    'revenue':'sum'\n",
    "}).reset_index().sort_values(by=['date','group'])\n",
    "orders_agg.head()"
   ]
  },
  {
   "cell_type": "markdown",
   "metadata": {},
   "source": [
    "<div class=\"alert alert-block alert-success\">\n",
    "<b>Comentario del revisor. (Iteración 1) </b> <a class=\"tocSkip\"></a>\n",
    "\n",
    "Muy bien, loagraste aplicar correctamente la función groupby para identificar visitantes en ambos grupos."
   ]
  },
  {
   "cell_type": "code",
   "execution_count": 26,
   "metadata": {},
   "outputs": [
    {
     "data": {
      "text/html": [
       "<div>\n",
       "<style scoped>\n",
       "    .dataframe tbody tr th:only-of-type {\n",
       "        vertical-align: middle;\n",
       "    }\n",
       "\n",
       "    .dataframe tbody tr th {\n",
       "        vertical-align: top;\n",
       "    }\n",
       "\n",
       "    .dataframe thead th {\n",
       "        text-align: right;\n",
       "    }\n",
       "</style>\n",
       "<table border=\"1\" class=\"dataframe\">\n",
       "  <thead>\n",
       "    <tr style=\"text-align: right;\">\n",
       "      <th></th>\n",
       "      <th>date</th>\n",
       "      <th>group</th>\n",
       "      <th>visits</th>\n",
       "    </tr>\n",
       "  </thead>\n",
       "  <tbody>\n",
       "    <tr>\n",
       "      <th>0</th>\n",
       "      <td>2019-08-01</td>\n",
       "      <td>A</td>\n",
       "      <td>719</td>\n",
       "    </tr>\n",
       "    <tr>\n",
       "      <th>1</th>\n",
       "      <td>2019-08-01</td>\n",
       "      <td>B</td>\n",
       "      <td>713</td>\n",
       "    </tr>\n",
       "    <tr>\n",
       "      <th>2</th>\n",
       "      <td>2019-08-02</td>\n",
       "      <td>A</td>\n",
       "      <td>619</td>\n",
       "    </tr>\n",
       "    <tr>\n",
       "      <th>3</th>\n",
       "      <td>2019-08-02</td>\n",
       "      <td>B</td>\n",
       "      <td>581</td>\n",
       "    </tr>\n",
       "    <tr>\n",
       "      <th>4</th>\n",
       "      <td>2019-08-03</td>\n",
       "      <td>A</td>\n",
       "      <td>507</td>\n",
       "    </tr>\n",
       "  </tbody>\n",
       "</table>\n",
       "</div>"
      ],
      "text/plain": [
       "        date group  visits\n",
       "0 2019-08-01     A     719\n",
       "1 2019-08-01     B     713\n",
       "2 2019-08-02     A     619\n",
       "3 2019-08-02     B     581\n",
       "4 2019-08-03     A     507"
      ]
     },
     "execution_count": 26,
     "metadata": {},
     "output_type": "execute_result"
    }
   ],
   "source": [
    "# Agrupamos el DataFrame 'visits' por fecha y grupo, sumando el número de visitas por cada combinación. \n",
    "# Luego, ordenamos los resultados por fecha y grupo para facilitar el análisis.\n",
    "visits_agg = visits.groupby(['date','group']).agg({\n",
    "    'visits':'sum'\n",
    "}).reset_index().sort_values(by=['date','group'])\n",
    "visits_agg.head()"
   ]
  },
  {
   "cell_type": "code",
   "execution_count": 27,
   "metadata": {},
   "outputs": [
    {
     "data": {
      "text/html": [
       "<div>\n",
       "<style scoped>\n",
       "    .dataframe tbody tr th:only-of-type {\n",
       "        vertical-align: middle;\n",
       "    }\n",
       "\n",
       "    .dataframe tbody tr th {\n",
       "        vertical-align: top;\n",
       "    }\n",
       "\n",
       "    .dataframe thead th {\n",
       "        text-align: right;\n",
       "    }\n",
       "</style>\n",
       "<table border=\"1\" class=\"dataframe\">\n",
       "  <thead>\n",
       "    <tr style=\"text-align: right;\">\n",
       "      <th></th>\n",
       "      <th>date</th>\n",
       "      <th>group</th>\n",
       "      <th>total_orders</th>\n",
       "      <th>total_buyers</th>\n",
       "      <th>total_sales</th>\n",
       "      <th>total_visits</th>\n",
       "    </tr>\n",
       "  </thead>\n",
       "  <tbody>\n",
       "    <tr>\n",
       "      <th>0</th>\n",
       "      <td>2019-08-01</td>\n",
       "      <td>A</td>\n",
       "      <td>23</td>\n",
       "      <td>19</td>\n",
       "      <td>2266.6</td>\n",
       "      <td>719</td>\n",
       "    </tr>\n",
       "    <tr>\n",
       "      <th>1</th>\n",
       "      <td>2019-08-01</td>\n",
       "      <td>B</td>\n",
       "      <td>19</td>\n",
       "      <td>19</td>\n",
       "      <td>1258.8</td>\n",
       "      <td>713</td>\n",
       "    </tr>\n",
       "    <tr>\n",
       "      <th>2</th>\n",
       "      <td>2019-08-02</td>\n",
       "      <td>A</td>\n",
       "      <td>20</td>\n",
       "      <td>19</td>\n",
       "      <td>1503.5</td>\n",
       "      <td>619</td>\n",
       "    </tr>\n",
       "    <tr>\n",
       "      <th>3</th>\n",
       "      <td>2019-08-02</td>\n",
       "      <td>B</td>\n",
       "      <td>24</td>\n",
       "      <td>23</td>\n",
       "      <td>2623.8</td>\n",
       "      <td>581</td>\n",
       "    </tr>\n",
       "    <tr>\n",
       "      <th>4</th>\n",
       "      <td>2019-08-03</td>\n",
       "      <td>A</td>\n",
       "      <td>24</td>\n",
       "      <td>24</td>\n",
       "      <td>1815.2</td>\n",
       "      <td>507</td>\n",
       "    </tr>\n",
       "  </tbody>\n",
       "</table>\n",
       "</div>"
      ],
      "text/plain": [
       "        date group  total_orders  total_buyers  total_sales  total_visits\n",
       "0 2019-08-01     A            23            19       2266.6           719\n",
       "1 2019-08-01     B            19            19       1258.8           713\n",
       "2 2019-08-02     A            20            19       1503.5           619\n",
       "3 2019-08-02     B            24            23       2623.8           581\n",
       "4 2019-08-03     A            24            24       1815.2           507"
      ]
     },
     "execution_count": 27,
     "metadata": {},
     "output_type": "execute_result"
    }
   ],
   "source": [
    "# Combinamos 'orders_agg' y 'visits_agg' en un nuevo DataFrame, 'fct_experiment', \n",
    "# mediante una unión externa en las columnas 'date' y 'group' para incluir todas las combinaciones de ambas tablas.\n",
    "# Renombramos las columnas para mayor claridad.\n",
    "fct_experiment = orders_agg.merge(visits_agg, on = ['date','group'], how = 'outer' )\n",
    "fct_experiment.columns = ['date','group','total_orders','total_buyers','total_sales','total_visits']\n",
    "fct_experiment.head()"
   ]
  },
  {
   "cell_type": "code",
   "execution_count": 28,
   "metadata": {},
   "outputs": [
    {
     "data": {
      "text/html": [
       "<div>\n",
       "<style scoped>\n",
       "    .dataframe tbody tr th:only-of-type {\n",
       "        vertical-align: middle;\n",
       "    }\n",
       "\n",
       "    .dataframe tbody tr th {\n",
       "        vertical-align: top;\n",
       "    }\n",
       "\n",
       "    .dataframe thead th {\n",
       "        text-align: right;\n",
       "    }\n",
       "</style>\n",
       "<table border=\"1\" class=\"dataframe\">\n",
       "  <thead>\n",
       "    <tr style=\"text-align: right;\">\n",
       "      <th></th>\n",
       "      <th>date</th>\n",
       "      <th>total_orders</th>\n",
       "      <th>total_sales</th>\n",
       "    </tr>\n",
       "  </thead>\n",
       "  <tbody>\n",
       "    <tr>\n",
       "      <th>0</th>\n",
       "      <td>2019-08-01</td>\n",
       "      <td>23</td>\n",
       "      <td>2266.6</td>\n",
       "    </tr>\n",
       "    <tr>\n",
       "      <th>2</th>\n",
       "      <td>2019-08-02</td>\n",
       "      <td>20</td>\n",
       "      <td>1503.5</td>\n",
       "    </tr>\n",
       "    <tr>\n",
       "      <th>4</th>\n",
       "      <td>2019-08-03</td>\n",
       "      <td>24</td>\n",
       "      <td>1815.2</td>\n",
       "    </tr>\n",
       "    <tr>\n",
       "      <th>6</th>\n",
       "      <td>2019-08-04</td>\n",
       "      <td>12</td>\n",
       "      <td>990.6</td>\n",
       "    </tr>\n",
       "    <tr>\n",
       "      <th>8</th>\n",
       "      <td>2019-08-05</td>\n",
       "      <td>24</td>\n",
       "      <td>1978.1</td>\n",
       "    </tr>\n",
       "  </tbody>\n",
       "</table>\n",
       "</div>"
      ],
      "text/plain": [
       "        date  total_orders  total_sales\n",
       "0 2019-08-01            23       2266.6\n",
       "2 2019-08-02            20       1503.5\n",
       "4 2019-08-03            24       1815.2\n",
       "6 2019-08-04            12        990.6\n",
       "8 2019-08-05            24       1978.1"
      ]
     },
     "execution_count": 28,
     "metadata": {},
     "output_type": "execute_result"
    }
   ],
   "source": [
    "# Filtramos para obtener solo los datos del grupo A, seleccionando las columnas de fecha, total de órdenes y total de ventas.\n",
    "sales_group_A = fct_experiment.query('group==\"A\"')[['date', 'total_orders','total_sales']]\n",
    "sales_group_A.head()"
   ]
  },
  {
   "cell_type": "code",
   "execution_count": 29,
   "metadata": {},
   "outputs": [
    {
     "data": {
      "text/html": [
       "<div>\n",
       "<style scoped>\n",
       "    .dataframe tbody tr th:only-of-type {\n",
       "        vertical-align: middle;\n",
       "    }\n",
       "\n",
       "    .dataframe tbody tr th {\n",
       "        vertical-align: top;\n",
       "    }\n",
       "\n",
       "    .dataframe thead th {\n",
       "        text-align: right;\n",
       "    }\n",
       "</style>\n",
       "<table border=\"1\" class=\"dataframe\">\n",
       "  <thead>\n",
       "    <tr style=\"text-align: right;\">\n",
       "      <th></th>\n",
       "      <th>date</th>\n",
       "      <th>total_orders</th>\n",
       "      <th>total_sales</th>\n",
       "    </tr>\n",
       "  </thead>\n",
       "  <tbody>\n",
       "    <tr>\n",
       "      <th>1</th>\n",
       "      <td>2019-08-01</td>\n",
       "      <td>19</td>\n",
       "      <td>1258.8</td>\n",
       "    </tr>\n",
       "    <tr>\n",
       "      <th>3</th>\n",
       "      <td>2019-08-02</td>\n",
       "      <td>24</td>\n",
       "      <td>2623.8</td>\n",
       "    </tr>\n",
       "    <tr>\n",
       "      <th>5</th>\n",
       "      <td>2019-08-03</td>\n",
       "      <td>16</td>\n",
       "      <td>1806.8</td>\n",
       "    </tr>\n",
       "    <tr>\n",
       "      <th>7</th>\n",
       "      <td>2019-08-04</td>\n",
       "      <td>15</td>\n",
       "      <td>1661.8</td>\n",
       "    </tr>\n",
       "    <tr>\n",
       "      <th>9</th>\n",
       "      <td>2019-08-05</td>\n",
       "      <td>21</td>\n",
       "      <td>1449.3</td>\n",
       "    </tr>\n",
       "  </tbody>\n",
       "</table>\n",
       "</div>"
      ],
      "text/plain": [
       "        date  total_orders  total_sales\n",
       "1 2019-08-01            19       1258.8\n",
       "3 2019-08-02            24       2623.8\n",
       "5 2019-08-03            16       1806.8\n",
       "7 2019-08-04            15       1661.8\n",
       "9 2019-08-05            21       1449.3"
      ]
     },
     "execution_count": 29,
     "metadata": {},
     "output_type": "execute_result"
    }
   ],
   "source": [
    "# Filtramos para obtener solo los datos del grupo B, seleccionando las columnas de fecha, total de órdenes y total de ventas.\n",
    "sales_group_B = fct_experiment.query('group==\"B\"')[['date', 'total_orders','total_sales']]\n",
    "sales_group_B.head()"
   ]
  },
  {
   "cell_type": "code",
   "execution_count": 30,
   "metadata": {},
   "outputs": [
    {
     "data": {
      "image/png": "[encoded data removed]",
      "text/plain": [
       "<Figure size 640x480 with 1 Axes>"
      ]
     },
     "metadata": {},
     "output_type": "display_data"
    }
   ],
   "source": [
    "# 1.- Representación gráfica del ingreso acumulado por grupo\n",
    "plt.plot(sales_group_A['date'],sales_group_A['total_sales'],label='A')\n",
    "plt.plot(sales_group_B['date'],sales_group_B['total_sales'],label='B')\n",
    "plt.legend()\n",
    "plt.xticks(rotation=45)\n",
    "plt.show()"
   ]
  },
  {
   "cell_type": "markdown",
   "metadata": {},
   "source": [
    "<div class=\"alert alert-block alert-warning\">\n",
    "<b>Comentario del revisor. (Iteración 1) </b> <a class=\"tocSkip\"></a>\n",
    "\n",
    "Muy bien, el gráfico fue una excelente idea. Te dejo una pequeña sugerencia, no olvides colocar títulos a tus gráficos, así como nombres de los ejes, eso los haría mucho más legibles. Por otro lado, no lo mencioné antes, pero te felicito por colocar tus observaciones en cada paso que das, es un gran hábito que te ayudará en el futuro."
   ]
  },
  {
   "cell_type": "markdown",
   "metadata": {},
   "source": [
    "<div style=\"background-color: lightblue; padding: 10px; border-radius: 5px;\">\n",
    "Aunque en algunos momentos las ventas en ambos grupos son similares, hay días en los que predomina el grupo B, especialmente entre el 17 y el 21 de agosto, donde se observa un incremento sustancial en sus ventas."
   ]
  },
  {
   "cell_type": "code",
   "execution_count": 31,
   "metadata": {},
   "outputs": [
    {
     "data": {
      "image/png": "[encoded data removed]",
      "text/plain": [
       "<Figure size 640x480 with 1 Axes>"
      ]
     },
     "metadata": {},
     "output_type": "display_data"
    }
   ],
   "source": [
    "#2.-Representación gráfica del tamaño de pedido promedio acumulado por grupo:\n",
    "plt.plot(sales_group_A['date'], sales_group_A['total_sales']/sales_group_A['total_orders'], label='A')\n",
    "plt.plot(sales_group_B['date'], sales_group_B['total_sales']/sales_group_B['total_orders'], label='B')\n",
    "plt.legend()\n",
    "plt.xticks(rotation=45)\n",
    "plt.show()"
   ]
  },
  {
   "cell_type": "code",
   "execution_count": 32,
   "metadata": {},
   "outputs": [
    {
     "data": {
      "text/plain": [
       "1872.209677419355"
      ]
     },
     "execution_count": 32,
     "metadata": {},
     "output_type": "execute_result"
    }
   ],
   "source": [
    "sales_group_A['total_sales'].mean()"
   ]
  },
  {
   "cell_type": "code",
   "execution_count": 33,
   "metadata": {},
   "outputs": [
    {
     "data": {
      "text/plain": [
       "2714.5774193548395"
      ]
     },
     "execution_count": 33,
     "metadata": {},
     "output_type": "execute_result"
    }
   ],
   "source": [
    "sales_group_B['total_sales'].mean()"
   ]
  },
  {
   "cell_type": "markdown",
   "metadata": {},
   "source": [
    "<div style=\"background-color: lightblue; padding: 10px; border-radius: 5px;\">\n",
    "Como se observa en la gráfica anterior, del 5 al 13 de agosto el promedio de ventas fue ligeramente más alto en el grupo A. Sin embargo, en las demás fechas los resultados son muy similares, destacándose nuevamente el pico de aumento en el grupo B entre el 17 y el 21 de agosto. Al calcular las medias, también se corrobora que el grupo B tiene un promedio de ventas mayor."
   ]
  },
  {
   "cell_type": "markdown",
   "metadata": {},
   "source": [
    "<div class=\"alert alert-block alert-success\">\n",
    "<b>Comentario del revisor. (Iteración 1) </b> <a class=\"tocSkip\"></a>\n",
    "\n",
    "Es correcto! Parece que en general el grupo Btiene un promedio de ventas mayor."
   ]
  },
  {
   "cell_type": "code",
   "execution_count": 34,
   "metadata": {},
   "outputs": [
    {
     "data": {
      "text/html": [
       "<div>\n",
       "<style scoped>\n",
       "    .dataframe tbody tr th:only-of-type {\n",
       "        vertical-align: middle;\n",
       "    }\n",
       "\n",
       "    .dataframe tbody tr th {\n",
       "        vertical-align: top;\n",
       "    }\n",
       "\n",
       "    .dataframe thead th {\n",
       "        text-align: right;\n",
       "    }\n",
       "</style>\n",
       "<table border=\"1\" class=\"dataframe\">\n",
       "  <thead>\n",
       "    <tr style=\"text-align: right;\">\n",
       "      <th></th>\n",
       "      <th>date</th>\n",
       "      <th>total_ordersA</th>\n",
       "      <th>total_salesA</th>\n",
       "      <th>total_ordersB</th>\n",
       "      <th>total_salesB</th>\n",
       "    </tr>\n",
       "  </thead>\n",
       "  <tbody>\n",
       "    <tr>\n",
       "      <th>0</th>\n",
       "      <td>2019-08-01</td>\n",
       "      <td>23</td>\n",
       "      <td>2266.6</td>\n",
       "      <td>19</td>\n",
       "      <td>1258.8</td>\n",
       "    </tr>\n",
       "    <tr>\n",
       "      <th>1</th>\n",
       "      <td>2019-08-02</td>\n",
       "      <td>20</td>\n",
       "      <td>1503.5</td>\n",
       "      <td>24</td>\n",
       "      <td>2623.8</td>\n",
       "    </tr>\n",
       "    <tr>\n",
       "      <th>2</th>\n",
       "      <td>2019-08-03</td>\n",
       "      <td>24</td>\n",
       "      <td>1815.2</td>\n",
       "      <td>16</td>\n",
       "      <td>1806.8</td>\n",
       "    </tr>\n",
       "    <tr>\n",
       "      <th>3</th>\n",
       "      <td>2019-08-04</td>\n",
       "      <td>12</td>\n",
       "      <td>990.6</td>\n",
       "      <td>15</td>\n",
       "      <td>1661.8</td>\n",
       "    </tr>\n",
       "    <tr>\n",
       "      <th>4</th>\n",
       "      <td>2019-08-05</td>\n",
       "      <td>24</td>\n",
       "      <td>1978.1</td>\n",
       "      <td>21</td>\n",
       "      <td>1449.3</td>\n",
       "    </tr>\n",
       "  </tbody>\n",
       "</table>\n",
       "</div>"
      ],
      "text/plain": [
       "        date  total_ordersA  total_salesA  total_ordersB  total_salesB\n",
       "0 2019-08-01             23        2266.6             19        1258.8\n",
       "1 2019-08-02             20        1503.5             24        2623.8\n",
       "2 2019-08-03             24        1815.2             16        1806.8\n",
       "3 2019-08-04             12         990.6             15        1661.8\n",
       "4 2019-08-05             24        1978.1             21        1449.3"
      ]
     },
     "execution_count": 34,
     "metadata": {},
     "output_type": "execute_result"
    }
   ],
   "source": [
    "# Creamos un DataFrame que combina la información de ventas de ambos grupos (A y B) en función de la fecha.\n",
    "cumulative_sales_two_groups = sales_group_A.merge(sales_group_B, how='outer', on='date', suffixes=['A','B'])\n",
    "cumulative_sales_two_groups.head()"
   ]
  },
  {
   "cell_type": "code",
   "execution_count": 35,
   "metadata": {},
   "outputs": [
    {
     "data": {
      "image/png": "[encoded data removed]",
      "text/plain": [
       "<Figure size 640x480 with 1 Axes>"
      ]
     },
     "metadata": {},
     "output_type": "display_data"
    }
   ],
   "source": [
    "# 3.- Diferencia relativa en el tamaño de pedido promedio acumulado:\n",
    "plt.plot(cumulative_sales_two_groups['date'],(cumulative_sales_two_groups['total_salesA']/cumulative_sales_two_groups['total_ordersA'])/(cumulative_sales_two_groups['total_salesB']/cumulative_sales_two_groups['total_ordersB'])-1)\n",
    "plt.xticks(rotation=45)\n",
    "plt.axhline(y=0, color='black', linestyle='--')\n",
    "plt.show()"
   ]
  },
  {
   "cell_type": "markdown",
   "metadata": {},
   "source": [
    "<div style=\"background-color: lightblue; padding: 10px; border-radius: 5px;\">\n",
    "Gran parte de los picos en azul sobrepasan la línea de referencia en cero, esto indica que el tamaño de pedido promedio acumulado del grupo B es mayor que el del grupo A en esos períodos. Esto sugiere que los usuarios del grupo B tienden a realizar pedidos de mayor valor promedio que los del grupo A en esas fechas, lo cual podría ser relevante para entender el comportamiento de gasto entre los grupos."
   ]
  },
  {
   "cell_type": "markdown",
   "metadata": {},
   "source": [
    "<div class=\"alert alert-block alert-success\">\n",
    "<b>Comentario del revisor. (Iteración 1) </b> <a class=\"tocSkip\"></a>\n",
    "\n",
    "Perfecto! Bien realizado."
   ]
  },
  {
   "cell_type": "code",
   "execution_count": 36,
   "metadata": {},
   "outputs": [
    {
     "data": {
      "text/html": [
       "<div>\n",
       "<style scoped>\n",
       "    .dataframe tbody tr th:only-of-type {\n",
       "        vertical-align: middle;\n",
       "    }\n",
       "\n",
       "    .dataframe tbody tr th {\n",
       "        vertical-align: top;\n",
       "    }\n",
       "\n",
       "    .dataframe thead th {\n",
       "        text-align: right;\n",
       "    }\n",
       "</style>\n",
       "<table border=\"1\" class=\"dataframe\">\n",
       "  <thead>\n",
       "    <tr style=\"text-align: right;\">\n",
       "      <th></th>\n",
       "      <th>date</th>\n",
       "      <th>group</th>\n",
       "      <th>total_orders</th>\n",
       "      <th>total_buyers</th>\n",
       "      <th>total_sales</th>\n",
       "      <th>total_visits</th>\n",
       "      <th>convertion</th>\n",
       "    </tr>\n",
       "  </thead>\n",
       "  <tbody>\n",
       "    <tr>\n",
       "      <th>0</th>\n",
       "      <td>2019-08-01</td>\n",
       "      <td>A</td>\n",
       "      <td>23</td>\n",
       "      <td>19</td>\n",
       "      <td>2266.6</td>\n",
       "      <td>719</td>\n",
       "      <td>3.198887</td>\n",
       "    </tr>\n",
       "    <tr>\n",
       "      <th>1</th>\n",
       "      <td>2019-08-01</td>\n",
       "      <td>B</td>\n",
       "      <td>19</td>\n",
       "      <td>19</td>\n",
       "      <td>1258.8</td>\n",
       "      <td>713</td>\n",
       "      <td>2.664797</td>\n",
       "    </tr>\n",
       "    <tr>\n",
       "      <th>2</th>\n",
       "      <td>2019-08-02</td>\n",
       "      <td>A</td>\n",
       "      <td>20</td>\n",
       "      <td>19</td>\n",
       "      <td>1503.5</td>\n",
       "      <td>619</td>\n",
       "      <td>3.231018</td>\n",
       "    </tr>\n",
       "    <tr>\n",
       "      <th>3</th>\n",
       "      <td>2019-08-02</td>\n",
       "      <td>B</td>\n",
       "      <td>24</td>\n",
       "      <td>23</td>\n",
       "      <td>2623.8</td>\n",
       "      <td>581</td>\n",
       "      <td>4.130809</td>\n",
       "    </tr>\n",
       "    <tr>\n",
       "      <th>4</th>\n",
       "      <td>2019-08-03</td>\n",
       "      <td>A</td>\n",
       "      <td>24</td>\n",
       "      <td>24</td>\n",
       "      <td>1815.2</td>\n",
       "      <td>507</td>\n",
       "      <td>4.733728</td>\n",
       "    </tr>\n",
       "  </tbody>\n",
       "</table>\n",
       "</div>"
      ],
      "text/plain": [
       "        date group  total_orders  total_buyers  total_sales  total_visits  \\\n",
       "0 2019-08-01     A            23            19       2266.6           719   \n",
       "1 2019-08-01     B            19            19       1258.8           713   \n",
       "2 2019-08-02     A            20            19       1503.5           619   \n",
       "3 2019-08-02     B            24            23       2623.8           581   \n",
       "4 2019-08-03     A            24            24       1815.2           507   \n",
       "\n",
       "   convertion  \n",
       "0    3.198887  \n",
       "1    2.664797  \n",
       "2    3.231018  \n",
       "3    4.130809  \n",
       "4    4.733728  "
      ]
     },
     "execution_count": 36,
     "metadata": {},
     "output_type": "execute_result"
    }
   ],
   "source": [
    "# Calculamos el porcentaje de conversión de clientes, basado en el total de órdenes y visitas de cada día.\n",
    "fct_experiment['convertion'] = (fct_experiment['total_orders'] / fct_experiment['total_visits'])*100\n",
    "fct_experiment.head()"
   ]
  },
  {
   "cell_type": "code",
   "execution_count": 37,
   "metadata": {},
   "outputs": [],
   "source": [
    "# Dividimos el DF en dos: uno para el grupo A y otro para el grupo B, facilitando el análisis individual de cada grupo.\n",
    "experiment_A = fct_experiment.query('group==\"A\"')\n",
    "experiment_B = fct_experiment.query('group==\"B\"')"
   ]
  },
  {
   "cell_type": "code",
   "execution_count": 38,
   "metadata": {},
   "outputs": [
    {
     "data": {
      "image/png": "[encoded data removed]",
      "text/plain": [
       "<Figure size 640x480 with 1 Axes>"
      ]
     },
     "metadata": {},
     "output_type": "display_data"
    }
   ],
   "source": [
    "#4.- Gráfica del cálculo de la tasa de conversión y comparación entre grupos:\n",
    "plt.plot(experiment_A['date'],experiment_A['convertion'], label='A')\n",
    "plt.plot(experiment_B['date'],experiment_B['convertion'], label='B')\n",
    "plt.legend()\n",
    "plt.xticks(rotation=45)\n",
    "plt.show()"
   ]
  },
  {
   "cell_type": "markdown",
   "metadata": {},
   "source": [
    "<div style=\"background-color: lightblue; padding: 10px; border-radius: 5px;\">\n",
    "    \n",
    "En la gráfica anterior, que muestra la tasa de conversión diaria de los grupos A y B a lo largo del tiempo, podemos observar que ambos grupos presentan fluctuaciones similares y alternan en días donde uno supera al otro. El grupo B tiene algunos picos más altos, aunque también muestra caídas más pronunciadas en el período del 17 al 21 de agosto, mientras que el grupo A es más estable."
   ]
  },
  {
   "cell_type": "markdown",
   "metadata": {},
   "source": [
    "<div class=\"alert alert-block alert-success\">\n",
    "<b>Comentario del revisor. (Iteración 1) </b> <a class=\"tocSkip\"></a>\n",
    "\n",
    "Excelente análisis el que estás realizando, me gusta el enfoque que estás dando y el nivel de profundidad al que estás analizando las diferencias de ambos grupos."
   ]
  },
  {
   "cell_type": "code",
   "execution_count": 39,
   "metadata": {},
   "outputs": [
    {
     "data": {
      "text/html": [
       "<div>\n",
       "<style scoped>\n",
       "    .dataframe tbody tr th:only-of-type {\n",
       "        vertical-align: middle;\n",
       "    }\n",
       "\n",
       "    .dataframe tbody tr th {\n",
       "        vertical-align: top;\n",
       "    }\n",
       "\n",
       "    .dataframe thead th {\n",
       "        text-align: right;\n",
       "    }\n",
       "</style>\n",
       "<table border=\"1\" class=\"dataframe\">\n",
       "  <thead>\n",
       "    <tr style=\"text-align: right;\">\n",
       "      <th></th>\n",
       "      <th>date</th>\n",
       "      <th>convertionA</th>\n",
       "      <th>convertionB</th>\n",
       "    </tr>\n",
       "  </thead>\n",
       "  <tbody>\n",
       "    <tr>\n",
       "      <th>0</th>\n",
       "      <td>2019-08-01</td>\n",
       "      <td>3.198887</td>\n",
       "      <td>2.664797</td>\n",
       "    </tr>\n",
       "    <tr>\n",
       "      <th>1</th>\n",
       "      <td>2019-08-02</td>\n",
       "      <td>3.231018</td>\n",
       "      <td>4.130809</td>\n",
       "    </tr>\n",
       "    <tr>\n",
       "      <th>2</th>\n",
       "      <td>2019-08-03</td>\n",
       "      <td>4.733728</td>\n",
       "      <td>3.143418</td>\n",
       "    </tr>\n",
       "    <tr>\n",
       "      <th>3</th>\n",
       "      <td>2019-08-04</td>\n",
       "      <td>1.673640</td>\n",
       "      <td>1.948052</td>\n",
       "    </tr>\n",
       "    <tr>\n",
       "      <th>4</th>\n",
       "      <td>2019-08-05</td>\n",
       "      <td>3.174603</td>\n",
       "      <td>2.970297</td>\n",
       "    </tr>\n",
       "  </tbody>\n",
       "</table>\n",
       "</div>"
      ],
      "text/plain": [
       "        date  convertionA  convertionB\n",
       "0 2019-08-01     3.198887     2.664797\n",
       "1 2019-08-02     3.231018     4.130809\n",
       "2 2019-08-03     4.733728     3.143418\n",
       "3 2019-08-04     1.673640     1.948052\n",
       "4 2019-08-05     3.174603     2.970297"
      ]
     },
     "execution_count": 39,
     "metadata": {},
     "output_type": "execute_result"
    }
   ],
   "source": [
    "# Unimos los datos de los experimentos A y B por la columna 'date', manteniendo todas las fechas y diferenciando \n",
    "# las columnas 'convertion' con los sufijos 'A' y 'B'.\n",
    "conversion_group_union = experiment_A[['date', 'convertion']].merge(experiment_B[['date', 'convertion']], \n",
    "    on='date', \n",
    "    how='outer', \n",
    "    suffixes=('A', 'B'))\n",
    "conversion_group_union.head()"
   ]
  },
  {
   "cell_type": "code",
   "execution_count": 40,
   "metadata": {},
   "outputs": [
    {
     "data": {
      "image/png": "[encoded data removed]",
      "text/plain": [
       "<Figure size 640x480 with 1 Axes>"
      ]
     },
     "metadata": {},
     "output_type": "display_data"
    }
   ],
   "source": [
    "# Graficamos la diferencia relativa en las tasas de conversión entre los grupos A y B a lo largo del tiempo,\n",
    "# marcando una línea horizontal en 0 (sin diferencia) y otra en 0.1 (para visualizar una diferencia del 10%).\n",
    "plt.plot(conversion_group_union['date'],conversion_group_union['convertionA']/conversion_group_union['convertionB']-1 )\n",
    "plt.axhline(y=0, color='black', linestyle='--')\n",
    "plt.axhline(y=0.1, color='grey', linestyle='--')\n",
    "plt.xticks(rotation=45)\n",
    "plt.show()"
   ]
  },
  {
   "cell_type": "markdown",
   "metadata": {},
   "source": [
    "<div style=\"background-color: lightblue; padding: 10px; border-radius: 5px;\">\n",
    "El gráfico anterior muestra la comparación porcentual entre el grupo B y el grupo A, destacando que el grupo B presenta una mejor tasa de conversión. Los picos que aparecen por encima de la línea gris (que representa una diferencia relativa de 0.1) indican que, en esos días, el grupo B superó al grupo A en tasa de conversión por más de un 10%. Estos picos reflejan momentos en los que el desempeño del grupo B fue significativamente superior al del grupo A."
   ]
  },
  {
   "cell_type": "code",
   "execution_count": 41,
   "metadata": {},
   "outputs": [
    {
     "data": {
      "text/html": [
       "<div>\n",
       "<style scoped>\n",
       "    .dataframe tbody tr th:only-of-type {\n",
       "        vertical-align: middle;\n",
       "    }\n",
       "\n",
       "    .dataframe tbody tr th {\n",
       "        vertical-align: top;\n",
       "    }\n",
       "\n",
       "    .dataframe thead th {\n",
       "        text-align: right;\n",
       "    }\n",
       "</style>\n",
       "<table border=\"1\" class=\"dataframe\">\n",
       "  <thead>\n",
       "    <tr style=\"text-align: right;\">\n",
       "      <th></th>\n",
       "      <th>user_id</th>\n",
       "      <th>orders</th>\n",
       "    </tr>\n",
       "  </thead>\n",
       "  <tbody>\n",
       "    <tr>\n",
       "      <th>1023</th>\n",
       "      <td>4256040402</td>\n",
       "      <td>11</td>\n",
       "    </tr>\n",
       "    <tr>\n",
       "      <th>591</th>\n",
       "      <td>2458001652</td>\n",
       "      <td>11</td>\n",
       "    </tr>\n",
       "    <tr>\n",
       "      <th>569</th>\n",
       "      <td>2378935119</td>\n",
       "      <td>9</td>\n",
       "    </tr>\n",
       "    <tr>\n",
       "      <th>487</th>\n",
       "      <td>2038680547</td>\n",
       "      <td>8</td>\n",
       "    </tr>\n",
       "    <tr>\n",
       "      <th>44</th>\n",
       "      <td>199603092</td>\n",
       "      <td>5</td>\n",
       "    </tr>\n",
       "  </tbody>\n",
       "</table>\n",
       "</div>"
      ],
      "text/plain": [
       "         user_id  orders\n",
       "1023  4256040402      11\n",
       "591   2458001652      11\n",
       "569   2378935119       9\n",
       "487   2038680547       8\n",
       "44     199603092       5"
      ]
     },
     "execution_count": 41,
     "metadata": {},
     "output_type": "execute_result"
    }
   ],
   "source": [
    "# Eliminamos columnas no necesarias, agrupamos por 'visitorId' y calculamos el número de transacciones únicas por usuario,\n",
    "# renombramos las columnas y ordenamos los usuarios por el número de pedidos en orden descendente.\n",
    "orders_by_users = orders.drop(['group','revenue','date'], axis=1).groupby('visitorId', as_index=False).agg({\n",
    "    'transactionId':'nunique'\n",
    "})\n",
    "orders_by_users.columns = ['user_id','orders']\n",
    "orders_by_users.sort_values(ascending=False, by='orders',inplace=True)\n",
    "orders_by_users.head()"
   ]
  },
  {
   "cell_type": "code",
   "execution_count": 42,
   "metadata": {},
   "outputs": [
    {
     "data": {
      "image/png": "[encoded data removed]",
      "text/plain": [
       "<Figure size 500x300 with 1 Axes>"
      ]
     },
     "metadata": {},
     "output_type": "display_data"
    }
   ],
   "source": [
    "# 5.- Gráfico de dispersión del número de pedidos por usuario:\n",
    "plt.figure(figsize=(5, 3))\n",
    "plt.scatter(orders_by_users['user_id'], orders_by_users['orders'], color='blue')\n",
    "plt.xlabel('Users')\n",
    "plt.ylabel('Number of Orders')\n",
    "plt.title('Number of Orders per User')\n",
    "plt.show()"
   ]
  },
  {
   "cell_type": "code",
   "execution_count": 43,
   "metadata": {},
   "outputs": [
    {
     "data": {
      "image/png": "[encoded data removed]",
      "text/plain": [
       "<Figure size 500x300 with 1 Axes>"
      ]
     },
     "metadata": {},
     "output_type": "display_data"
    }
   ],
   "source": [
    "# Creamos un histograma para una mejor comprension\n",
    "plt.figure(figsize=(5, 3))\n",
    "orders_by_users['orders'].hist()\n",
    "plt.xlabel('Number of Orders')\n",
    "plt.ylabel('Frequency')\n",
    "plt.title('Distribution of Orders per User')\n",
    "plt.show()"
   ]
  },
  {
   "cell_type": "markdown",
   "metadata": {},
   "source": [
    "<div style=\"background-color: lightblue; padding: 10px; border-radius: 5px;\">\n",
    "En las gráficas anteriores se muestra la cantidad de pedidos por usuario. Se observa que la mayoría de los usuarios realizan una sola compra, seguidos por aquellos que hacen dos compras. Además, solo hay 4 usuarios que realizan entre 8 y 11 pedidos."
   ]
  },
  {
   "cell_type": "markdown",
   "metadata": {},
   "source": [
    "<div class=\"alert alert-block alert-success\">\n",
    "<b>Comentario del revisor. (Iteración 1) </b> <a class=\"tocSkip\"></a>\n",
    "\n",
    "Es correcto! Estos podrían considerarse como valores atípicos, solamente deberiamos comprobarlo."
   ]
  },
  {
   "cell_type": "code",
   "execution_count": 44,
   "metadata": {},
   "outputs": [
    {
     "data": {
      "text/plain": [
       "array([1., 2., 4.])"
      ]
     },
     "execution_count": 44,
     "metadata": {},
     "output_type": "execute_result"
    }
   ],
   "source": [
    "# 6.- Cálculo de los percentiles del número de pedidos por usuario:\n",
    "\n",
    "#Calculamos los percentiles 90, 95 y 99, esto para identificar cuántos pedidos por usuario podrían considerarse outliers. \n",
    "\n",
    "np.percentile(orders_by_users['orders'],[90, 95,99])"
   ]
  },
  {
   "cell_type": "markdown",
   "metadata": {},
   "source": [
    "<div style=\"background-color: lightblue; padding: 10px; border-radius: 5px;\">\n",
    "El 90% de los usuarios realizaron 1 pedido o menos, el 95% hicieron 2 pedidos o menos, y el 99% de los usuarios no superaron los 4 pedidos. Esto sugiere que la gran mayoría de los usuarios realizan pocos pedidos, mientras que solo un pequeño porcentaje realiza un número significativamente mayor de pedidos."
   ]
  },
  {
   "cell_type": "markdown",
   "metadata": {},
   "source": [
    "<div class=\"alert alert-block alert-success\">\n",
    "<b>Comentario del revisor. (Iteración 1) </b> <a class=\"tocSkip\"></a>\n",
    "\n",
    "Perfecto! Se comprueba que los valores de pedidos altos son outliers! Así que todo empiaza a ser congruente."
   ]
  },
  {
   "cell_type": "code",
   "execution_count": 45,
   "metadata": {},
   "outputs": [
    {
     "data": {
      "image/png": "[encoded data removed]",
      "text/plain": [
       "<Figure size 500x300 with 1 Axes>"
      ]
     },
     "metadata": {},
     "output_type": "display_data"
    }
   ],
   "source": [
    "# 7. Gráfico de dispersión de los precios de los pedidos\n",
    "plt.figure(figsize=(5, 3))\n",
    "plt.scatter(orders['transactionId'], orders['revenue'], color='purple')\n",
    "plt.xlabel('Pedidos (ID de Transacción)')\n",
    "plt.ylabel('Precio del Pedido')\n",
    "plt.title('Gráfico de Dispersión de los Precios de los Pedidos')\n",
    "plt.show()"
   ]
  },
  {
   "cell_type": "markdown",
   "metadata": {},
   "source": [
    "<div style=\"background-color: lightblue; padding: 10px; border-radius: 5px;\">\n",
    "La mayoría de los precios de los pedidos se encuentran por debajo de los 5000, lo que indica que la mayoría de los clientes realizan compras en rangos de precio más bajos. Sin embargo, se observa una excepción significativa con un pedido de 20000, lo que sugiere que existe un pequeño número de compras mucho más altas, posiblemente impulsadas por factores específicos como productos de mayor valor, compras al por mayor o un error en la facturación."
   ]
  },
  {
   "cell_type": "markdown",
   "metadata": {},
   "source": [
    "<div class=\"alert alert-block alert-success\">\n",
    "<b>Comentario del revisor. (Iteración 1) </b> <a class=\"tocSkip\"></a>\n",
    "\n",
    "Quiero resaltar que en este caso, colocaste títulos tanto al gráfico como a los ejes y precisamente, este se puede leer más facilmente, así que muy bien por esto!"
   ]
  },
  {
   "cell_type": "code",
   "execution_count": 46,
   "metadata": {},
   "outputs": [
    {
     "name": "stdout",
     "output_type": "stream",
     "text": [
      "Percentil 90 de los precios de pedidos: 282.4800000000004\n",
      "Percentil 95 de los precios de pedidos: 435.54\n",
      "Percentil 99 de los precios de pedidos: 900.9039999999999\n",
      "Umbral para anomalías en precios de pedidos (percentil 99): 900.9039999999999\n"
     ]
    }
   ],
   "source": [
    "# 8. Calculamos los percentiles 90, 95 y 99 de los precios de los pedidos\n",
    "percentiles_precios = np.percentile(orders['revenue'], [90, 95, 99])\n",
    "print(\"Percentil 90 de los precios de pedidos:\", percentiles_precios[0])\n",
    "print(\"Percentil 95 de los precios de pedidos:\", percentiles_precios[1])\n",
    "print(\"Percentil 99 de los precios de pedidos:\", percentiles_precios[2])\n",
    "\n",
    "# Definimos el umbral para identificar anomalías en precios de pedidos (percentil 99)\n",
    "umbral_anomalia_precios = percentiles_precios[2]\n",
    "print(\"Umbral para anomalías en precios de pedidos (percentil 99):\", umbral_anomalia_precios)\n"
   ]
  },
  {
   "cell_type": "markdown",
   "metadata": {},
   "source": [
    "<div style=\"background-color: lightblue; padding: 10px; border-radius: 5px;\">\n",
    "Los precios de los pedidos muestran que el 90% de las compras son de 282.48 o menos, mientras que el 95% se encuentra por debajo de 435.54, y el 99% por debajo de 900.90. Esto indica que la mayoría de los pedidos tienen un precio relativamente bajo, con solo el 1% de las compras superando el umbral de 900.90, considerado como el límite para posibles anomalías en precios de pedidos. Estos datos sugieren que los pedidos de precios muy altos son excepcionales y ocurren en una minoría de casos."
   ]
  },
  {
   "cell_type": "markdown",
   "metadata": {},
   "source": [
    "<div class=\"alert alert-block alert-success\">\n",
    "<b>Comentario del revisor. (Iteración 1) </b> <a class=\"tocSkip\"></a>\n",
    "\n",
    "Perfecto! Me parece que el análisis exploratorio que realizas hasta ahora es muy completo y justamente ahora, con todo eso estás en posición para empezar a realizar los test."
   ]
  },
  {
   "cell_type": "code",
   "execution_count": 54,
   "metadata": {},
   "outputs": [
    {
     "data": {
      "text/html": [
       "<div>\n",
       "<style scoped>\n",
       "    .dataframe tbody tr th:only-of-type {\n",
       "        vertical-align: middle;\n",
       "    }\n",
       "\n",
       "    .dataframe tbody tr th {\n",
       "        vertical-align: top;\n",
       "    }\n",
       "\n",
       "    .dataframe thead th {\n",
       "        text-align: right;\n",
       "    }\n",
       "</style>\n",
       "<table border=\"1\" class=\"dataframe\">\n",
       "  <thead>\n",
       "    <tr style=\"text-align: right;\">\n",
       "      <th></th>\n",
       "      <th>date</th>\n",
       "      <th>group</th>\n",
       "      <th>transactionId</th>\n",
       "      <th>visits</th>\n",
       "      <th>conversion_rate</th>\n",
       "    </tr>\n",
       "  </thead>\n",
       "  <tbody>\n",
       "    <tr>\n",
       "      <th>0</th>\n",
       "      <td>2019-08-01</td>\n",
       "      <td>A</td>\n",
       "      <td>24</td>\n",
       "      <td>719</td>\n",
       "      <td>0.033380</td>\n",
       "    </tr>\n",
       "    <tr>\n",
       "      <th>1</th>\n",
       "      <td>2019-08-01</td>\n",
       "      <td>B</td>\n",
       "      <td>21</td>\n",
       "      <td>713</td>\n",
       "      <td>0.029453</td>\n",
       "    </tr>\n",
       "    <tr>\n",
       "      <th>2</th>\n",
       "      <td>2019-08-02</td>\n",
       "      <td>A</td>\n",
       "      <td>20</td>\n",
       "      <td>619</td>\n",
       "      <td>0.032310</td>\n",
       "    </tr>\n",
       "    <tr>\n",
       "      <th>3</th>\n",
       "      <td>2019-08-02</td>\n",
       "      <td>B</td>\n",
       "      <td>24</td>\n",
       "      <td>581</td>\n",
       "      <td>0.041308</td>\n",
       "    </tr>\n",
       "    <tr>\n",
       "      <th>4</th>\n",
       "      <td>2019-08-03</td>\n",
       "      <td>A</td>\n",
       "      <td>24</td>\n",
       "      <td>507</td>\n",
       "      <td>0.047337</td>\n",
       "    </tr>\n",
       "  </tbody>\n",
       "</table>\n",
       "</div>"
      ],
      "text/plain": [
       "        date group  transactionId  visits  conversion_rate\n",
       "0 2019-08-01     A             24     719         0.033380\n",
       "1 2019-08-01     B             21     713         0.029453\n",
       "2 2019-08-02     A             20     619         0.032310\n",
       "3 2019-08-02     B             24     581         0.041308\n",
       "4 2019-08-03     A             24     507         0.047337"
      ]
     },
     "execution_count": 54,
     "metadata": {},
     "output_type": "execute_result"
    }
   ],
   "source": [
    "# 9. Significancia estadística de la diferencia en la conversión entre los grupos (datos en bruto)\n",
    "\n",
    "# Calculamos el número de órdenes y visitas por grupo y fecha\n",
    "orders_by_group_date = orders.groupby(['date', 'group']).agg({\n",
    "    'transactionId': 'nunique', \n",
    "}).reset_index()\n",
    "\n",
    "visits_by_group_date = visits.groupby(['date', 'group']).agg({\n",
    "    'visits': 'sum'  \n",
    "}).reset_index()\n",
    "\n",
    "# Unimos los datos de órdenes y visitas para cada grupo\n",
    "conversion_data = orders_by_group_date.merge(visits_by_group_date, on=['date', 'group'])\n",
    "conversion_data['conversion_rate'] = conversion_data['transactionId'] / conversion_data['visits']\n",
    "\n",
    "conversion_data.head()"
   ]
  },
  {
   "cell_type": "code",
   "execution_count": 55,
   "metadata": {},
   "outputs": [
    {
     "name": "stdout",
     "output_type": "stream",
     "text": [
      "P-valor de la diferencia en la tasa de conversión entre grupos (Mann-Whitney): 0.08587216033007773\n",
      "No hay una diferencia significativa en la tasa de conversión entre los grupos A y B.\n"
     ]
    }
   ],
   "source": [
    "# Separamos las tasas de conversión por grupo\n",
    "conversion_A = conversion_data[conversion_data['group'] == 'A']['conversion_rate']\n",
    "conversion_B = conversion_data[conversion_data['group'] == 'B']['conversion_rate']\n",
    "\n",
    "# Aplicamos la prueba de Mann-Whitney\n",
    "stat, p_valor_conversion = mannwhitneyu(conversion_A, conversion_B, alternative='two-sided')\n",
    "print(\"P-valor de la diferencia en la tasa de conversión entre grupos (Mann-Whitney):\", p_valor_conversion)\n",
    "\n",
    "if p_valor_conversion < 0.05:\n",
    "    print(\"Hay una diferencia significativa en la tasa de conversión entre los grupos A y B.\")\n",
    "else:\n",
    "    print(\"No hay una diferencia significativa en la tasa de conversión entre los grupos A y B.\")\n"
   ]
  },
  {
   "cell_type": "markdown",
   "metadata": {},
   "source": [
    "<div style=\"background-color: lightblue; padding: 10px; border-radius: 5px;\">\n",
    "En los datos donde calculamos la significancia estadística de la diferencia en la conversión entre los grupos (datos en bruto), pudimos notar que el p-valor de 0.0859 sugiere que no hay suficiente evidencia para confirmar una diferencia real en la tasa de conversión entre los grupos A y B. Dado que el p-valor es mayor que el umbral estándar de 0.05, cualquier diferencia observada entre los grupos podría ser solo por azar, y no podemos concluir que uno de los grupos tenga una tasa de conversión significativamente mejor que el otro."
   ]
  },
  {
   "cell_type": "markdown",
   "metadata": {},
   "source": [
    "<div class=\"alert alert-block alert-success\">\n",
    "<b>Comentario del revisor. (Iteración 1) </b> <a class=\"tocSkip\"></a>\n",
    "\n",
    "Correcto! Lo único que sugeriría, es que creo que valdría mucho la pena profundizar en porque se decidió utilizar un test mannwhitney. E incluso hacer los test previos necesarios para justificar su uso. Esto sería solamente para robustecer tu resultado. Fuera de eso, veo correcto lo demás incluso la interpretación del pvalue. Así que te felicito por ello."
   ]
  },
  {
   "cell_type": "code",
   "execution_count": 48,
   "metadata": {},
   "outputs": [
    {
     "name": "stdout",
     "output_type": "stream",
     "text": [
      "P-valor de la diferencia en el tamaño promedio de pedido entre grupos (Mann-Whitney): 0.6915246773264736\n",
      "No hay una diferencia significativa en el tamaño promedio de pedido entre los grupos A y B.\n"
     ]
    }
   ],
   "source": [
    "# 10. Significancia estadística de la diferencia en el tamaño promedio de pedido entre los grupos (datos en bruto)\n",
    "\n",
    "# Extraemos los ingresos de cada pedido para cada grupo\n",
    "tamaño_pedido_A = orders[orders['group'] == 'A']['revenue']\n",
    "tamaño_pedido_B = orders[orders['group'] == 'B']['revenue']\n",
    "\n",
    "# Aplicamos la prueba de Mann-Whitney\n",
    "stat, p_valor_tamaño_pedido = mannwhitneyu(tamaño_pedido_A, tamaño_pedido_B, alternative='two-sided')\n",
    "print(\"P-valor de la diferencia en el tamaño promedio de pedido entre grupos (Mann-Whitney):\", p_valor_tamaño_pedido)\n",
    "\n",
    "if p_valor_tamaño_pedido < 0.05:\n",
    "    print(\"Hay una diferencia significativa en el tamaño promedio de pedido entre los grupos A y B.\")\n",
    "else:\n",
    "    print(\"No hay una diferencia significativa en el tamaño promedio de pedido entre los grupos A y B.\")\n"
   ]
  },
  {
   "cell_type": "markdown",
   "metadata": {},
   "source": [
    "<div style=\"background-color: lightblue; padding: 10px; border-radius: 5px;\"><div style=\"background-color: lightblue; padding: 10px; border-radius: 5px;\">\n",
    "Al realizar el análisis para encontrar la significancia estadística de la diferencia en el tamaño promedio de pedido entre los grupos (datos en bruto), notamos que el p-valor de 0.6915 indica que no hay evidencia estadística suficiente para concluir que existe una diferencia en el tamaño promedio de pedido entre los grupos A y B. Dado que el p-valor es mucho mayor que el umbral estándar de 0.05, cualquier diferencia observada es probablemente resultado del azar. En resumen, no se puede afirmar que uno de los grupos tenga un tamaño promedio de pedido significativamente diferente del otro."
   ]
  },
  {
   "cell_type": "code",
   "execution_count": 49,
   "metadata": {},
   "outputs": [
    {
     "name": "stdout",
     "output_type": "stream",
     "text": [
      "Estadístico U: 340.0\n",
      "p-valor: 0.04872384162663466\n",
      "La diferencia en la tasa de conversión entre los grupos es estadísticamente significativa.\n"
     ]
    }
   ],
   "source": [
    "# 11. Significancia estadística de la diferencia en la conversión (datos filtrados)\n",
    "# Extraemos las tasas de conversión de cada grupo\n",
    "conversion_A = experiment_A['convertion']\n",
    "conversion_B = experiment_B['convertion']\n",
    "\n",
    "# Prueba de Mann-Whitney U para la tasa de conversión\n",
    "stat, p_value = mannwhitneyu(conversion_A, conversion_B, alternative='two-sided')\n",
    "print(\"Estadístico U:\", stat)\n",
    "print(\"p-valor:\", p_value)\n",
    "\n",
    "if p_value < 0.05:\n",
    "    print(\"La diferencia en la tasa de conversión entre los grupos es estadísticamente significativa.\")\n",
    "else:\n",
    "    print(\"No hay una diferencia estadísticamente significativa en la tasa de conversión entre los grupos.\")\n"
   ]
  },
  {
   "cell_type": "markdown",
   "metadata": {},
   "source": [
    "<div style=\"background-color: lightblue; padding: 10px; border-radius: 5px;\">\n",
    "Al buscar la significancia estadística de la diferencia en la conversión (datos filtrados), notamos que la diferencia en las tasas de conversión entre los grupos es estadísticamente significativa, con un p-valor de 0.0487. Esto indica que la diferencia observada no es producto del azar y que existe una diferencia real en las tasas de conversión entre los grupos analizados.\n",
    "\n"
   ]
  },
  {
   "cell_type": "markdown",
   "metadata": {},
   "source": [
    "<div class=\"alert alert-block alert-success\">\n",
    "<b>Comentario del revisor. (Iteración 1) </b> <a class=\"tocSkip\"></a>\n",
    "\n",
    "Perfecto! Muy bien!"
   ]
  },
  {
   "cell_type": "code",
   "execution_count": 50,
   "metadata": {},
   "outputs": [
    {
     "name": "stdout",
     "output_type": "stream",
     "text": [
      "Estadístico U: 494.0\n",
      "p-valor: 0.854781183252115\n",
      "No hay una diferencia estadísticamente significativa en el tamaño promedio de pedido entre los grupos.\n"
     ]
    }
   ],
   "source": [
    "# 12. Significancia estadística de la diferencia en el tamaño promedio de pedido (datos filtrados)\n",
    "# Calculamos el tamaño promedio de pedido para cada grupo\n",
    "size_order_A = sales_group_A['total_sales'] / sales_group_A['total_orders']\n",
    "size_order_B = sales_group_B['total_sales'] / sales_group_B['total_orders']\n",
    "\n",
    "# Prueba de Mann-Whitney U para el tamaño promedio de pedido\n",
    "stat, p_value = mannwhitneyu(size_order_A, size_order_B, alternative='two-sided')\n",
    "print(\"Estadístico U:\", stat)\n",
    "print(\"p-valor:\", p_value)\n",
    "\n",
    "if p_value < 0.05:\n",
    "    print(\"La diferencia en el tamaño promedio de pedido entre los grupos es estadísticamente significativa.\")\n",
    "else:\n",
    "    print(\"No hay una diferencia estadísticamente significativa en el tamaño promedio de pedido entre los grupos.\")\n"
   ]
  },
  {
   "cell_type": "markdown",
   "metadata": {},
   "source": [
    "<div style=\"background-color: lightblue; padding: 10px; border-radius: 5px;\">\n",
    "Al realizar el análisis de significancia estadística de la diferencia en el tamaño promedio de pedido (datos filtrados, podemos notar que el tamaño promedio de pedido entre los grupos no muestra una diferencia estadísticamente significativa, con un p-valor de 0.8548. Esto sugiere que no hay evidencia suficiente para afirmar que exista una diferencia real en el tamaño de los pedidos entre los grupos analizados."
   ]
  },
  {
   "cell_type": "markdown",
   "metadata": {},
   "source": [
    "13.- Tomaremos una decisión basada en los resultados de la prueba. Las decisiones posibles son: 1. Parar la prueba, considerar a uno de los grupos como líder. 2. Parar la prueba, concluir que no hay diferencia entre los grupos. 3. Continuar la prueba."
   ]
  },
  {
   "cell_type": "markdown",
   "metadata": {},
   "source": [
    "<div style=\"background-color: lightblue; padding: 10px; border-radius: 5px;\">\n",
    "Decisión: 1.- Parar la prueba, considerar a uno de los grupos como líder.\n",
    "Aunque no se ha encontrado una diferencia significativa en el tamaño promedio de los pedidos, sí hay una diferencia estadísticamente significativa en las tasas de conversión entre los grupos A y B (p-valor de 0.0487), lo que sugiere que el grupo B tiene un mejor rendimiento en este aspecto.\n",
    "\n",
    "Dado que la tasa de conversión es un KPI clave, la decisión más lógica es detener la prueba y considerar al grupo B como el líder. El tamaño promedio de pedido no afecta esta decisión, ya que no hay evidencia de una diferencia relevante en esa área.\n",
    "\n",
    "No se optó por continuar con la prueba, ya que podría implicar más tiempo y recursos sin beneficios adicionales. Dado que ya se ha identificado una diferencia significativa en la tasa de conversión, lo más eficiente es finalizar la prueba y tomar decisiones basadas en los resultados actuales."
   ]
  },
  {
   "cell_type": "markdown",
   "metadata": {},
   "source": [
    "<div class=\"alert alert-block alert-success\">\n",
    "<b>Comentario del revisor. (Iteración 1) </b> <a class=\"tocSkip\"></a>\n",
    "\n",
    "Muy bien! Te felicito por un análisis tan completo y por profundizar en cada punto."
   ]
  },
  {
   "cell_type": "markdown",
   "metadata": {},
   "source": [
    "Conclusión general:\n",
    "\n",
    "El análisis de las pruebas A/B en la tienda online ha proporcionado valiosa información para evaluar el impacto de diferentes estrategias de marketing. A continuación, se resumen los hallazgos clave:\n",
    "\n",
    "Tasas de conversión: La diferencia en las tasas de conversión entre los grupos A y B es estadísticamente significativa (p-valor de 0.0487), lo que sugiere que el grupo B tiene un desempeño significativamente mejor que el otro. Esto podría ser un indicativo de que alguna de las estrategias implementadas tiene un efecto real en la conversión de usuarios.\n",
    "\n",
    "Tamaño promedio de pedido: No se encontró una diferencia estadísticamente significativa en el tamaño promedio de pedido entre los grupos A y B, tanto en los datos filtrados como en los no filtrados (p-valor de 0.8548 en ambos casos). Esto indica que las estrategias implementadas no tuvieron un impacto claro sobre el valor promedio de los pedidos y cualquier diferencia observada probablemente se deba al azar.\n",
    "\n",
    "Impacto de las estrategias de marketing: A partir del análisis de priorización de hipótesis con las metodologías ICE y RICE, se seleccionó la hipótesis 7 (agregar un formulario de suscripción en todas las páginas principales) como la estrategia más prometedora, dado su mayor alcance potencial y su capacidad de beneficiar a una mayor cantidad de usuarios. Aunque la hipótesis 8 mostró una alta puntuación en ICE, la hipótesis 7 tiene un mayor impacto potencial al considerar la combinación de impacto, confianza y alcance.\n",
    "\n",
    "Comportamiento de los usuarios: A pesar de algunas fluctuaciones diarias en las ventas, en general, el grupo B mostró un desempeño superior en términos de tasa de conversión en varios días clave, especialmente entre el 17 y el 21 de agosto, lo que sugiere que la estrategia aplicada en el grupo B podría estar favoreciendo a un segmento de usuarios específico.\n",
    "\n",
    "Anomalías en los precios y pedidos: Aunque la mayoría de los pedidos son de bajo valor, se observan algunas compras significativamente más altas, lo que podría estar relacionado con productos de mayor valor o situaciones excepcionales (como errores en la facturación).\n",
    "\n",
    "Resumen final:\n",
    "\n",
    "El análisis muestra que, aunque las estrategias probadas no tuvieron un impacto significativo en el tamaño promedio de pedido, sí hubo una diferencia significativa en las tasas de conversión, lo que podría ser el factor más relevante para aumentar los ingresos. La hipótesis 7, que busca aumentar la base de usuarios suscritos, parece ser la más prometedora para futuras pruebas."
   ]
  }
 ],
 "metadata": {
  "ExecuteTimeLog": [
   {
    "duration": 2149,
    "start_time": "2024-11-05T18:52:52.467Z"
   },
   {
    "duration": 27,
    "start_time": "2024-11-05T18:52:54.618Z"
   },
   {
    "duration": 10,
    "start_time": "2024-11-05T18:54:10.062Z"
   },
   {
    "duration": 8,
    "start_time": "2024-11-05T18:54:22.785Z"
   },
   {
    "duration": 5,
    "start_time": "2024-11-05T18:54:49.711Z"
   },
   {
    "duration": 5,
    "start_time": "2024-11-05T18:55:15.400Z"
   },
   {
    "duration": 8,
    "start_time": "2024-11-05T19:01:11.165Z"
   },
   {
    "duration": 7,
    "start_time": "2024-11-05T19:01:36.779Z"
   },
   {
    "duration": 9,
    "start_time": "2024-11-05T19:01:59.075Z"
   },
   {
    "duration": 6,
    "start_time": "2024-11-05T19:06:01.062Z"
   },
   {
    "duration": 5,
    "start_time": "2024-11-05T19:06:27.281Z"
   },
   {
    "duration": 4,
    "start_time": "2024-11-05T19:09:17.160Z"
   },
   {
    "duration": 11,
    "start_time": "2024-11-05T19:09:28.838Z"
   },
   {
    "duration": 6,
    "start_time": "2024-11-05T19:14:57.343Z"
   },
   {
    "duration": 8,
    "start_time": "2024-11-05T19:16:11.275Z"
   },
   {
    "duration": 5,
    "start_time": "2024-11-05T19:16:45.114Z"
   },
   {
    "duration": 4,
    "start_time": "2024-11-05T19:17:10.354Z"
   },
   {
    "duration": 9,
    "start_time": "2024-11-05T19:18:32.690Z"
   },
   {
    "duration": 14,
    "start_time": "2024-11-05T19:42:30.022Z"
   },
   {
    "duration": 8,
    "start_time": "2024-11-05T19:43:53.571Z"
   },
   {
    "duration": 5,
    "start_time": "2024-11-05T19:49:42.155Z"
   },
   {
    "duration": 10,
    "start_time": "2024-11-05T19:49:56.583Z"
   },
   {
    "duration": 10,
    "start_time": "2024-11-05T19:56:07.896Z"
   },
   {
    "duration": 10,
    "start_time": "2024-11-05T19:56:19.366Z"
   },
   {
    "duration": 10,
    "start_time": "2024-11-05T19:56:31.665Z"
   },
   {
    "duration": 5,
    "start_time": "2024-11-05T19:56:58.177Z"
   },
   {
    "duration": 4,
    "start_time": "2024-11-05T19:57:00.837Z"
   },
   {
    "duration": 10,
    "start_time": "2024-11-05T19:57:04.728Z"
   },
   {
    "duration": 11,
    "start_time": "2024-11-05T19:57:14.555Z"
   },
   {
    "duration": 11,
    "start_time": "2024-11-05T19:57:17.322Z"
   },
   {
    "duration": 475,
    "start_time": "2024-11-05T19:57:40.034Z"
   },
   {
    "duration": 64,
    "start_time": "2024-11-05T19:57:40.517Z"
   },
   {
    "duration": 8,
    "start_time": "2024-11-05T19:57:40.583Z"
   },
   {
    "duration": 8,
    "start_time": "2024-11-05T19:57:40.594Z"
   },
   {
    "duration": 9,
    "start_time": "2024-11-05T19:57:40.604Z"
   },
   {
    "duration": 10,
    "start_time": "2024-11-05T19:57:40.616Z"
   },
   {
    "duration": 8,
    "start_time": "2024-11-05T19:57:40.630Z"
   },
   {
    "duration": 9,
    "start_time": "2024-11-05T19:57:40.640Z"
   },
   {
    "duration": 6,
    "start_time": "2024-11-05T19:57:40.650Z"
   },
   {
    "duration": 5,
    "start_time": "2024-11-05T19:57:40.661Z"
   },
   {
    "duration": 10,
    "start_time": "2024-11-05T19:57:40.667Z"
   },
   {
    "duration": 5,
    "start_time": "2024-11-05T19:57:40.679Z"
   },
   {
    "duration": 10,
    "start_time": "2024-11-05T19:57:40.709Z"
   },
   {
    "duration": 6,
    "start_time": "2024-11-05T19:57:40.721Z"
   },
   {
    "duration": 4,
    "start_time": "2024-11-05T19:57:40.729Z"
   },
   {
    "duration": 12,
    "start_time": "2024-11-05T19:57:40.735Z"
   },
   {
    "duration": 11,
    "start_time": "2024-11-05T19:57:40.748Z"
   },
   {
    "duration": 4,
    "start_time": "2024-11-05T19:57:40.760Z"
   },
   {
    "duration": 4,
    "start_time": "2024-11-05T19:57:52.007Z"
   },
   {
    "duration": 4,
    "start_time": "2024-11-05T19:57:56.644Z"
   },
   {
    "duration": 4,
    "start_time": "2024-11-05T19:58:05.865Z"
   },
   {
    "duration": 9,
    "start_time": "2024-11-05T19:58:12.459Z"
   },
   {
    "duration": 4,
    "start_time": "2024-11-05T19:59:21.683Z"
   },
   {
    "duration": 11,
    "start_time": "2024-11-05T19:59:52.271Z"
   },
   {
    "duration": 5,
    "start_time": "2024-11-05T19:59:54.253Z"
   },
   {
    "duration": 10,
    "start_time": "2024-11-05T19:59:58.196Z"
   },
   {
    "duration": 34,
    "start_time": "2024-11-05T20:00:13.003Z"
   },
   {
    "duration": 10,
    "start_time": "2024-11-05T20:00:17.869Z"
   },
   {
    "duration": 6,
    "start_time": "2024-11-05T20:00:20.731Z"
   },
   {
    "duration": 10,
    "start_time": "2024-11-05T20:00:30.638Z"
   },
   {
    "duration": 428,
    "start_time": "2024-11-05T20:00:39.184Z"
   },
   {
    "duration": 50,
    "start_time": "2024-11-05T20:00:39.629Z"
   },
   {
    "duration": 9,
    "start_time": "2024-11-05T20:00:39.681Z"
   },
   {
    "duration": 8,
    "start_time": "2024-11-05T20:00:39.693Z"
   },
   {
    "duration": 5,
    "start_time": "2024-11-05T20:00:39.702Z"
   },
   {
    "duration": 25,
    "start_time": "2024-11-05T20:00:39.712Z"
   },
   {
    "duration": 8,
    "start_time": "2024-11-05T20:00:39.739Z"
   },
   {
    "duration": 10,
    "start_time": "2024-11-05T20:00:39.749Z"
   },
   {
    "duration": 13,
    "start_time": "2024-11-05T20:00:39.761Z"
   },
   {
    "duration": 6,
    "start_time": "2024-11-05T20:00:39.777Z"
   },
   {
    "duration": 11,
    "start_time": "2024-11-05T20:00:39.785Z"
   },
   {
    "duration": 33,
    "start_time": "2024-11-05T20:00:39.798Z"
   },
   {
    "duration": 7,
    "start_time": "2024-11-05T20:00:39.833Z"
   },
   {
    "duration": 6,
    "start_time": "2024-11-05T20:00:39.842Z"
   },
   {
    "duration": 4,
    "start_time": "2024-11-05T20:00:39.850Z"
   },
   {
    "duration": 8,
    "start_time": "2024-11-05T20:00:39.855Z"
   },
   {
    "duration": 10,
    "start_time": "2024-11-05T20:00:39.864Z"
   },
   {
    "duration": 3,
    "start_time": "2024-11-05T20:00:39.876Z"
   },
   {
    "duration": 31,
    "start_time": "2024-11-05T20:00:39.881Z"
   },
   {
    "duration": 6,
    "start_time": "2024-11-05T20:00:59.950Z"
   },
   {
    "duration": 7,
    "start_time": "2024-11-05T20:04:27.421Z"
   },
   {
    "duration": 4,
    "start_time": "2024-11-05T20:04:31.304Z"
   },
   {
    "duration": 7,
    "start_time": "2024-11-05T20:04:32.425Z"
   },
   {
    "duration": 10,
    "start_time": "2024-11-05T20:04:39.150Z"
   },
   {
    "duration": 11,
    "start_time": "2024-11-05T20:04:52.405Z"
   },
   {
    "duration": 437,
    "start_time": "2024-11-05T20:05:00.670Z"
   },
   {
    "duration": 71,
    "start_time": "2024-11-05T20:05:01.113Z"
   },
   {
    "duration": 9,
    "start_time": "2024-11-05T20:05:01.185Z"
   },
   {
    "duration": 9,
    "start_time": "2024-11-05T20:05:01.196Z"
   },
   {
    "duration": 21,
    "start_time": "2024-11-05T20:05:01.208Z"
   },
   {
    "duration": 6,
    "start_time": "2024-11-05T20:05:01.233Z"
   },
   {
    "duration": 8,
    "start_time": "2024-11-05T20:05:01.241Z"
   },
   {
    "duration": 9,
    "start_time": "2024-11-05T20:05:01.250Z"
   },
   {
    "duration": 7,
    "start_time": "2024-11-05T20:05:01.261Z"
   },
   {
    "duration": 7,
    "start_time": "2024-11-05T20:05:01.270Z"
   },
   {
    "duration": 33,
    "start_time": "2024-11-05T20:05:01.278Z"
   },
   {
    "duration": 14,
    "start_time": "2024-11-05T20:05:01.325Z"
   },
   {
    "duration": 10,
    "start_time": "2024-11-05T20:05:01.341Z"
   },
   {
    "duration": 6,
    "start_time": "2024-11-05T20:05:01.355Z"
   },
   {
    "duration": 5,
    "start_time": "2024-11-05T20:05:01.362Z"
   },
   {
    "duration": 10,
    "start_time": "2024-11-05T20:05:01.368Z"
   },
   {
    "duration": 5,
    "start_time": "2024-11-05T20:05:01.380Z"
   },
   {
    "duration": 43,
    "start_time": "2024-11-05T20:05:01.386Z"
   },
   {
    "duration": 11,
    "start_time": "2024-11-05T20:05:01.431Z"
   },
   {
    "duration": 4,
    "start_time": "2024-11-05T20:05:19.737Z"
   },
   {
    "duration": 15,
    "start_time": "2024-11-05T20:05:30.813Z"
   },
   {
    "duration": 9,
    "start_time": "2024-11-05T20:05:35.863Z"
   },
   {
    "duration": 10,
    "start_time": "2024-11-05T20:05:51.614Z"
   },
   {
    "duration": 11,
    "start_time": "2024-11-05T20:05:57.360Z"
   },
   {
    "duration": 9,
    "start_time": "2024-11-05T20:06:00.394Z"
   },
   {
    "duration": 5,
    "start_time": "2024-11-05T20:06:05.130Z"
   },
   {
    "duration": 10,
    "start_time": "2024-11-05T20:06:12.691Z"
   },
   {
    "duration": 3,
    "start_time": "2024-11-05T20:06:22.204Z"
   },
   {
    "duration": 10,
    "start_time": "2024-11-05T20:06:26.867Z"
   },
   {
    "duration": 17,
    "start_time": "2024-11-05T20:06:29.017Z"
   },
   {
    "duration": 27,
    "start_time": "2024-11-05T20:06:39.006Z"
   },
   {
    "duration": 10,
    "start_time": "2024-11-05T20:06:41.344Z"
   },
   {
    "duration": 4,
    "start_time": "2024-11-05T20:06:43.361Z"
   },
   {
    "duration": 12,
    "start_time": "2024-11-05T20:06:45.965Z"
   },
   {
    "duration": 4,
    "start_time": "2024-11-05T20:06:48.173Z"
   },
   {
    "duration": 5,
    "start_time": "2024-11-05T20:07:02.292Z"
   },
   {
    "duration": 5,
    "start_time": "2024-11-05T20:07:03.786Z"
   },
   {
    "duration": 4,
    "start_time": "2024-11-05T20:07:04.633Z"
   },
   {
    "duration": 14,
    "start_time": "2024-11-05T20:07:10.166Z"
   },
   {
    "duration": 8,
    "start_time": "2024-11-05T20:07:10.925Z"
   },
   {
    "duration": 7,
    "start_time": "2024-11-05T20:07:21.959Z"
   },
   {
    "duration": 8,
    "start_time": "2024-11-05T20:07:28.347Z"
   },
   {
    "duration": 10,
    "start_time": "2024-11-05T20:07:30.032Z"
   },
   {
    "duration": 6,
    "start_time": "2024-11-05T20:07:32.529Z"
   },
   {
    "duration": 12,
    "start_time": "2024-11-05T20:08:08.233Z"
   },
   {
    "duration": 420,
    "start_time": "2024-11-05T20:14:01.337Z"
   },
   {
    "duration": 73,
    "start_time": "2024-11-05T20:14:01.759Z"
   },
   {
    "duration": 8,
    "start_time": "2024-11-05T20:14:01.837Z"
   },
   {
    "duration": 8,
    "start_time": "2024-11-05T20:14:01.848Z"
   },
   {
    "duration": 6,
    "start_time": "2024-11-05T20:14:01.858Z"
   },
   {
    "duration": 4,
    "start_time": "2024-11-05T20:14:01.865Z"
   },
   {
    "duration": 7,
    "start_time": "2024-11-05T20:14:01.871Z"
   },
   {
    "duration": 8,
    "start_time": "2024-11-05T20:14:01.880Z"
   },
   {
    "duration": 44,
    "start_time": "2024-11-05T20:14:01.890Z"
   },
   {
    "duration": 5,
    "start_time": "2024-11-05T20:14:01.936Z"
   },
   {
    "duration": 12,
    "start_time": "2024-11-05T20:14:03.792Z"
   },
   {
    "duration": 23,
    "start_time": "2024-11-05T20:14:03.806Z"
   },
   {
    "duration": 9,
    "start_time": "2024-11-05T20:14:03.830Z"
   },
   {
    "duration": 5,
    "start_time": "2024-11-05T20:14:03.840Z"
   },
   {
    "duration": 4,
    "start_time": "2024-11-05T20:14:03.847Z"
   },
   {
    "duration": 9,
    "start_time": "2024-11-05T20:14:03.852Z"
   },
   {
    "duration": 9,
    "start_time": "2024-11-05T20:14:03.862Z"
   },
   {
    "duration": 3,
    "start_time": "2024-11-05T20:14:03.873Z"
   },
   {
    "duration": 9,
    "start_time": "2024-11-05T20:14:03.878Z"
   },
   {
    "duration": 44,
    "start_time": "2024-11-05T20:14:03.888Z"
   },
   {
    "duration": 10,
    "start_time": "2024-11-05T20:27:06.429Z"
   },
   {
    "duration": 6,
    "start_time": "2024-11-05T20:27:40.134Z"
   },
   {
    "duration": 8,
    "start_time": "2024-11-05T20:27:48.848Z"
   },
   {
    "duration": 2115,
    "start_time": "2024-11-05T22:48:38.136Z"
   },
   {
    "duration": 23,
    "start_time": "2024-11-05T22:48:40.253Z"
   },
   {
    "duration": 9,
    "start_time": "2024-11-05T22:48:40.278Z"
   },
   {
    "duration": 8,
    "start_time": "2024-11-05T22:48:40.288Z"
   },
   {
    "duration": 5,
    "start_time": "2024-11-05T22:48:40.298Z"
   },
   {
    "duration": 4,
    "start_time": "2024-11-05T22:48:40.305Z"
   },
   {
    "duration": 6,
    "start_time": "2024-11-05T22:48:40.311Z"
   },
   {
    "duration": 8,
    "start_time": "2024-11-05T22:48:40.342Z"
   },
   {
    "duration": 5,
    "start_time": "2024-11-05T22:48:40.351Z"
   },
   {
    "duration": 5,
    "start_time": "2024-11-05T22:48:40.357Z"
   },
   {
    "duration": 9,
    "start_time": "2024-11-05T22:48:40.365Z"
   },
   {
    "duration": 6,
    "start_time": "2024-11-05T22:48:40.376Z"
   },
   {
    "duration": 8,
    "start_time": "2024-11-05T22:48:40.384Z"
   },
   {
    "duration": 5,
    "start_time": "2024-11-05T22:48:40.396Z"
   },
   {
    "duration": 5,
    "start_time": "2024-11-05T22:48:40.442Z"
   },
   {
    "duration": 9,
    "start_time": "2024-11-05T22:48:40.449Z"
   },
   {
    "duration": 12,
    "start_time": "2024-11-05T22:48:40.461Z"
   },
   {
    "duration": 3,
    "start_time": "2024-11-05T22:48:40.475Z"
   },
   {
    "duration": 13,
    "start_time": "2024-11-05T22:48:40.481Z"
   },
   {
    "duration": 8,
    "start_time": "2024-11-05T22:48:40.495Z"
   },
   {
    "duration": 38,
    "start_time": "2024-11-05T22:48:40.506Z"
   },
   {
    "duration": 8,
    "start_time": "2024-11-05T22:48:40.546Z"
   },
   {
    "duration": 11,
    "start_time": "2024-11-05T22:54:33.974Z"
   },
   {
    "duration": 7,
    "start_time": "2024-11-05T22:57:23.182Z"
   },
   {
    "duration": 99,
    "start_time": "2024-11-05T22:57:31.289Z"
   },
   {
    "duration": 10,
    "start_time": "2024-11-05T22:57:55.494Z"
   },
   {
    "duration": 11,
    "start_time": "2024-11-05T22:59:30.098Z"
   },
   {
    "duration": 5,
    "start_time": "2024-11-05T23:07:59.758Z"
   },
   {
    "duration": 9,
    "start_time": "2024-11-05T23:08:09.261Z"
   },
   {
    "duration": 16,
    "start_time": "2024-11-05T23:12:10.431Z"
   },
   {
    "duration": 15,
    "start_time": "2024-11-05T23:15:33.056Z"
   },
   {
    "duration": 14,
    "start_time": "2024-11-05T23:16:59.931Z"
   },
   {
    "duration": 14,
    "start_time": "2024-11-05T23:17:22.891Z"
   },
   {
    "duration": 15,
    "start_time": "2024-11-05T23:17:39.275Z"
   },
   {
    "duration": 6,
    "start_time": "2024-11-05T23:32:13.776Z"
   },
   {
    "duration": 147,
    "start_time": "2024-11-05T23:33:37.040Z"
   },
   {
    "duration": 11,
    "start_time": "2024-11-05T23:34:19.710Z"
   },
   {
    "duration": 12,
    "start_time": "2024-11-05T23:34:52.248Z"
   },
   {
    "duration": 9,
    "start_time": "2024-11-05T23:43:30.959Z"
   },
   {
    "duration": 16,
    "start_time": "2024-11-05T23:50:03.051Z"
   },
   {
    "duration": 10,
    "start_time": "2024-11-05T23:59:58.312Z"
   },
   {
    "duration": 15,
    "start_time": "2024-11-06T00:04:29.394Z"
   },
   {
    "duration": 11,
    "start_time": "2024-11-06T00:05:20.764Z"
   },
   {
    "duration": 9,
    "start_time": "2024-11-06T00:05:22.657Z"
   },
   {
    "duration": 399,
    "start_time": "2024-11-06T00:05:31.703Z"
   },
   {
    "duration": 50,
    "start_time": "2024-11-06T00:05:32.104Z"
   },
   {
    "duration": 10,
    "start_time": "2024-11-06T00:05:32.155Z"
   },
   {
    "duration": 8,
    "start_time": "2024-11-06T00:05:32.168Z"
   },
   {
    "duration": 5,
    "start_time": "2024-11-06T00:05:32.177Z"
   },
   {
    "duration": 6,
    "start_time": "2024-11-06T00:05:32.183Z"
   },
   {
    "duration": 7,
    "start_time": "2024-11-06T00:05:32.190Z"
   },
   {
    "duration": 8,
    "start_time": "2024-11-06T00:05:32.198Z"
   },
   {
    "duration": 36,
    "start_time": "2024-11-06T00:05:32.208Z"
   },
   {
    "duration": 5,
    "start_time": "2024-11-06T00:05:32.246Z"
   },
   {
    "duration": 10,
    "start_time": "2024-11-06T00:05:32.253Z"
   },
   {
    "duration": 7,
    "start_time": "2024-11-06T00:05:32.265Z"
   },
   {
    "duration": 7,
    "start_time": "2024-11-06T00:05:32.273Z"
   },
   {
    "duration": 6,
    "start_time": "2024-11-06T00:05:32.282Z"
   },
   {
    "duration": 4,
    "start_time": "2024-11-06T00:05:32.289Z"
   },
   {
    "duration": 8,
    "start_time": "2024-11-06T00:05:32.295Z"
   },
   {
    "duration": 47,
    "start_time": "2024-11-06T00:05:32.304Z"
   },
   {
    "duration": 3,
    "start_time": "2024-11-06T00:05:32.353Z"
   },
   {
    "duration": 9,
    "start_time": "2024-11-06T00:05:32.358Z"
   },
   {
    "duration": 4,
    "start_time": "2024-11-06T00:05:32.369Z"
   },
   {
    "duration": 7,
    "start_time": "2024-11-06T00:05:32.374Z"
   },
   {
    "duration": 5,
    "start_time": "2024-11-06T00:05:32.382Z"
   },
   {
    "duration": 8,
    "start_time": "2024-11-06T00:05:32.388Z"
   },
   {
    "duration": 52,
    "start_time": "2024-11-06T00:05:32.398Z"
   },
   {
    "duration": 10,
    "start_time": "2024-11-06T00:05:32.451Z"
   },
   {
    "duration": 7,
    "start_time": "2024-11-06T00:05:32.463Z"
   },
   {
    "duration": 11,
    "start_time": "2024-11-06T00:10:10.254Z"
   },
   {
    "duration": 10,
    "start_time": "2024-11-06T00:10:11.588Z"
   },
   {
    "duration": 10,
    "start_time": "2024-11-06T00:10:16.498Z"
   },
   {
    "duration": 10,
    "start_time": "2024-11-06T00:10:18.507Z"
   },
   {
    "duration": 12,
    "start_time": "2024-11-06T00:10:20.185Z"
   },
   {
    "duration": 9,
    "start_time": "2024-11-06T00:10:21.827Z"
   },
   {
    "duration": 11,
    "start_time": "2024-11-06T00:10:38.622Z"
   },
   {
    "duration": 10,
    "start_time": "2024-11-06T00:11:27.369Z"
   },
   {
    "duration": 10,
    "start_time": "2024-11-06T00:11:30.126Z"
   },
   {
    "duration": 15,
    "start_time": "2024-11-06T00:11:41.069Z"
   },
   {
    "duration": 12,
    "start_time": "2024-11-06T00:11:56.137Z"
   },
   {
    "duration": 6,
    "start_time": "2024-11-06T00:13:37.018Z"
   },
   {
    "duration": 16,
    "start_time": "2024-11-06T00:13:42.019Z"
   },
   {
    "duration": 10,
    "start_time": "2024-11-06T00:13:50.424Z"
   },
   {
    "duration": 5,
    "start_time": "2024-11-06T00:20:34.877Z"
   },
   {
    "duration": 11,
    "start_time": "2024-11-06T00:20:46.069Z"
   },
   {
    "duration": 2269,
    "start_time": "2024-11-06T18:21:32.108Z"
   },
   {
    "duration": 21,
    "start_time": "2024-11-06T18:21:34.379Z"
   },
   {
    "duration": 9,
    "start_time": "2024-11-06T18:21:34.401Z"
   },
   {
    "duration": 13,
    "start_time": "2024-11-06T18:21:34.413Z"
   },
   {
    "duration": 5,
    "start_time": "2024-11-06T18:21:34.428Z"
   },
   {
    "duration": 5,
    "start_time": "2024-11-06T18:21:34.434Z"
   },
   {
    "duration": 6,
    "start_time": "2024-11-06T18:21:34.442Z"
   },
   {
    "duration": 8,
    "start_time": "2024-11-06T18:21:34.450Z"
   },
   {
    "duration": 5,
    "start_time": "2024-11-06T18:21:34.460Z"
   },
   {
    "duration": 5,
    "start_time": "2024-11-06T18:21:34.469Z"
   },
   {
    "duration": 50,
    "start_time": "2024-11-06T18:21:34.475Z"
   },
   {
    "duration": 7,
    "start_time": "2024-11-06T18:21:34.526Z"
   },
   {
    "duration": 8,
    "start_time": "2024-11-06T18:21:34.534Z"
   },
   {
    "duration": 4,
    "start_time": "2024-11-06T18:21:34.544Z"
   },
   {
    "duration": 5,
    "start_time": "2024-11-06T18:21:34.550Z"
   },
   {
    "duration": 9,
    "start_time": "2024-11-06T18:21:34.557Z"
   },
   {
    "duration": 10,
    "start_time": "2024-11-06T18:21:34.567Z"
   },
   {
    "duration": 46,
    "start_time": "2024-11-06T18:21:34.578Z"
   },
   {
    "duration": 9,
    "start_time": "2024-11-06T18:21:34.626Z"
   },
   {
    "duration": 4,
    "start_time": "2024-11-06T18:21:34.637Z"
   },
   {
    "duration": 7,
    "start_time": "2024-11-06T18:21:34.643Z"
   },
   {
    "duration": 5,
    "start_time": "2024-11-06T18:21:34.651Z"
   },
   {
    "duration": 8,
    "start_time": "2024-11-06T18:21:34.657Z"
   },
   {
    "duration": 10,
    "start_time": "2024-11-06T18:21:34.666Z"
   },
   {
    "duration": 54,
    "start_time": "2024-11-06T18:21:34.677Z"
   },
   {
    "duration": 11,
    "start_time": "2024-11-06T18:21:34.733Z"
   },
   {
    "duration": 10,
    "start_time": "2024-11-06T18:21:34.746Z"
   },
   {
    "duration": 11,
    "start_time": "2024-11-06T18:25:39.201Z"
   },
   {
    "duration": 9,
    "start_time": "2024-11-06T18:27:11.345Z"
   },
   {
    "duration": 9,
    "start_time": "2024-11-06T18:27:32.797Z"
   },
   {
    "duration": 138,
    "start_time": "2024-11-06T18:32:57.243Z"
   },
   {
    "duration": 131,
    "start_time": "2024-11-06T18:33:09.768Z"
   },
   {
    "duration": 184,
    "start_time": "2024-11-06T18:33:20.713Z"
   },
   {
    "duration": 135,
    "start_time": "2024-11-06T18:33:31.200Z"
   },
   {
    "duration": 5,
    "start_time": "2024-11-06T18:37:06.776Z"
   },
   {
    "duration": 5,
    "start_time": "2024-11-06T18:37:59.040Z"
   },
   {
    "duration": 4,
    "start_time": "2024-11-06T18:38:04.412Z"
   },
   {
    "duration": 133,
    "start_time": "2024-11-06T19:03:43.538Z"
   },
   {
    "duration": 140,
    "start_time": "2024-11-06T19:04:17.830Z"
   },
   {
    "duration": 5,
    "start_time": "2024-11-06T19:19:17.121Z"
   },
   {
    "duration": 14,
    "start_time": "2024-11-06T19:19:27.078Z"
   },
   {
    "duration": 10,
    "start_time": "2024-11-06T19:19:36.357Z"
   },
   {
    "duration": 123,
    "start_time": "2024-11-06T19:29:39.616Z"
   },
   {
    "duration": 136,
    "start_time": "2024-11-06T19:30:51.813Z"
   },
   {
    "duration": 129,
    "start_time": "2024-11-06T19:38:27.374Z"
   },
   {
    "duration": 212,
    "start_time": "2024-11-06T19:39:40.376Z"
   },
   {
    "duration": 3,
    "start_time": "2024-11-06T19:45:16.633Z"
   },
   {
    "duration": 3,
    "start_time": "2024-11-06T19:46:11.997Z"
   },
   {
    "duration": 11,
    "start_time": "2024-11-06T19:46:26.383Z"
   },
   {
    "duration": 6,
    "start_time": "2024-11-06T19:49:52.156Z"
   },
   {
    "duration": 160,
    "start_time": "2024-11-06T19:58:14.496Z"
   },
   {
    "duration": 2167,
    "start_time": "2024-11-07T04:01:27.081Z"
   },
   {
    "duration": 18,
    "start_time": "2024-11-07T04:01:29.250Z"
   },
   {
    "duration": 10,
    "start_time": "2024-11-07T04:01:29.270Z"
   },
   {
    "duration": 9,
    "start_time": "2024-11-07T04:01:29.282Z"
   },
   {
    "duration": 5,
    "start_time": "2024-11-07T04:01:29.293Z"
   },
   {
    "duration": 5,
    "start_time": "2024-11-07T04:01:29.299Z"
   },
   {
    "duration": 23,
    "start_time": "2024-11-07T04:01:29.306Z"
   },
   {
    "duration": 8,
    "start_time": "2024-11-07T04:01:29.330Z"
   },
   {
    "duration": 6,
    "start_time": "2024-11-07T04:01:29.339Z"
   },
   {
    "duration": 4,
    "start_time": "2024-11-07T04:01:29.346Z"
   },
   {
    "duration": 9,
    "start_time": "2024-11-07T04:01:29.352Z"
   },
   {
    "duration": 6,
    "start_time": "2024-11-07T04:01:29.363Z"
   },
   {
    "duration": 7,
    "start_time": "2024-11-07T04:01:29.370Z"
   },
   {
    "duration": 5,
    "start_time": "2024-11-07T04:01:29.425Z"
   },
   {
    "duration": 5,
    "start_time": "2024-11-07T04:01:29.431Z"
   },
   {
    "duration": 9,
    "start_time": "2024-11-07T04:01:29.437Z"
   },
   {
    "duration": 9,
    "start_time": "2024-11-07T04:01:29.448Z"
   },
   {
    "duration": 3,
    "start_time": "2024-11-07T04:01:29.459Z"
   },
   {
    "duration": 9,
    "start_time": "2024-11-07T04:01:29.464Z"
   },
   {
    "duration": 4,
    "start_time": "2024-11-07T04:01:29.474Z"
   },
   {
    "duration": 49,
    "start_time": "2024-11-07T04:01:29.480Z"
   },
   {
    "duration": 4,
    "start_time": "2024-11-07T04:01:29.531Z"
   },
   {
    "duration": 9,
    "start_time": "2024-11-07T04:01:29.536Z"
   },
   {
    "duration": 8,
    "start_time": "2024-11-07T04:01:29.546Z"
   },
   {
    "duration": 14,
    "start_time": "2024-11-07T04:01:29.556Z"
   },
   {
    "duration": 10,
    "start_time": "2024-11-07T04:01:29.571Z"
   },
   {
    "duration": 49,
    "start_time": "2024-11-07T04:01:29.583Z"
   },
   {
    "duration": 9,
    "start_time": "2024-11-07T04:01:29.633Z"
   },
   {
    "duration": 7,
    "start_time": "2024-11-07T04:01:29.644Z"
   },
   {
    "duration": 158,
    "start_time": "2024-11-07T04:01:29.653Z"
   },
   {
    "duration": 11,
    "start_time": "2024-11-07T04:01:29.814Z"
   },
   {
    "duration": 4,
    "start_time": "2024-11-07T04:01:29.826Z"
   },
   {
    "duration": 3,
    "start_time": "2024-11-07T04:01:29.831Z"
   },
   {
    "duration": 148,
    "start_time": "2024-11-07T04:01:29.835Z"
   },
   {
    "duration": 9,
    "start_time": "2024-11-07T04:01:29.985Z"
   },
   {
    "duration": 294,
    "start_time": "2024-11-07T04:01:29.996Z"
   },
   {
    "duration": 9,
    "start_time": "2024-11-07T04:01:30.292Z"
   },
   {
    "duration": 7,
    "start_time": "2024-11-07T04:01:30.302Z"
   },
   {
    "duration": 156,
    "start_time": "2024-11-07T04:01:30.324Z"
   },
   {
    "duration": 8,
    "start_time": "2024-11-07T04:56:27.527Z"
   },
   {
    "duration": 3,
    "start_time": "2024-11-07T04:56:54.048Z"
   },
   {
    "duration": 450,
    "start_time": "2024-11-07T04:57:21.857Z"
   },
   {
    "duration": 51,
    "start_time": "2024-11-07T04:57:22.309Z"
   },
   {
    "duration": 9,
    "start_time": "2024-11-07T04:57:22.362Z"
   },
   {
    "duration": 9,
    "start_time": "2024-11-07T04:57:22.373Z"
   },
   {
    "duration": 5,
    "start_time": "2024-11-07T04:57:22.383Z"
   },
   {
    "duration": 4,
    "start_time": "2024-11-07T04:57:22.390Z"
   },
   {
    "duration": 31,
    "start_time": "2024-11-07T04:57:22.395Z"
   },
   {
    "duration": 8,
    "start_time": "2024-11-07T04:57:22.428Z"
   },
   {
    "duration": 5,
    "start_time": "2024-11-07T04:57:22.437Z"
   },
   {
    "duration": 5,
    "start_time": "2024-11-07T04:57:22.445Z"
   },
   {
    "duration": 10,
    "start_time": "2024-11-07T04:57:22.451Z"
   },
   {
    "duration": 5,
    "start_time": "2024-11-07T04:57:22.463Z"
   },
   {
    "duration": 8,
    "start_time": "2024-11-07T04:57:22.470Z"
   },
   {
    "duration": 46,
    "start_time": "2024-11-07T04:57:22.479Z"
   },
   {
    "duration": 4,
    "start_time": "2024-11-07T04:57:22.526Z"
   },
   {
    "duration": 9,
    "start_time": "2024-11-07T04:57:22.532Z"
   },
   {
    "duration": 8,
    "start_time": "2024-11-07T04:57:22.543Z"
   },
   {
    "duration": 3,
    "start_time": "2024-11-07T04:57:22.553Z"
   },
   {
    "duration": 10,
    "start_time": "2024-11-07T04:57:22.558Z"
   },
   {
    "duration": 4,
    "start_time": "2024-11-07T04:57:22.570Z"
   },
   {
    "duration": 6,
    "start_time": "2024-11-07T04:57:22.576Z"
   },
   {
    "duration": 5,
    "start_time": "2024-11-07T04:57:22.624Z"
   },
   {
    "duration": 8,
    "start_time": "2024-11-07T04:57:22.631Z"
   },
   {
    "duration": 9,
    "start_time": "2024-11-07T04:57:22.640Z"
   },
   {
    "duration": 15,
    "start_time": "2024-11-07T04:57:22.650Z"
   },
   {
    "duration": 15,
    "start_time": "2024-11-07T04:57:22.666Z"
   },
   {
    "duration": 46,
    "start_time": "2024-11-07T04:57:22.683Z"
   },
   {
    "duration": 10,
    "start_time": "2024-11-07T04:57:22.733Z"
   },
   {
    "duration": 8,
    "start_time": "2024-11-07T04:57:22.744Z"
   },
   {
    "duration": 156,
    "start_time": "2024-11-07T04:57:22.754Z"
   },
   {
    "duration": 4,
    "start_time": "2024-11-07T04:57:22.912Z"
   },
   {
    "duration": 10,
    "start_time": "2024-11-07T04:57:22.917Z"
   },
   {
    "duration": 2,
    "start_time": "2024-11-07T04:57:22.930Z"
   },
   {
    "duration": 155,
    "start_time": "2024-11-07T04:57:22.934Z"
   },
   {
    "duration": 11,
    "start_time": "2024-11-07T04:57:23.092Z"
   },
   {
    "duration": 242,
    "start_time": "2024-11-07T04:57:23.105Z"
   },
   {
    "duration": 10,
    "start_time": "2024-11-07T04:57:23.349Z"
   },
   {
    "duration": 7,
    "start_time": "2024-11-07T04:57:23.361Z"
   },
   {
    "duration": 172,
    "start_time": "2024-11-07T04:57:23.369Z"
   },
   {
    "duration": 4,
    "start_time": "2024-11-07T04:57:23.542Z"
   },
   {
    "duration": 4,
    "start_time": "2024-11-07T04:58:20.889Z"
   },
   {
    "duration": 395,
    "start_time": "2024-11-07T04:58:57.010Z"
   },
   {
    "duration": 47,
    "start_time": "2024-11-07T04:58:57.407Z"
   },
   {
    "duration": 9,
    "start_time": "2024-11-07T04:58:57.456Z"
   },
   {
    "duration": 8,
    "start_time": "2024-11-07T04:58:57.467Z"
   },
   {
    "duration": 4,
    "start_time": "2024-11-07T04:58:57.478Z"
   },
   {
    "duration": 4,
    "start_time": "2024-11-07T04:58:57.484Z"
   },
   {
    "duration": 7,
    "start_time": "2024-11-07T04:58:57.489Z"
   },
   {
    "duration": 30,
    "start_time": "2024-11-07T04:58:57.497Z"
   },
   {
    "duration": 11,
    "start_time": "2024-11-07T04:58:57.529Z"
   },
   {
    "duration": 5,
    "start_time": "2024-11-07T04:58:57.543Z"
   },
   {
    "duration": 10,
    "start_time": "2024-11-07T04:58:57.551Z"
   },
   {
    "duration": 6,
    "start_time": "2024-11-07T04:58:57.562Z"
   },
   {
    "duration": 8,
    "start_time": "2024-11-07T04:58:57.569Z"
   },
   {
    "duration": 4,
    "start_time": "2024-11-07T04:58:57.581Z"
   },
   {
    "duration": 42,
    "start_time": "2024-11-07T04:58:57.587Z"
   },
   {
    "duration": 10,
    "start_time": "2024-11-07T04:58:57.630Z"
   },
   {
    "duration": 10,
    "start_time": "2024-11-07T04:58:57.642Z"
   },
   {
    "duration": 4,
    "start_time": "2024-11-07T04:58:57.653Z"
   },
   {
    "duration": 10,
    "start_time": "2024-11-07T04:58:57.659Z"
   },
   {
    "duration": 4,
    "start_time": "2024-11-07T04:58:57.670Z"
   },
   {
    "duration": 7,
    "start_time": "2024-11-07T04:58:57.676Z"
   },
   {
    "duration": 6,
    "start_time": "2024-11-07T04:58:57.724Z"
   },
   {
    "duration": 10,
    "start_time": "2024-11-07T04:58:57.732Z"
   },
   {
    "duration": 9,
    "start_time": "2024-11-07T04:58:57.743Z"
   },
   {
    "duration": 14,
    "start_time": "2024-11-07T04:58:57.753Z"
   },
   {
    "duration": 11,
    "start_time": "2024-11-07T04:58:57.769Z"
   },
   {
    "duration": 44,
    "start_time": "2024-11-07T04:58:57.782Z"
   },
   {
    "duration": 11,
    "start_time": "2024-11-07T04:58:57.828Z"
   },
   {
    "duration": 9,
    "start_time": "2024-11-07T04:58:57.841Z"
   },
   {
    "duration": 168,
    "start_time": "2024-11-07T04:58:57.851Z"
   },
   {
    "duration": 5,
    "start_time": "2024-11-07T04:58:58.024Z"
   },
   {
    "duration": 6,
    "start_time": "2024-11-07T04:58:58.031Z"
   },
   {
    "duration": 2,
    "start_time": "2024-11-07T04:58:58.040Z"
   },
   {
    "duration": 151,
    "start_time": "2024-11-07T04:58:58.045Z"
   },
   {
    "duration": 10,
    "start_time": "2024-11-07T04:58:58.198Z"
   },
   {
    "duration": 245,
    "start_time": "2024-11-07T04:58:58.211Z"
   },
   {
    "duration": 11,
    "start_time": "2024-11-07T04:58:58.458Z"
   },
   {
    "duration": 5,
    "start_time": "2024-11-07T04:58:58.470Z"
   },
   {
    "duration": 167,
    "start_time": "2024-11-07T04:58:58.477Z"
   },
   {
    "duration": 4,
    "start_time": "2024-11-07T04:58:58.646Z"
   },
   {
    "duration": 7,
    "start_time": "2024-11-07T04:59:52.381Z"
   },
   {
    "duration": 11,
    "start_time": "2024-11-07T05:00:18.669Z"
   },
   {
    "duration": 237,
    "start_time": "2024-11-07T05:06:34.935Z"
   },
   {
    "duration": 188,
    "start_time": "2024-11-07T05:06:53.079Z"
   },
   {
    "duration": 221,
    "start_time": "2024-11-07T05:08:33.343Z"
   },
   {
    "duration": 6,
    "start_time": "2024-11-07T05:19:57.320Z"
   },
   {
    "duration": 10,
    "start_time": "2024-11-07T05:20:06.190Z"
   },
   {
    "duration": 9,
    "start_time": "2024-11-07T05:20:15.150Z"
   },
   {
    "duration": 7,
    "start_time": "2024-11-07T05:22:22.783Z"
   },
   {
    "duration": 12,
    "start_time": "2024-11-07T05:23:35.612Z"
   },
   {
    "duration": 11,
    "start_time": "2024-11-07T05:23:49.189Z"
   },
   {
    "duration": 11,
    "start_time": "2024-11-07T05:24:12.339Z"
   },
   {
    "duration": 10,
    "start_time": "2024-11-07T05:24:39.942Z"
   },
   {
    "duration": 12,
    "start_time": "2024-11-07T05:25:58.685Z"
   },
   {
    "duration": 343,
    "start_time": "2024-11-07T05:29:49.820Z"
   },
   {
    "duration": 114,
    "start_time": "2024-11-07T05:31:21.665Z"
   },
   {
    "duration": 95,
    "start_time": "2024-11-07T05:31:35.931Z"
   },
   {
    "duration": 94,
    "start_time": "2024-11-07T05:31:42.658Z"
   },
   {
    "duration": 90,
    "start_time": "2024-11-07T05:31:49.709Z"
   },
   {
    "duration": 840,
    "start_time": "2024-11-07T05:32:06.941Z"
   },
   {
    "duration": 93,
    "start_time": "2024-11-07T05:32:24.134Z"
   },
   {
    "duration": 91,
    "start_time": "2024-11-07T05:35:08.300Z"
   },
   {
    "duration": 95,
    "start_time": "2024-11-07T05:36:33.437Z"
   },
   {
    "duration": 91,
    "start_time": "2024-11-07T05:38:28.661Z"
   },
   {
    "duration": 5,
    "start_time": "2024-11-07T05:41:22.671Z"
   },
   {
    "duration": 176,
    "start_time": "2024-11-07T19:53:40.729Z"
   },
   {
    "duration": 2615,
    "start_time": "2024-11-07T19:54:26.002Z"
   },
   {
    "duration": 20,
    "start_time": "2024-11-07T19:54:28.620Z"
   },
   {
    "duration": 9,
    "start_time": "2024-11-07T19:54:28.642Z"
   },
   {
    "duration": 39,
    "start_time": "2024-11-07T19:54:28.654Z"
   },
   {
    "duration": 6,
    "start_time": "2024-11-07T19:54:28.701Z"
   },
   {
    "duration": 4,
    "start_time": "2024-11-07T19:54:28.709Z"
   },
   {
    "duration": 8,
    "start_time": "2024-11-07T19:54:28.715Z"
   },
   {
    "duration": 10,
    "start_time": "2024-11-07T19:54:28.725Z"
   },
   {
    "duration": 6,
    "start_time": "2024-11-07T19:54:28.737Z"
   },
   {
    "duration": 6,
    "start_time": "2024-11-07T19:54:28.747Z"
   },
   {
    "duration": 27,
    "start_time": "2024-11-07T19:54:28.754Z"
   },
   {
    "duration": 10,
    "start_time": "2024-11-07T19:54:28.783Z"
   },
   {
    "duration": 14,
    "start_time": "2024-11-07T19:54:28.797Z"
   },
   {
    "duration": 4,
    "start_time": "2024-11-07T19:54:28.815Z"
   },
   {
    "duration": 4,
    "start_time": "2024-11-07T19:54:28.821Z"
   },
   {
    "duration": 11,
    "start_time": "2024-11-07T19:54:28.827Z"
   },
   {
    "duration": 13,
    "start_time": "2024-11-07T19:54:28.840Z"
   },
   {
    "duration": 9,
    "start_time": "2024-11-07T19:54:28.870Z"
   },
   {
    "duration": 28,
    "start_time": "2024-11-07T19:54:28.880Z"
   },
   {
    "duration": 4,
    "start_time": "2024-11-07T19:54:28.910Z"
   },
   {
    "duration": 8,
    "start_time": "2024-11-07T19:54:28.916Z"
   },
   {
    "duration": 5,
    "start_time": "2024-11-07T19:54:28.926Z"
   },
   {
    "duration": 9,
    "start_time": "2024-11-07T19:54:28.934Z"
   },
   {
    "duration": 10,
    "start_time": "2024-11-07T19:54:28.944Z"
   },
   {
    "duration": 33,
    "start_time": "2024-11-07T19:54:28.974Z"
   },
   {
    "duration": 11,
    "start_time": "2024-11-07T19:54:29.012Z"
   },
   {
    "duration": 13,
    "start_time": "2024-11-07T19:54:29.026Z"
   },
   {
    "duration": 11,
    "start_time": "2024-11-07T19:54:29.045Z"
   },
   {
    "duration": 23,
    "start_time": "2024-11-07T19:54:29.058Z"
   },
   {
    "duration": 169,
    "start_time": "2024-11-07T19:54:29.082Z"
   },
   {
    "duration": 5,
    "start_time": "2024-11-07T19:54:29.253Z"
   },
   {
    "duration": 4,
    "start_time": "2024-11-07T19:54:29.259Z"
   },
   {
    "duration": 8,
    "start_time": "2024-11-07T19:54:29.274Z"
   },
   {
    "duration": 150,
    "start_time": "2024-11-07T19:54:29.284Z"
   },
   {
    "duration": 12,
    "start_time": "2024-11-07T19:54:29.436Z"
   },
   {
    "duration": 238,
    "start_time": "2024-11-07T19:54:29.450Z"
   },
   {
    "duration": 10,
    "start_time": "2024-11-07T19:54:29.693Z"
   },
   {
    "duration": 6,
    "start_time": "2024-11-07T19:54:29.705Z"
   },
   {
    "duration": 213,
    "start_time": "2024-11-07T19:54:29.713Z"
   },
   {
    "duration": 11,
    "start_time": "2024-11-07T19:54:29.929Z"
   },
   {
    "duration": 187,
    "start_time": "2024-11-07T19:54:29.942Z"
   },
   {
    "duration": 13,
    "start_time": "2024-11-07T19:54:30.130Z"
   },
   {
    "duration": 125,
    "start_time": "2024-11-07T19:54:30.144Z"
   },
   {
    "duration": 102,
    "start_time": "2024-11-07T19:54:30.277Z"
   },
   {
    "duration": 5,
    "start_time": "2024-11-07T19:54:30.381Z"
   },
   {
    "duration": 11,
    "start_time": "2024-11-07T19:55:06.586Z"
   },
   {
    "duration": 9,
    "start_time": "2024-11-07T19:55:16.735Z"
   },
   {
    "duration": 206,
    "start_time": "2024-11-07T20:00:34.491Z"
   },
   {
    "duration": 210,
    "start_time": "2024-11-07T20:00:43.795Z"
   },
   {
    "duration": 202,
    "start_time": "2024-11-07T20:01:01.335Z"
   },
   {
    "duration": 219,
    "start_time": "2024-11-07T20:01:13.287Z"
   },
   {
    "duration": 131,
    "start_time": "2024-11-07T20:01:21.399Z"
   },
   {
    "duration": 209,
    "start_time": "2024-11-07T20:01:53.026Z"
   },
   {
    "duration": 215,
    "start_time": "2024-11-07T20:02:11.890Z"
   },
   {
    "duration": 183,
    "start_time": "2024-11-07T20:02:21.039Z"
   },
   {
    "duration": 136,
    "start_time": "2024-11-07T20:02:27.227Z"
   },
   {
    "duration": 104,
    "start_time": "2024-11-07T20:20:02.895Z"
   },
   {
    "duration": 5,
    "start_time": "2024-11-07T20:24:18.825Z"
   },
   {
    "duration": 125,
    "start_time": "2024-11-07T20:24:30.640Z"
   },
   {
    "duration": 97,
    "start_time": "2024-11-07T20:24:50.014Z"
   },
   {
    "duration": 4,
    "start_time": "2024-11-07T20:25:21.764Z"
   },
   {
    "duration": 334,
    "start_time": "2024-11-07T20:28:28.490Z"
   },
   {
    "duration": 5,
    "start_time": "2024-11-07T20:29:24.144Z"
   },
   {
    "duration": 2,
    "start_time": "2024-11-07T20:30:58.124Z"
   },
   {
    "duration": 2455,
    "start_time": "2024-11-08T19:04:18.413Z"
   },
   {
    "duration": 15,
    "start_time": "2024-11-08T19:04:20.870Z"
   },
   {
    "duration": 8,
    "start_time": "2024-11-08T19:04:20.886Z"
   },
   {
    "duration": 14,
    "start_time": "2024-11-08T19:04:20.896Z"
   },
   {
    "duration": 5,
    "start_time": "2024-11-08T19:04:20.914Z"
   },
   {
    "duration": 5,
    "start_time": "2024-11-08T19:04:20.920Z"
   },
   {
    "duration": 7,
    "start_time": "2024-11-08T19:04:20.926Z"
   },
   {
    "duration": 8,
    "start_time": "2024-11-08T19:04:20.934Z"
   },
   {
    "duration": 5,
    "start_time": "2024-11-08T19:04:20.943Z"
   },
   {
    "duration": 4,
    "start_time": "2024-11-08T19:04:20.950Z"
   },
   {
    "duration": 9,
    "start_time": "2024-11-08T19:04:20.955Z"
   },
   {
    "duration": 5,
    "start_time": "2024-11-08T19:04:21.009Z"
   },
   {
    "duration": 7,
    "start_time": "2024-11-08T19:04:21.016Z"
   },
   {
    "duration": 4,
    "start_time": "2024-11-08T19:04:21.027Z"
   },
   {
    "duration": 4,
    "start_time": "2024-11-08T19:04:21.033Z"
   },
   {
    "duration": 8,
    "start_time": "2024-11-08T19:04:21.039Z"
   },
   {
    "duration": 8,
    "start_time": "2024-11-08T19:04:21.050Z"
   },
   {
    "duration": 3,
    "start_time": "2024-11-08T19:04:21.060Z"
   },
   {
    "duration": 50,
    "start_time": "2024-11-08T19:04:21.064Z"
   },
   {
    "duration": 4,
    "start_time": "2024-11-08T19:04:21.116Z"
   },
   {
    "duration": 7,
    "start_time": "2024-11-08T19:04:21.121Z"
   },
   {
    "duration": 5,
    "start_time": "2024-11-08T19:04:21.129Z"
   },
   {
    "duration": 7,
    "start_time": "2024-11-08T19:04:21.136Z"
   },
   {
    "duration": 9,
    "start_time": "2024-11-08T19:04:21.145Z"
   },
   {
    "duration": 15,
    "start_time": "2024-11-08T19:04:21.155Z"
   },
   {
    "duration": 48,
    "start_time": "2024-11-08T19:04:21.172Z"
   },
   {
    "duration": 10,
    "start_time": "2024-11-08T19:04:21.221Z"
   },
   {
    "duration": 8,
    "start_time": "2024-11-08T19:04:21.233Z"
   },
   {
    "duration": 8,
    "start_time": "2024-11-08T19:04:21.243Z"
   },
   {
    "duration": 176,
    "start_time": "2024-11-08T19:04:21.253Z"
   },
   {
    "duration": 4,
    "start_time": "2024-11-08T19:04:21.430Z"
   },
   {
    "duration": 3,
    "start_time": "2024-11-08T19:04:21.436Z"
   },
   {
    "duration": 2,
    "start_time": "2024-11-08T19:04:21.441Z"
   },
   {
    "duration": 143,
    "start_time": "2024-11-08T19:04:21.445Z"
   },
   {
    "duration": 10,
    "start_time": "2024-11-08T19:04:21.589Z"
   },
   {
    "duration": 262,
    "start_time": "2024-11-08T19:04:21.609Z"
   },
   {
    "duration": 9,
    "start_time": "2024-11-08T19:04:21.873Z"
   },
   {
    "duration": 5,
    "start_time": "2024-11-08T19:04:21.884Z"
   },
   {
    "duration": 165,
    "start_time": "2024-11-08T19:04:21.908Z"
   },
   {
    "duration": 10,
    "start_time": "2024-11-08T19:04:22.075Z"
   },
   {
    "duration": 195,
    "start_time": "2024-11-08T19:04:22.089Z"
   },
   {
    "duration": 10,
    "start_time": "2024-11-08T19:04:22.285Z"
   },
   {
    "duration": 101,
    "start_time": "2024-11-08T19:04:22.309Z"
   },
   {
    "duration": 100,
    "start_time": "2024-11-08T19:04:22.412Z"
   },
   {
    "duration": 4,
    "start_time": "2024-11-08T19:04:22.514Z"
   },
   {
    "duration": 109,
    "start_time": "2024-11-08T19:04:22.519Z"
   },
   {
    "duration": 4,
    "start_time": "2024-11-08T19:04:22.630Z"
   },
   {
    "duration": 6,
    "start_time": "2024-11-08T19:04:22.635Z"
   },
   {
    "duration": 5,
    "start_time": "2024-11-08T19:04:22.642Z"
   },
   {
    "duration": 28,
    "start_time": "2024-11-08T19:15:50.174Z"
   },
   {
    "duration": 13,
    "start_time": "2024-11-08T19:16:32.732Z"
   },
   {
    "duration": 10,
    "start_time": "2024-11-08T19:21:02.936Z"
   },
   {
    "duration": 16,
    "start_time": "2024-11-08T19:28:32.548Z"
   },
   {
    "duration": 9,
    "start_time": "2024-11-08T19:29:41.093Z"
   },
   {
    "duration": 7,
    "start_time": "2024-11-08T19:41:00.851Z"
   },
   {
    "duration": 6,
    "start_time": "2024-11-08T19:48:52.326Z"
   },
   {
    "duration": 3,
    "start_time": "2024-11-08T19:49:57.080Z"
   },
   {
    "duration": 5,
    "start_time": "2024-11-08T19:50:15.197Z"
   },
   {
    "duration": 5,
    "start_time": "2024-11-08T19:51:20.993Z"
   },
   {
    "duration": 5,
    "start_time": "2024-11-08T19:57:51.806Z"
   },
   {
    "duration": 2555,
    "start_time": "2024-11-08T21:03:43.955Z"
   },
   {
    "duration": 16,
    "start_time": "2024-11-08T21:03:46.512Z"
   },
   {
    "duration": 13,
    "start_time": "2024-11-08T21:03:46.529Z"
   },
   {
    "duration": 9,
    "start_time": "2024-11-08T21:03:46.544Z"
   },
   {
    "duration": 5,
    "start_time": "2024-11-08T21:03:46.555Z"
   },
   {
    "duration": 4,
    "start_time": "2024-11-08T21:03:46.561Z"
   },
   {
    "duration": 8,
    "start_time": "2024-11-08T21:03:46.567Z"
   },
   {
    "duration": 9,
    "start_time": "2024-11-08T21:03:46.576Z"
   },
   {
    "duration": 5,
    "start_time": "2024-11-08T21:03:46.586Z"
   },
   {
    "duration": 6,
    "start_time": "2024-11-08T21:03:46.592Z"
   },
   {
    "duration": 50,
    "start_time": "2024-11-08T21:03:46.599Z"
   },
   {
    "duration": 5,
    "start_time": "2024-11-08T21:03:46.651Z"
   },
   {
    "duration": 8,
    "start_time": "2024-11-08T21:03:46.659Z"
   },
   {
    "duration": 4,
    "start_time": "2024-11-08T21:03:46.672Z"
   },
   {
    "duration": 4,
    "start_time": "2024-11-08T21:03:46.678Z"
   },
   {
    "duration": 8,
    "start_time": "2024-11-08T21:03:46.684Z"
   },
   {
    "duration": 51,
    "start_time": "2024-11-08T21:03:46.694Z"
   },
   {
    "duration": 3,
    "start_time": "2024-11-08T21:03:46.747Z"
   },
   {
    "duration": 11,
    "start_time": "2024-11-08T21:03:46.752Z"
   },
   {
    "duration": 5,
    "start_time": "2024-11-08T21:03:46.765Z"
   },
   {
    "duration": 9,
    "start_time": "2024-11-08T21:03:46.772Z"
   },
   {
    "duration": 6,
    "start_time": "2024-11-08T21:03:46.783Z"
   },
   {
    "duration": 9,
    "start_time": "2024-11-08T21:03:46.791Z"
   },
   {
    "duration": 49,
    "start_time": "2024-11-08T21:03:46.802Z"
   },
   {
    "duration": 15,
    "start_time": "2024-11-08T21:03:46.852Z"
   },
   {
    "duration": 11,
    "start_time": "2024-11-08T21:03:46.869Z"
   },
   {
    "duration": 11,
    "start_time": "2024-11-08T21:03:46.882Z"
   },
   {
    "duration": 9,
    "start_time": "2024-11-08T21:03:46.895Z"
   },
   {
    "duration": 41,
    "start_time": "2024-11-08T21:03:46.906Z"
   },
   {
    "duration": 151,
    "start_time": "2024-11-08T21:03:46.948Z"
   },
   {
    "duration": 4,
    "start_time": "2024-11-08T21:03:47.101Z"
   },
   {
    "duration": 4,
    "start_time": "2024-11-08T21:03:47.107Z"
   },
   {
    "duration": 2,
    "start_time": "2024-11-08T21:03:47.113Z"
   },
   {
    "duration": 145,
    "start_time": "2024-11-08T21:03:47.116Z"
   },
   {
    "duration": 10,
    "start_time": "2024-11-08T21:03:47.262Z"
   },
   {
    "duration": 241,
    "start_time": "2024-11-08T21:03:47.275Z"
   },
   {
    "duration": 9,
    "start_time": "2024-11-08T21:03:47.518Z"
   },
   {
    "duration": 16,
    "start_time": "2024-11-08T21:03:47.529Z"
   },
   {
    "duration": 168,
    "start_time": "2024-11-08T21:03:47.547Z"
   },
   {
    "duration": 12,
    "start_time": "2024-11-08T21:03:47.717Z"
   },
   {
    "duration": 214,
    "start_time": "2024-11-08T21:03:47.734Z"
   },
   {
    "duration": 12,
    "start_time": "2024-11-08T21:03:47.949Z"
   },
   {
    "duration": 110,
    "start_time": "2024-11-08T21:03:47.963Z"
   },
   {
    "duration": 104,
    "start_time": "2024-11-08T21:03:48.074Z"
   },
   {
    "duration": 4,
    "start_time": "2024-11-08T21:03:48.180Z"
   },
   {
    "duration": 110,
    "start_time": "2024-11-08T21:03:48.186Z"
   },
   {
    "duration": 4,
    "start_time": "2024-11-08T21:03:48.298Z"
   },
   {
    "duration": 83,
    "start_time": "2024-11-08T21:03:48.304Z"
   },
   {
    "duration": 7,
    "start_time": "2024-11-08T21:03:48.390Z"
   },
   {
    "duration": 5,
    "start_time": "2024-11-08T21:03:48.399Z"
   },
   {
    "duration": 6,
    "start_time": "2024-11-08T21:03:48.405Z"
   },
   {
    "duration": 782,
    "start_time": "2024-11-08T21:05:08.786Z"
   },
   {
    "duration": 11,
    "start_time": "2024-11-08T21:05:09.571Z"
   },
   {
    "duration": 8,
    "start_time": "2024-11-08T21:05:09.584Z"
   },
   {
    "duration": 8,
    "start_time": "2024-11-08T21:05:09.595Z"
   },
   {
    "duration": 6,
    "start_time": "2024-11-08T21:05:09.604Z"
   },
   {
    "duration": 33,
    "start_time": "2024-11-08T21:05:09.611Z"
   },
   {
    "duration": 6,
    "start_time": "2024-11-08T21:05:09.646Z"
   },
   {
    "duration": 8,
    "start_time": "2024-11-08T21:05:09.653Z"
   },
   {
    "duration": 5,
    "start_time": "2024-11-08T21:05:09.663Z"
   },
   {
    "duration": 4,
    "start_time": "2024-11-08T21:05:09.671Z"
   },
   {
    "duration": 9,
    "start_time": "2024-11-08T21:05:09.677Z"
   },
   {
    "duration": 5,
    "start_time": "2024-11-08T21:05:09.688Z"
   },
   {
    "duration": 49,
    "start_time": "2024-11-08T21:05:09.695Z"
   },
   {
    "duration": 5,
    "start_time": "2024-11-08T21:05:09.745Z"
   },
   {
    "duration": 5,
    "start_time": "2024-11-08T21:05:09.751Z"
   },
   {
    "duration": 8,
    "start_time": "2024-11-08T21:05:09.758Z"
   },
   {
    "duration": 9,
    "start_time": "2024-11-08T21:05:09.768Z"
   },
   {
    "duration": 4,
    "start_time": "2024-11-08T21:05:09.778Z"
   },
   {
    "duration": 9,
    "start_time": "2024-11-08T21:05:09.783Z"
   },
   {
    "duration": 4,
    "start_time": "2024-11-08T21:05:09.794Z"
   },
   {
    "duration": 47,
    "start_time": "2024-11-08T21:05:09.800Z"
   },
   {
    "duration": 4,
    "start_time": "2024-11-08T21:05:09.849Z"
   },
   {
    "duration": 8,
    "start_time": "2024-11-08T21:05:09.855Z"
   },
   {
    "duration": 10,
    "start_time": "2024-11-08T21:05:09.864Z"
   },
   {
    "duration": 14,
    "start_time": "2024-11-08T21:05:09.876Z"
   },
   {
    "duration": 11,
    "start_time": "2024-11-08T21:05:09.891Z"
   },
   {
    "duration": 10,
    "start_time": "2024-11-08T21:05:09.943Z"
   },
   {
    "duration": 9,
    "start_time": "2024-11-08T21:05:09.956Z"
   },
   {
    "duration": 9,
    "start_time": "2024-11-08T21:05:09.966Z"
   },
   {
    "duration": 163,
    "start_time": "2024-11-08T21:05:09.976Z"
   },
   {
    "duration": 4,
    "start_time": "2024-11-08T21:05:10.143Z"
   },
   {
    "duration": 4,
    "start_time": "2024-11-08T21:05:10.148Z"
   },
   {
    "duration": 4,
    "start_time": "2024-11-08T21:05:10.153Z"
   },
   {
    "duration": 146,
    "start_time": "2024-11-08T21:05:10.158Z"
   },
   {
    "duration": 11,
    "start_time": "2024-11-08T21:05:10.306Z"
   },
   {
    "duration": 241,
    "start_time": "2024-11-08T21:05:10.318Z"
   },
   {
    "duration": 9,
    "start_time": "2024-11-08T21:05:10.561Z"
   },
   {
    "duration": 7,
    "start_time": "2024-11-08T21:05:10.572Z"
   },
   {
    "duration": 175,
    "start_time": "2024-11-08T21:05:10.580Z"
   },
   {
    "duration": 10,
    "start_time": "2024-11-08T21:05:10.757Z"
   },
   {
    "duration": 241,
    "start_time": "2024-11-08T21:05:10.769Z"
   },
   {
    "duration": 11,
    "start_time": "2024-11-08T21:05:11.013Z"
   },
   {
    "duration": 120,
    "start_time": "2024-11-08T21:05:11.025Z"
   },
   {
    "duration": 113,
    "start_time": "2024-11-08T21:05:11.146Z"
   },
   {
    "duration": 4,
    "start_time": "2024-11-08T21:05:11.261Z"
   },
   {
    "duration": 107,
    "start_time": "2024-11-08T21:05:11.267Z"
   },
   {
    "duration": 4,
    "start_time": "2024-11-08T21:05:11.375Z"
   },
   {
    "duration": 16,
    "start_time": "2024-11-08T21:05:11.381Z"
   },
   {
    "duration": 7,
    "start_time": "2024-11-08T21:05:11.399Z"
   },
   {
    "duration": 5,
    "start_time": "2024-11-08T21:05:11.408Z"
   },
   {
    "duration": 5,
    "start_time": "2024-11-08T21:05:11.443Z"
   },
   {
    "duration": 3,
    "start_time": "2024-11-08T21:23:57.393Z"
   },
   {
    "duration": 4,
    "start_time": "2024-11-08T21:24:00.823Z"
   },
   {
    "duration": 4,
    "start_time": "2024-11-08T21:24:09.247Z"
   },
   {
    "duration": 4,
    "start_time": "2024-11-08T21:24:10.266Z"
   },
   {
    "duration": 4,
    "start_time": "2024-11-08T21:24:11.121Z"
   },
   {
    "duration": 9,
    "start_time": "2024-11-08T21:24:17.872Z"
   },
   {
    "duration": 767,
    "start_time": "2024-11-08T21:26:01.982Z"
   },
   {
    "duration": 12,
    "start_time": "2024-11-08T21:26:02.752Z"
   },
   {
    "duration": 9,
    "start_time": "2024-11-08T21:26:02.765Z"
   },
   {
    "duration": 9,
    "start_time": "2024-11-08T21:26:02.776Z"
   },
   {
    "duration": 5,
    "start_time": "2024-11-08T21:26:02.786Z"
   },
   {
    "duration": 4,
    "start_time": "2024-11-08T21:26:02.792Z"
   },
   {
    "duration": 7,
    "start_time": "2024-11-08T21:26:02.798Z"
   },
   {
    "duration": 44,
    "start_time": "2024-11-08T21:26:02.806Z"
   },
   {
    "duration": 5,
    "start_time": "2024-11-08T21:26:02.852Z"
   },
   {
    "duration": 6,
    "start_time": "2024-11-08T21:26:02.862Z"
   },
   {
    "duration": 12,
    "start_time": "2024-11-08T21:26:02.869Z"
   },
   {
    "duration": 7,
    "start_time": "2024-11-08T21:26:02.882Z"
   },
   {
    "duration": 9,
    "start_time": "2024-11-08T21:26:02.890Z"
   },
   {
    "duration": 42,
    "start_time": "2024-11-08T21:26:02.901Z"
   },
   {
    "duration": 4,
    "start_time": "2024-11-08T21:26:02.944Z"
   },
   {
    "duration": 10,
    "start_time": "2024-11-08T21:26:02.950Z"
   },
   {
    "duration": 10,
    "start_time": "2024-11-08T21:26:02.970Z"
   },
   {
    "duration": 3,
    "start_time": "2024-11-08T21:26:02.982Z"
   },
   {
    "duration": 9,
    "start_time": "2024-11-08T21:26:02.987Z"
   },
   {
    "duration": 3,
    "start_time": "2024-11-08T21:26:02.998Z"
   },
   {
    "duration": 8,
    "start_time": "2024-11-08T21:26:03.002Z"
   },
   {
    "duration": 5,
    "start_time": "2024-11-08T21:26:03.042Z"
   },
   {
    "duration": 8,
    "start_time": "2024-11-08T21:26:03.049Z"
   },
   {
    "duration": 10,
    "start_time": "2024-11-08T21:26:03.058Z"
   },
   {
    "duration": 15,
    "start_time": "2024-11-08T21:26:03.069Z"
   },
   {
    "duration": 12,
    "start_time": "2024-11-08T21:26:03.085Z"
   },
   {
    "duration": 47,
    "start_time": "2024-11-08T21:26:03.098Z"
   },
   {
    "duration": 8,
    "start_time": "2024-11-08T21:26:03.150Z"
   },
   {
    "duration": 8,
    "start_time": "2024-11-08T21:26:03.160Z"
   },
   {
    "duration": 164,
    "start_time": "2024-11-08T21:26:03.170Z"
   },
   {
    "duration": 8,
    "start_time": "2024-11-08T21:26:03.336Z"
   },
   {
    "duration": 4,
    "start_time": "2024-11-08T21:26:03.346Z"
   },
   {
    "duration": 3,
    "start_time": "2024-11-08T21:26:03.351Z"
   },
   {
    "duration": 145,
    "start_time": "2024-11-08T21:26:03.355Z"
   },
   {
    "duration": 11,
    "start_time": "2024-11-08T21:26:03.502Z"
   },
   {
    "duration": 231,
    "start_time": "2024-11-08T21:26:03.514Z"
   },
   {
    "duration": 13,
    "start_time": "2024-11-08T21:26:03.746Z"
   },
   {
    "duration": 6,
    "start_time": "2024-11-08T21:26:03.761Z"
   },
   {
    "duration": 166,
    "start_time": "2024-11-08T21:26:03.769Z"
   },
   {
    "duration": 11,
    "start_time": "2024-11-08T21:26:03.937Z"
   },
   {
    "duration": 268,
    "start_time": "2024-11-08T21:26:03.950Z"
   },
   {
    "duration": 22,
    "start_time": "2024-11-08T21:26:04.220Z"
   },
   {
    "duration": 98,
    "start_time": "2024-11-08T21:26:04.244Z"
   },
   {
    "duration": 105,
    "start_time": "2024-11-08T21:26:04.344Z"
   },
   {
    "duration": 4,
    "start_time": "2024-11-08T21:26:04.450Z"
   },
   {
    "duration": 104,
    "start_time": "2024-11-08T21:26:04.456Z"
   },
   {
    "duration": 3,
    "start_time": "2024-11-08T21:26:04.562Z"
   },
   {
    "duration": 17,
    "start_time": "2024-11-08T21:26:04.567Z"
   },
   {
    "duration": 6,
    "start_time": "2024-11-08T21:26:04.586Z"
   },
   {
    "duration": 5,
    "start_time": "2024-11-08T21:26:04.594Z"
   },
   {
    "duration": 6,
    "start_time": "2024-11-08T21:26:04.601Z"
   },
   {
    "duration": 328,
    "start_time": "2024-11-08T21:27:25.242Z"
   },
   {
    "duration": 5,
    "start_time": "2024-11-08T21:27:41.351Z"
   },
   {
    "duration": 9,
    "start_time": "2024-11-08T21:29:08.687Z"
   },
   {
    "duration": 10,
    "start_time": "2024-11-08T21:29:39.282Z"
   },
   {
    "duration": 763,
    "start_time": "2024-11-08T21:29:54.122Z"
   },
   {
    "duration": 11,
    "start_time": "2024-11-08T21:29:54.889Z"
   },
   {
    "duration": 9,
    "start_time": "2024-11-08T21:29:54.902Z"
   },
   {
    "duration": 10,
    "start_time": "2024-11-08T21:29:54.912Z"
   },
   {
    "duration": 19,
    "start_time": "2024-11-08T21:29:54.925Z"
   },
   {
    "duration": 6,
    "start_time": "2024-11-08T21:29:54.945Z"
   },
   {
    "duration": 8,
    "start_time": "2024-11-08T21:29:54.952Z"
   },
   {
    "duration": 9,
    "start_time": "2024-11-08T21:29:54.961Z"
   },
   {
    "duration": 6,
    "start_time": "2024-11-08T21:29:54.972Z"
   },
   {
    "duration": 5,
    "start_time": "2024-11-08T21:29:54.981Z"
   },
   {
    "duration": 11,
    "start_time": "2024-11-08T21:29:54.987Z"
   },
   {
    "duration": 8,
    "start_time": "2024-11-08T21:29:55.042Z"
   },
   {
    "duration": 8,
    "start_time": "2024-11-08T21:29:55.052Z"
   },
   {
    "duration": 6,
    "start_time": "2024-11-08T21:29:55.062Z"
   },
   {
    "duration": 5,
    "start_time": "2024-11-08T21:29:55.070Z"
   },
   {
    "duration": 9,
    "start_time": "2024-11-08T21:29:55.076Z"
   },
   {
    "duration": 10,
    "start_time": "2024-11-08T21:29:55.087Z"
   },
   {
    "duration": 44,
    "start_time": "2024-11-08T21:29:55.099Z"
   },
   {
    "duration": 12,
    "start_time": "2024-11-08T21:29:55.145Z"
   },
   {
    "duration": 4,
    "start_time": "2024-11-08T21:29:55.158Z"
   },
   {
    "duration": 8,
    "start_time": "2024-11-08T21:29:55.164Z"
   },
   {
    "duration": 6,
    "start_time": "2024-11-08T21:29:55.174Z"
   },
   {
    "duration": 9,
    "start_time": "2024-11-08T21:29:55.182Z"
   },
   {
    "duration": 11,
    "start_time": "2024-11-08T21:29:55.195Z"
   },
   {
    "duration": 16,
    "start_time": "2024-11-08T21:29:55.242Z"
   },
   {
    "duration": 12,
    "start_time": "2024-11-08T21:29:55.260Z"
   },
   {
    "duration": 11,
    "start_time": "2024-11-08T21:29:55.274Z"
   },
   {
    "duration": 9,
    "start_time": "2024-11-08T21:29:55.289Z"
   },
   {
    "duration": 10,
    "start_time": "2024-11-08T21:29:55.300Z"
   },
   {
    "duration": 148,
    "start_time": "2024-11-08T21:29:55.344Z"
   },
   {
    "duration": 5,
    "start_time": "2024-11-08T21:29:55.493Z"
   },
   {
    "duration": 7,
    "start_time": "2024-11-08T21:29:55.500Z"
   },
   {
    "duration": 2,
    "start_time": "2024-11-08T21:29:55.508Z"
   },
   {
    "duration": 141,
    "start_time": "2024-11-08T21:29:55.512Z"
   },
   {
    "duration": 11,
    "start_time": "2024-11-08T21:29:55.655Z"
   },
   {
    "duration": 241,
    "start_time": "2024-11-08T21:29:55.668Z"
   },
   {
    "duration": 11,
    "start_time": "2024-11-08T21:29:55.911Z"
   },
   {
    "duration": 22,
    "start_time": "2024-11-08T21:29:55.924Z"
   },
   {
    "duration": 164,
    "start_time": "2024-11-08T21:29:55.947Z"
   },
   {
    "duration": 11,
    "start_time": "2024-11-08T21:29:56.113Z"
   },
   {
    "duration": 281,
    "start_time": "2024-11-08T21:29:56.125Z"
   },
   {
    "duration": 10,
    "start_time": "2024-11-08T21:29:56.407Z"
   },
   {
    "duration": 108,
    "start_time": "2024-11-08T21:29:56.419Z"
   },
   {
    "duration": 107,
    "start_time": "2024-11-08T21:29:56.529Z"
   },
   {
    "duration": 9,
    "start_time": "2024-11-08T21:29:56.637Z"
   },
   {
    "duration": 109,
    "start_time": "2024-11-08T21:29:56.647Z"
   },
   {
    "duration": 4,
    "start_time": "2024-11-08T21:29:56.758Z"
   },
   {
    "duration": 17,
    "start_time": "2024-11-08T21:29:56.764Z"
   },
   {
    "duration": 7,
    "start_time": "2024-11-08T21:29:56.783Z"
   },
   {
    "duration": 5,
    "start_time": "2024-11-08T21:29:56.792Z"
   },
   {
    "duration": 6,
    "start_time": "2024-11-08T21:29:56.799Z"
   },
   {
    "duration": 4,
    "start_time": "2024-11-08T21:34:05.477Z"
   },
   {
    "duration": 9,
    "start_time": "2024-11-08T21:34:19.020Z"
   },
   {
    "duration": 4,
    "start_time": "2024-11-08T21:34:28.262Z"
   },
   {
    "duration": 803,
    "start_time": "2024-11-08T21:42:59.854Z"
   },
   {
    "duration": 15,
    "start_time": "2024-11-08T21:43:00.660Z"
   },
   {
    "duration": 9,
    "start_time": "2024-11-08T21:43:00.677Z"
   },
   {
    "duration": 8,
    "start_time": "2024-11-08T21:43:00.689Z"
   },
   {
    "duration": 5,
    "start_time": "2024-11-08T21:43:00.699Z"
   },
   {
    "duration": 5,
    "start_time": "2024-11-08T21:43:00.706Z"
   },
   {
    "duration": 33,
    "start_time": "2024-11-08T21:43:00.712Z"
   },
   {
    "duration": 11,
    "start_time": "2024-11-08T21:43:00.748Z"
   },
   {
    "duration": 4,
    "start_time": "2024-11-08T21:43:00.762Z"
   },
   {
    "duration": 5,
    "start_time": "2024-11-08T21:43:00.770Z"
   },
   {
    "duration": 9,
    "start_time": "2024-11-08T21:43:00.777Z"
   },
   {
    "duration": 6,
    "start_time": "2024-11-08T21:43:00.788Z"
   },
   {
    "duration": 9,
    "start_time": "2024-11-08T21:43:00.796Z"
   },
   {
    "duration": 5,
    "start_time": "2024-11-08T21:43:00.843Z"
   },
   {
    "duration": 6,
    "start_time": "2024-11-08T21:43:00.851Z"
   },
   {
    "duration": 10,
    "start_time": "2024-11-08T21:43:00.858Z"
   },
   {
    "duration": 10,
    "start_time": "2024-11-08T21:43:00.869Z"
   },
   {
    "duration": 3,
    "start_time": "2024-11-08T21:43:00.881Z"
   },
   {
    "duration": 5,
    "start_time": "2024-11-08T21:43:00.886Z"
   },
   {
    "duration": 4,
    "start_time": "2024-11-08T21:43:00.892Z"
   },
   {
    "duration": 48,
    "start_time": "2024-11-08T21:43:00.897Z"
   },
   {
    "duration": 6,
    "start_time": "2024-11-08T21:43:00.946Z"
   },
   {
    "duration": 10,
    "start_time": "2024-11-08T21:43:00.954Z"
   },
   {
    "duration": 9,
    "start_time": "2024-11-08T21:43:00.965Z"
   },
   {
    "duration": 14,
    "start_time": "2024-11-08T21:43:00.976Z"
   },
   {
    "duration": 11,
    "start_time": "2024-11-08T21:43:00.991Z"
   },
   {
    "duration": 43,
    "start_time": "2024-11-08T21:43:01.004Z"
   },
   {
    "duration": 9,
    "start_time": "2024-11-08T21:43:01.052Z"
   },
   {
    "duration": 8,
    "start_time": "2024-11-08T21:43:01.063Z"
   },
   {
    "duration": 163,
    "start_time": "2024-11-08T21:43:01.072Z"
   },
   {
    "duration": 8,
    "start_time": "2024-11-08T21:43:01.237Z"
   },
   {
    "duration": 4,
    "start_time": "2024-11-08T21:43:01.248Z"
   },
   {
    "duration": 3,
    "start_time": "2024-11-08T21:43:01.254Z"
   },
   {
    "duration": 143,
    "start_time": "2024-11-08T21:43:01.259Z"
   },
   {
    "duration": 10,
    "start_time": "2024-11-08T21:43:01.403Z"
   },
   {
    "duration": 234,
    "start_time": "2024-11-08T21:43:01.415Z"
   },
   {
    "duration": 11,
    "start_time": "2024-11-08T21:43:01.651Z"
   },
   {
    "duration": 6,
    "start_time": "2024-11-08T21:43:01.664Z"
   },
   {
    "duration": 175,
    "start_time": "2024-11-08T21:43:01.672Z"
   },
   {
    "duration": 11,
    "start_time": "2024-11-08T21:43:01.849Z"
   },
   {
    "duration": 238,
    "start_time": "2024-11-08T21:43:01.867Z"
   },
   {
    "duration": 11,
    "start_time": "2024-11-08T21:43:02.107Z"
   },
   {
    "duration": 106,
    "start_time": "2024-11-08T21:43:02.119Z"
   },
   {
    "duration": 111,
    "start_time": "2024-11-08T21:43:02.227Z"
   },
   {
    "duration": 6,
    "start_time": "2024-11-08T21:43:02.339Z"
   },
   {
    "duration": 108,
    "start_time": "2024-11-08T21:43:02.347Z"
   },
   {
    "duration": 6,
    "start_time": "2024-11-08T21:43:02.458Z"
   },
   {
    "duration": 16,
    "start_time": "2024-11-08T21:43:02.466Z"
   },
   {
    "duration": 7,
    "start_time": "2024-11-08T21:43:02.484Z"
   },
   {
    "duration": 6,
    "start_time": "2024-11-08T21:43:02.493Z"
   },
   {
    "duration": 7,
    "start_time": "2024-11-08T21:43:02.500Z"
   },
   {
    "duration": 10,
    "start_time": "2024-11-08T21:44:33.055Z"
   },
   {
    "duration": 10,
    "start_time": "2024-11-08T21:45:33.236Z"
   },
   {
    "duration": 9,
    "start_time": "2024-11-08T21:46:06.301Z"
   },
   {
    "duration": 4,
    "start_time": "2024-11-08T21:46:10.932Z"
   },
   {
    "duration": 790,
    "start_time": "2024-11-08T21:46:40.286Z"
   },
   {
    "duration": 11,
    "start_time": "2024-11-08T21:46:41.079Z"
   },
   {
    "duration": 9,
    "start_time": "2024-11-08T21:46:41.093Z"
   },
   {
    "duration": 8,
    "start_time": "2024-11-08T21:46:41.105Z"
   },
   {
    "duration": 5,
    "start_time": "2024-11-08T21:46:41.114Z"
   },
   {
    "duration": 26,
    "start_time": "2024-11-08T21:46:41.120Z"
   },
   {
    "duration": 9,
    "start_time": "2024-11-08T21:46:41.147Z"
   },
   {
    "duration": 8,
    "start_time": "2024-11-08T21:46:41.157Z"
   },
   {
    "duration": 4,
    "start_time": "2024-11-08T21:46:41.167Z"
   },
   {
    "duration": 5,
    "start_time": "2024-11-08T21:46:41.173Z"
   },
   {
    "duration": 9,
    "start_time": "2024-11-08T21:46:41.179Z"
   },
   {
    "duration": 5,
    "start_time": "2024-11-08T21:46:41.190Z"
   },
   {
    "duration": 51,
    "start_time": "2024-11-08T21:46:41.199Z"
   },
   {
    "duration": 6,
    "start_time": "2024-11-08T21:46:41.252Z"
   },
   {
    "duration": 6,
    "start_time": "2024-11-08T21:46:41.259Z"
   },
   {
    "duration": 9,
    "start_time": "2024-11-08T21:46:41.267Z"
   },
   {
    "duration": 11,
    "start_time": "2024-11-08T21:46:41.278Z"
   },
   {
    "duration": 4,
    "start_time": "2024-11-08T21:46:41.292Z"
   },
   {
    "duration": 46,
    "start_time": "2024-11-08T21:46:41.298Z"
   },
   {
    "duration": 3,
    "start_time": "2024-11-08T21:46:41.346Z"
   },
   {
    "duration": 7,
    "start_time": "2024-11-08T21:46:41.351Z"
   },
   {
    "duration": 5,
    "start_time": "2024-11-08T21:46:41.360Z"
   },
   {
    "duration": 7,
    "start_time": "2024-11-08T21:46:41.367Z"
   },
   {
    "duration": 9,
    "start_time": "2024-11-08T21:46:41.376Z"
   },
   {
    "duration": 13,
    "start_time": "2024-11-08T21:46:41.387Z"
   },
   {
    "duration": 50,
    "start_time": "2024-11-08T21:46:41.401Z"
   },
   {
    "duration": 13,
    "start_time": "2024-11-08T21:46:41.453Z"
   },
   {
    "duration": 9,
    "start_time": "2024-11-08T21:46:41.469Z"
   },
   {
    "duration": 8,
    "start_time": "2024-11-08T21:46:41.479Z"
   },
   {
    "duration": 166,
    "start_time": "2024-11-08T21:46:41.489Z"
   },
   {
    "duration": 4,
    "start_time": "2024-11-08T21:46:41.656Z"
   },
   {
    "duration": 5,
    "start_time": "2024-11-08T21:46:41.662Z"
   },
   {
    "duration": 2,
    "start_time": "2024-11-08T21:46:41.669Z"
   },
   {
    "duration": 149,
    "start_time": "2024-11-08T21:46:41.672Z"
   },
   {
    "duration": 11,
    "start_time": "2024-11-08T21:46:41.823Z"
   },
   {
    "duration": 249,
    "start_time": "2024-11-08T21:46:41.835Z"
   },
   {
    "duration": 9,
    "start_time": "2024-11-08T21:46:42.086Z"
   },
   {
    "duration": 7,
    "start_time": "2024-11-08T21:46:42.097Z"
   },
   {
    "duration": 182,
    "start_time": "2024-11-08T21:46:42.105Z"
   },
   {
    "duration": 11,
    "start_time": "2024-11-08T21:46:42.293Z"
   },
   {
    "duration": 295,
    "start_time": "2024-11-08T21:46:42.306Z"
   },
   {
    "duration": 11,
    "start_time": "2024-11-08T21:46:42.603Z"
   },
   {
    "duration": 108,
    "start_time": "2024-11-08T21:46:42.615Z"
   },
   {
    "duration": 101,
    "start_time": "2024-11-08T21:46:42.725Z"
   },
   {
    "duration": 5,
    "start_time": "2024-11-08T21:46:42.828Z"
   },
   {
    "duration": 104,
    "start_time": "2024-11-08T21:46:42.843Z"
   },
   {
    "duration": 6,
    "start_time": "2024-11-08T21:46:42.949Z"
   },
   {
    "duration": 20,
    "start_time": "2024-11-08T21:46:42.957Z"
   },
   {
    "duration": 6,
    "start_time": "2024-11-08T21:46:42.979Z"
   },
   {
    "duration": 6,
    "start_time": "2024-11-08T21:46:42.987Z"
   },
   {
    "duration": 5,
    "start_time": "2024-11-08T21:46:42.995Z"
   },
   {
    "duration": 2514,
    "start_time": "2024-11-11T21:38:41.276Z"
   },
   {
    "duration": 20,
    "start_time": "2024-11-11T21:38:43.792Z"
   },
   {
    "duration": 9,
    "start_time": "2024-11-11T21:38:43.813Z"
   },
   {
    "duration": 8,
    "start_time": "2024-11-11T21:38:43.824Z"
   },
   {
    "duration": 6,
    "start_time": "2024-11-11T21:38:43.834Z"
   },
   {
    "duration": 4,
    "start_time": "2024-11-11T21:38:43.842Z"
   },
   {
    "duration": 7,
    "start_time": "2024-11-11T21:38:43.847Z"
   },
   {
    "duration": 8,
    "start_time": "2024-11-11T21:38:43.856Z"
   },
   {
    "duration": 5,
    "start_time": "2024-11-11T21:38:43.865Z"
   },
   {
    "duration": 17,
    "start_time": "2024-11-11T21:38:43.913Z"
   },
   {
    "duration": 10,
    "start_time": "2024-11-11T21:38:43.932Z"
   },
   {
    "duration": 6,
    "start_time": "2024-11-11T21:38:43.943Z"
   },
   {
    "duration": 8,
    "start_time": "2024-11-11T21:38:43.951Z"
   },
   {
    "duration": 5,
    "start_time": "2024-11-11T21:38:43.961Z"
   },
   {
    "duration": 4,
    "start_time": "2024-11-11T21:38:43.968Z"
   },
   {
    "duration": 8,
    "start_time": "2024-11-11T21:38:43.973Z"
   },
   {
    "duration": 11,
    "start_time": "2024-11-11T21:38:44.011Z"
   },
   {
    "duration": 4,
    "start_time": "2024-11-11T21:38:44.024Z"
   },
   {
    "duration": 12,
    "start_time": "2024-11-11T21:38:44.030Z"
   },
   {
    "duration": 4,
    "start_time": "2024-11-11T21:38:44.044Z"
   },
   {
    "duration": 11,
    "start_time": "2024-11-11T21:38:44.050Z"
   },
   {
    "duration": 5,
    "start_time": "2024-11-11T21:38:44.063Z"
   },
   {
    "duration": 47,
    "start_time": "2024-11-11T21:38:44.070Z"
   },
   {
    "duration": 10,
    "start_time": "2024-11-11T21:38:44.119Z"
   },
   {
    "duration": 14,
    "start_time": "2024-11-11T21:38:44.130Z"
   },
   {
    "duration": 12,
    "start_time": "2024-11-11T21:38:44.146Z"
   },
   {
    "duration": 10,
    "start_time": "2024-11-11T21:38:44.159Z"
   },
   {
    "duration": 10,
    "start_time": "2024-11-11T21:38:44.211Z"
   },
   {
    "duration": 9,
    "start_time": "2024-11-11T21:38:44.222Z"
   },
   {
    "duration": 152,
    "start_time": "2024-11-11T21:38:44.234Z"
   },
   {
    "duration": 4,
    "start_time": "2024-11-11T21:38:44.389Z"
   },
   {
    "duration": 4,
    "start_time": "2024-11-11T21:38:44.394Z"
   },
   {
    "duration": 2,
    "start_time": "2024-11-11T21:38:44.412Z"
   },
   {
    "duration": 132,
    "start_time": "2024-11-11T21:38:44.416Z"
   },
   {
    "duration": 10,
    "start_time": "2024-11-11T21:38:44.550Z"
   },
   {
    "duration": 227,
    "start_time": "2024-11-11T21:38:44.562Z"
   },
   {
    "duration": 21,
    "start_time": "2024-11-11T21:38:44.791Z"
   },
   {
    "duration": 8,
    "start_time": "2024-11-11T21:38:44.813Z"
   },
   {
    "duration": 181,
    "start_time": "2024-11-11T21:38:44.823Z"
   },
   {
    "duration": 12,
    "start_time": "2024-11-11T21:38:45.006Z"
   },
   {
    "duration": 244,
    "start_time": "2024-11-11T21:38:45.019Z"
   },
   {
    "duration": 11,
    "start_time": "2024-11-11T21:38:45.265Z"
   },
   {
    "duration": 106,
    "start_time": "2024-11-11T21:38:45.278Z"
   },
   {
    "duration": 108,
    "start_time": "2024-11-11T21:38:45.385Z"
   },
   {
    "duration": 17,
    "start_time": "2024-11-11T21:38:45.495Z"
   },
   {
    "duration": 153,
    "start_time": "2024-11-11T21:38:45.514Z"
   },
   {
    "duration": 5,
    "start_time": "2024-11-11T21:38:45.669Z"
   },
   {
    "duration": 16,
    "start_time": "2024-11-11T21:38:45.675Z"
   },
   {
    "duration": 8,
    "start_time": "2024-11-11T21:38:45.711Z"
   },
   {
    "duration": 4,
    "start_time": "2024-11-11T21:38:45.721Z"
   },
   {
    "duration": 5,
    "start_time": "2024-11-11T21:38:45.727Z"
   },
   {
    "duration": 132,
    "start_time": "2024-11-11T22:12:36.918Z"
   },
   {
    "duration": 2514,
    "start_time": "2024-11-11T23:41:53.439Z"
   },
   {
    "duration": 24,
    "start_time": "2024-11-11T23:41:55.956Z"
   },
   {
    "duration": 11,
    "start_time": "2024-11-11T23:41:55.981Z"
   },
   {
    "duration": 9,
    "start_time": "2024-11-11T23:41:55.994Z"
   },
   {
    "duration": 6,
    "start_time": "2024-11-11T23:41:56.004Z"
   },
   {
    "duration": 13,
    "start_time": "2024-11-11T23:41:56.011Z"
   },
   {
    "duration": 10,
    "start_time": "2024-11-11T23:41:56.025Z"
   },
   {
    "duration": 10,
    "start_time": "2024-11-11T23:41:56.036Z"
   },
   {
    "duration": 4,
    "start_time": "2024-11-11T23:41:56.048Z"
   },
   {
    "duration": 5,
    "start_time": "2024-11-11T23:41:56.056Z"
   },
   {
    "duration": 10,
    "start_time": "2024-11-11T23:41:56.063Z"
   },
   {
    "duration": 5,
    "start_time": "2024-11-11T23:41:56.075Z"
   },
   {
    "duration": 48,
    "start_time": "2024-11-11T23:41:56.082Z"
   },
   {
    "duration": 5,
    "start_time": "2024-11-11T23:41:56.132Z"
   },
   {
    "duration": 5,
    "start_time": "2024-11-11T23:41:56.138Z"
   },
   {
    "duration": 9,
    "start_time": "2024-11-11T23:41:56.145Z"
   },
   {
    "duration": 10,
    "start_time": "2024-11-11T23:41:56.156Z"
   },
   {
    "duration": 4,
    "start_time": "2024-11-11T23:41:56.167Z"
   },
   {
    "duration": 8,
    "start_time": "2024-11-11T23:41:56.173Z"
   },
   {
    "duration": 4,
    "start_time": "2024-11-11T23:41:56.183Z"
   },
   {
    "duration": 45,
    "start_time": "2024-11-11T23:41:56.188Z"
   },
   {
    "duration": 10,
    "start_time": "2024-11-11T23:41:56.235Z"
   },
   {
    "duration": 12,
    "start_time": "2024-11-11T23:41:56.248Z"
   },
   {
    "duration": 12,
    "start_time": "2024-11-11T23:41:56.262Z"
   },
   {
    "duration": 19,
    "start_time": "2024-11-11T23:41:56.276Z"
   },
   {
    "duration": 37,
    "start_time": "2024-11-11T23:41:56.297Z"
   },
   {
    "duration": 12,
    "start_time": "2024-11-11T23:41:56.336Z"
   },
   {
    "duration": 9,
    "start_time": "2024-11-11T23:41:56.354Z"
   },
   {
    "duration": 8,
    "start_time": "2024-11-11T23:41:56.365Z"
   },
   {
    "duration": 176,
    "start_time": "2024-11-11T23:41:56.375Z"
   },
   {
    "duration": 142,
    "start_time": "2024-11-11T23:41:56.553Z"
   },
   {
    "duration": 4,
    "start_time": "2024-11-11T23:41:56.697Z"
   },
   {
    "duration": 4,
    "start_time": "2024-11-11T23:41:56.703Z"
   },
   {
    "duration": 23,
    "start_time": "2024-11-11T23:41:56.709Z"
   },
   {
    "duration": 256,
    "start_time": "2024-11-11T23:41:56.735Z"
   },
   {
    "duration": 6,
    "start_time": "2024-11-11T23:41:56.992Z"
   },
   {
    "duration": 0,
    "start_time": "2024-11-11T23:41:56.999Z"
   },
   {
    "duration": 0,
    "start_time": "2024-11-11T23:41:57.001Z"
   },
   {
    "duration": 0,
    "start_time": "2024-11-11T23:41:57.002Z"
   },
   {
    "duration": 0,
    "start_time": "2024-11-11T23:41:57.003Z"
   },
   {
    "duration": 0,
    "start_time": "2024-11-11T23:41:57.005Z"
   },
   {
    "duration": 0,
    "start_time": "2024-11-11T23:41:57.006Z"
   },
   {
    "duration": 0,
    "start_time": "2024-11-11T23:41:57.007Z"
   },
   {
    "duration": 0,
    "start_time": "2024-11-11T23:41:57.024Z"
   },
   {
    "duration": 0,
    "start_time": "2024-11-11T23:41:57.025Z"
   },
   {
    "duration": 0,
    "start_time": "2024-11-11T23:41:57.026Z"
   },
   {
    "duration": 0,
    "start_time": "2024-11-11T23:41:57.027Z"
   },
   {
    "duration": 0,
    "start_time": "2024-11-11T23:41:57.029Z"
   },
   {
    "duration": 0,
    "start_time": "2024-11-11T23:41:57.030Z"
   },
   {
    "duration": 0,
    "start_time": "2024-11-11T23:41:57.031Z"
   },
   {
    "duration": 0,
    "start_time": "2024-11-11T23:41:57.032Z"
   },
   {
    "duration": 11,
    "start_time": "2024-11-11T23:43:16.858Z"
   },
   {
    "duration": 6,
    "start_time": "2024-11-11T23:43:18.940Z"
   },
   {
    "duration": 158,
    "start_time": "2024-11-11T23:43:19.742Z"
   },
   {
    "duration": 13,
    "start_time": "2024-11-11T23:43:22.312Z"
   },
   {
    "duration": 241,
    "start_time": "2024-11-11T23:43:24.248Z"
   },
   {
    "duration": 10,
    "start_time": "2024-11-11T23:43:30.239Z"
   },
   {
    "duration": 142,
    "start_time": "2024-11-11T23:43:34.578Z"
   },
   {
    "duration": 170,
    "start_time": "2024-11-11T23:43:36.708Z"
   },
   {
    "duration": 6,
    "start_time": "2024-11-11T23:43:39.134Z"
   },
   {
    "duration": 112,
    "start_time": "2024-11-11T23:43:41.121Z"
   },
   {
    "duration": 4,
    "start_time": "2024-11-11T23:43:43.119Z"
   },
   {
    "duration": 17,
    "start_time": "2024-11-11T23:43:49.862Z"
   },
   {
    "duration": 8,
    "start_time": "2024-11-11T23:43:53.693Z"
   },
   {
    "duration": 5,
    "start_time": "2024-11-11T23:44:00.166Z"
   },
   {
    "duration": 6,
    "start_time": "2024-11-11T23:44:02.828Z"
   },
   {
    "duration": 14,
    "start_time": "2024-11-11T23:56:33.934Z"
   },
   {
    "duration": 9,
    "start_time": "2024-11-11T23:56:44.824Z"
   },
   {
    "duration": 6,
    "start_time": "2024-11-11T23:56:50.605Z"
   },
   {
    "duration": 232,
    "start_time": "2024-11-12T00:40:13.573Z"
   },
   {
    "duration": 228,
    "start_time": "2024-11-12T00:40:19.913Z"
   },
   {
    "duration": 11,
    "start_time": "2024-11-12T00:50:57.024Z"
   },
   {
    "duration": 91,
    "start_time": "2024-11-12T00:52:08.512Z"
   },
   {
    "duration": 107,
    "start_time": "2024-11-12T00:52:24.197Z"
   },
   {
    "duration": 6,
    "start_time": "2024-11-12T01:07:37.834Z"
   },
   {
    "duration": 5,
    "start_time": "2024-11-12T01:18:18.908Z"
   },
   {
    "duration": 2499,
    "start_time": "2024-11-12T18:15:39.791Z"
   },
   {
    "duration": 17,
    "start_time": "2024-11-12T18:15:42.292Z"
   },
   {
    "duration": 9,
    "start_time": "2024-11-12T18:15:42.310Z"
   },
   {
    "duration": 9,
    "start_time": "2024-11-12T18:15:42.320Z"
   },
   {
    "duration": 5,
    "start_time": "2024-11-12T18:15:42.332Z"
   },
   {
    "duration": 5,
    "start_time": "2024-11-12T18:15:42.339Z"
   },
   {
    "duration": 7,
    "start_time": "2024-11-12T18:15:42.345Z"
   },
   {
    "duration": 8,
    "start_time": "2024-11-12T18:15:42.354Z"
   },
   {
    "duration": 5,
    "start_time": "2024-11-12T18:15:42.364Z"
   },
   {
    "duration": 6,
    "start_time": "2024-11-12T18:15:42.412Z"
   },
   {
    "duration": 10,
    "start_time": "2024-11-12T18:15:42.420Z"
   },
   {
    "duration": 6,
    "start_time": "2024-11-12T18:15:42.432Z"
   },
   {
    "duration": 8,
    "start_time": "2024-11-12T18:15:42.439Z"
   },
   {
    "duration": 5,
    "start_time": "2024-11-12T18:15:42.450Z"
   },
   {
    "duration": 5,
    "start_time": "2024-11-12T18:15:42.456Z"
   },
   {
    "duration": 50,
    "start_time": "2024-11-12T18:15:42.462Z"
   },
   {
    "duration": 10,
    "start_time": "2024-11-12T18:15:42.514Z"
   },
   {
    "duration": 4,
    "start_time": "2024-11-12T18:15:42.526Z"
   },
   {
    "duration": 10,
    "start_time": "2024-11-12T18:15:42.531Z"
   },
   {
    "duration": 3,
    "start_time": "2024-11-12T18:15:42.543Z"
   },
   {
    "duration": 8,
    "start_time": "2024-11-12T18:15:42.548Z"
   },
   {
    "duration": 5,
    "start_time": "2024-11-12T18:15:42.557Z"
   },
   {
    "duration": 49,
    "start_time": "2024-11-12T18:15:42.564Z"
   },
   {
    "duration": 10,
    "start_time": "2024-11-12T18:15:42.614Z"
   },
   {
    "duration": 14,
    "start_time": "2024-11-12T18:15:42.626Z"
   },
   {
    "duration": 11,
    "start_time": "2024-11-12T18:15:42.642Z"
   },
   {
    "duration": 11,
    "start_time": "2024-11-12T18:15:42.654Z"
   },
   {
    "duration": 44,
    "start_time": "2024-11-12T18:15:42.667Z"
   },
   {
    "duration": 10,
    "start_time": "2024-11-12T18:15:42.713Z"
   },
   {
    "duration": 153,
    "start_time": "2024-11-12T18:15:42.725Z"
   },
   {
    "duration": 146,
    "start_time": "2024-11-12T18:15:42.880Z"
   },
   {
    "duration": 4,
    "start_time": "2024-11-12T18:15:43.028Z"
   },
   {
    "duration": 4,
    "start_time": "2024-11-12T18:15:43.034Z"
   },
   {
    "duration": 11,
    "start_time": "2024-11-12T18:15:43.039Z"
   },
   {
    "duration": 244,
    "start_time": "2024-11-12T18:15:43.051Z"
   },
   {
    "duration": 18,
    "start_time": "2024-11-12T18:15:43.298Z"
   },
   {
    "duration": 7,
    "start_time": "2024-11-12T18:15:43.318Z"
   },
   {
    "duration": 170,
    "start_time": "2024-11-12T18:15:43.326Z"
   },
   {
    "duration": 11,
    "start_time": "2024-11-12T18:15:43.498Z"
   },
   {
    "duration": 226,
    "start_time": "2024-11-12T18:15:43.511Z"
   },
   {
    "duration": 10,
    "start_time": "2024-11-12T18:15:43.742Z"
   },
   {
    "duration": 106,
    "start_time": "2024-11-12T18:15:43.753Z"
   },
   {
    "duration": 110,
    "start_time": "2024-11-12T18:15:43.860Z"
   },
   {
    "duration": 5,
    "start_time": "2024-11-12T18:15:43.972Z"
   },
   {
    "duration": 172,
    "start_time": "2024-11-12T18:15:43.978Z"
   },
   {
    "duration": 4,
    "start_time": "2024-11-12T18:15:44.152Z"
   },
   {
    "duration": 16,
    "start_time": "2024-11-12T18:15:44.158Z"
   },
   {
    "duration": 7,
    "start_time": "2024-11-12T18:15:44.175Z"
   },
   {
    "duration": 30,
    "start_time": "2024-11-12T18:15:44.183Z"
   },
   {
    "duration": 6,
    "start_time": "2024-11-12T18:15:44.215Z"
   },
   {
    "duration": 17,
    "start_time": "2024-11-12T18:32:27.252Z"
   },
   {
    "duration": 16,
    "start_time": "2024-11-12T18:36:30.203Z"
   },
   {
    "duration": 21,
    "start_time": "2024-11-12T18:36:38.228Z"
   },
   {
    "duration": 18,
    "start_time": "2024-11-12T18:36:45.524Z"
   },
   {
    "duration": 8,
    "start_time": "2024-11-12T18:37:08.749Z"
   },
   {
    "duration": 9,
    "start_time": "2024-11-13T15:39:49.326Z"
   },
   {
    "duration": 5,
    "start_time": "2024-11-13T15:43:36.569Z"
   }
  ],
  "kernelspec": {
   "display_name": "Python 3 (ipykernel)",
   "language": "python",
   "name": "python3"
  },
  "language_info": {
   "codemirror_mode": {
    "name": "ipython",
    "version": 3
   },
   "file_extension": ".py",
   "mimetype": "text/x-python",
   "name": "python",
   "nbconvert_exporter": "python",
   "pygments_lexer": "ipython3",
   "version": "3.12.4"
  },
  "toc": {
   "base_numbering": 1,
   "nav_menu": {},
   "number_sections": true,
   "sideBar": true,
   "skip_h1_title": true,
   "title_cell": "Table of Contents",
   "title_sidebar": "Contents",
   "toc_cell": false,
   "toc_position": {},
   "toc_section_display": true,
   "toc_window_display": false
  }
 },
 "nbformat": 4,
 "nbformat_minor": 4
}
